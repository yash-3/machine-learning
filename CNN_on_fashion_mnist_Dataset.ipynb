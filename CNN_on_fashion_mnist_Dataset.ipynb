{
  "nbformat": 4,
  "nbformat_minor": 0,
  "metadata": {
    "colab": {
      "name": "CNN on fashion_mnist Dataset.ipynb",
      "provenance": [],
      "collapsed_sections": [],
      "authorship_tag": "ABX9TyONM9UfJe0TkcTNhP+MkBQA",
      "include_colab_link": true
    },
    "kernelspec": {
      "name": "python3",
      "display_name": "Python 3"
    },
    "language_info": {
      "name": "python"
    }
  },
  "cells": [
    {
      "cell_type": "markdown",
      "metadata": {
        "id": "view-in-github",
        "colab_type": "text"
      },
      "source": [
        "<a href=\"https://colab.research.google.com/github/yash-3/machine-learning/blob/main/CNN_on_fashion_mnist_Dataset.ipynb\" target=\"_parent\"><img src=\"https://colab.research.google.com/assets/colab-badge.svg\" alt=\"Open In Colab\"/></a>"
      ]
    },
    {
      "cell_type": "code",
      "metadata": {
        "id": "ZRu9ndDu3Asu"
      },
      "source": [
        "import numpy as np\n",
        "import numpy.random as nr\n",
        "import matplotlib.pyplot as plt\n",
        "import keras\n",
        "from keras.datasets import mnist\n",
        "import keras.utils.np_utils as ku\n",
        "import keras.models as models\n",
        "import keras.layers as layers\n",
        "from keras import regularizers\n",
        "from keras.layers import Dropout\n",
        "#from keras.optimizers import rmsprop, Adam\n",
        "from keras.utils import to_categorical\n",
        "\n",
        "%matplotlib inline"
      ],
      "execution_count": null,
      "outputs": []
    },
    {
      "cell_type": "code",
      "metadata": {
        "id": "sHFZSQyh0-SP"
      },
      "source": [
        "import tensorflow as tf"
      ],
      "execution_count": null,
      "outputs": []
    },
    {
      "cell_type": "code",
      "metadata": {
        "id": "YxnOb8v4qr0A"
      },
      "source": [
        "from tensorflow.keras.models import Sequential\n",
        "from tensorflow.keras.layers import Dense, Dropout, Activation, Flatten\n",
        "from tensorflow.keras.layers import Conv2D"
      ],
      "execution_count": null,
      "outputs": []
    },
    {
      "cell_type": "code",
      "metadata": {
        "id": "LzSDhVWy-aQm",
        "colab": {
          "base_uri": "https://localhost:8080/"
        },
        "outputId": "13db69bf-4ad9-487a-8b36-b9b96a81c592"
      },
      "source": [
        "print(keras.__version__)"
      ],
      "execution_count": null,
      "outputs": [
        {
          "output_type": "stream",
          "text": [
            "2.4.3\n"
          ],
          "name": "stdout"
        }
      ]
    },
    {
      "cell_type": "code",
      "metadata": {
        "id": "YakI7Ba7sXzK",
        "colab": {
          "base_uri": "https://localhost:8080/"
        },
        "outputId": "f5415c29-f107-4ff9-b7a6-eb7657b01f18"
      },
      "source": [
        "from keras.datasets import fashion_mnist\n",
        "(train_X,train_Y), (test_X,test_Y) = fashion_mnist.load_data()"
      ],
      "execution_count": null,
      "outputs": [
        {
          "output_type": "stream",
          "text": [
            "Downloading data from https://storage.googleapis.com/tensorflow/tf-keras-datasets/train-labels-idx1-ubyte.gz\n",
            "32768/29515 [=================================] - 0s 0us/step\n",
            "Downloading data from https://storage.googleapis.com/tensorflow/tf-keras-datasets/train-images-idx3-ubyte.gz\n",
            "26427392/26421880 [==============================] - 0s 0us/step\n",
            "Downloading data from https://storage.googleapis.com/tensorflow/tf-keras-datasets/t10k-labels-idx1-ubyte.gz\n",
            "8192/5148 [===============================================] - 0s 0us/step\n",
            "Downloading data from https://storage.googleapis.com/tensorflow/tf-keras-datasets/t10k-images-idx3-ubyte.gz\n",
            "4423680/4422102 [==============================] - 0s 0us/step\n"
          ],
          "name": "stdout"
        }
      ]
    },
    {
      "cell_type": "code",
      "metadata": {
        "id": "pnCjBjAZsYRm",
        "colab": {
          "base_uri": "https://localhost:8080/",
          "height": 282
        },
        "outputId": "bb93d39f-df06-474e-8486-acc845a32c0e"
      },
      "source": [
        "plt.imshow(train_X[10])\n",
        "print(train_Y[10])"
      ],
      "execution_count": null,
      "outputs": [
        {
          "output_type": "stream",
          "text": [
            "0\n"
          ],
          "name": "stdout"
        },
        {
          "output_type": "display_data",
          "data": {
            "image/png": "[encoded data removed]",
            "text/plain": [
              "<Figure size 432x288 with 1 Axes>"
            ]
          },
          "metadata": {
            "tags": [],
            "needs_background": "light"
          }
        }
      ]
    },
    {
      "cell_type": "code",
      "metadata": {
        "id": "ulwHlSfsscfW",
        "colab": {
          "base_uri": "https://localhost:8080/"
        },
        "outputId": "99027ae1-8cb4-4e38-bbfe-0a8be3ddd245"
      },
      "source": [
        "print('Training data shape : ', train_X.shape, train_Y.shape)\n",
        "\n",
        "print('Testing data shape : ', test_X.shape, test_Y.shape)"
      ],
      "execution_count": null,
      "outputs": [
        {
          "output_type": "stream",
          "text": [
            "Training data shape :  (60000, 28, 28) (60000,)\n",
            "Testing data shape :  (10000, 28, 28) (10000,)\n"
          ],
          "name": "stdout"
        }
      ]
    },
    {
      "cell_type": "code",
      "metadata": {
        "id": "ftBOT74FtVac",
        "colab": {
          "base_uri": "https://localhost:8080/"
        },
        "outputId": "2ab70e31-0a5b-4ef6-9356-8f1414cfb25c"
      },
      "source": [
        "classes = np.unique(train_Y)\n",
        "nClasses = len(classes)\n",
        "print('Total number of outputs : ', nClasses)\n",
        "print('Output classes : ', classes)"
      ],
      "execution_count": null,
      "outputs": [
        {
          "output_type": "stream",
          "text": [
            "Total number of outputs :  10\n",
            "Output classes :  [0 1 2 3 4 5 6 7 8 9]\n"
          ],
          "name": "stdout"
        }
      ]
    },
    {
      "cell_type": "code",
      "metadata": {
        "id": "NroQGKObttH8",
        "colab": {
          "base_uri": "https://localhost:8080/",
          "height": 208
        },
        "outputId": "91616d74-b4c3-47a2-b64b-1ee48f7ca5c4"
      },
      "source": [
        "plt.figure(figsize=[5,5])\n",
        "\n",
        "# Display the first image in training data\n",
        "plt.subplot(121)\n",
        "plt.imshow(train_X[0,:,:], cmap='gray')\n",
        "plt.title(\"Ground Truth : {}\".format(train_Y[0]))\n",
        "\n",
        "# Display the first image in testing data\n",
        "plt.subplot(122)\n",
        "plt.imshow(test_X[0,:,:], cmap='gray')\n",
        "plt.title(\"Ground Truth : {}\".format(test_Y[0]))"
      ],
      "execution_count": null,
      "outputs": [
        {
          "output_type": "execute_result",
          "data": {
            "text/plain": [
              "Text(0.5, 1.0, 'Ground Truth : 9')"
            ]
          },
          "metadata": {
            "tags": []
          },
          "execution_count": 10
        },
        {
          "output_type": "display_data",
          "data": {
            "image/png": "[encoded data removed]",
            "text/plain": [
              "<Figure size 360x360 with 2 Axes>"
            ]
          },
          "metadata": {
            "tags": [],
            "needs_background": "light"
          }
        }
      ]
    },
    {
      "cell_type": "code",
      "metadata": {
        "id": "NBy1GiTRtyoq",
        "colab": {
          "base_uri": "https://localhost:8080/"
        },
        "outputId": "54f397ec-1f22-4541-ef1c-57c0faffca2a"
      },
      "source": [
        "train_X = train_X.reshape(-1, 28,28, 1)\n",
        "test_X = test_X.reshape(-1, 28,28, 1)\n",
        "train_X.shape, test_X.shape"
      ],
      "execution_count": null,
      "outputs": [
        {
          "output_type": "execute_result",
          "data": {
            "text/plain": [
              "((60000, 28, 28, 1), (10000, 28, 28, 1))"
            ]
          },
          "metadata": {
            "tags": []
          },
          "execution_count": 11
        }
      ]
    },
    {
      "cell_type": "code",
      "metadata": {
        "id": "Yv5yRt1WtzpD"
      },
      "source": [
        "train_X = train_X.astype('float32')\n",
        "test_X = test_X.astype('float32')\n",
        "train_X = train_X / 255.\n",
        "test_X = test_X / 255"
      ],
      "execution_count": null,
      "outputs": []
    },
    {
      "cell_type": "code",
      "metadata": {
        "id": "VJ3Q9FeMuCPl",
        "colab": {
          "base_uri": "https://localhost:8080/"
        },
        "outputId": "2b462f44-b9be-4377-f25e-1ffd23019e86"
      },
      "source": [
        "# Change the labels from categorical to one-hot encoding\n",
        "train_Y_one_hot = to_categorical(train_Y)\n",
        "test_Y_one_hot = to_categorical(test_Y)\n",
        "\n",
        "# Display the change for category label using one-hot encoding\n",
        "print('Original label:', train_Y[0])\n",
        "print('After conversion to one-hot:', train_Y_one_hot[0])"
      ],
      "execution_count": null,
      "outputs": [
        {
          "output_type": "stream",
          "text": [
            "Original label: 9\n",
            "After conversion to one-hot: [0. 0. 0. 0. 0. 0. 0. 0. 0. 1.]\n"
          ],
          "name": "stdout"
        }
      ]
    },
    {
      "cell_type": "code",
      "metadata": {
        "id": "0_985YVcuDAW"
      },
      "source": [
        "from sklearn.model_selection import train_test_split\n",
        "train_X,valid_X,train_label,valid_label = train_test_split(train_X, train_Y_one_hot, test_size=0.2, random_state=13)"
      ],
      "execution_count": null,
      "outputs": []
    },
    {
      "cell_type": "code",
      "metadata": {
        "id": "8EKJMWjzuDrM",
        "colab": {
          "base_uri": "https://localhost:8080/"
        },
        "outputId": "7011f0f2-5811-4d99-b3d1-d0daa6579726"
      },
      "source": [
        "train_X.shape,valid_X.shape,train_label.shape,valid_label.shape\n"
      ],
      "execution_count": null,
      "outputs": [
        {
          "output_type": "execute_result",
          "data": {
            "text/plain": [
              "((48000, 28, 28, 1), (12000, 28, 28, 1), (48000, 10), (12000, 10))"
            ]
          },
          "metadata": {
            "tags": []
          },
          "execution_count": 15
        }
      ]
    },
    {
      "cell_type": "code",
      "metadata": {
        "id": "YxOnVwxFuEDX"
      },
      "source": [
        "import keras\n",
        "from keras.models import Sequential,Input,Model\n",
        "from keras.layers import Dense, Dropout, Flatten\n",
        "from keras.layers import Conv2D, MaxPooling2D\n",
        "from keras.layers.normalization import BatchNormalization\n",
        "from keras.layers.advanced_activations import LeakyReLU"
      ],
      "execution_count": null,
      "outputs": []
    },
    {
      "cell_type": "code",
      "metadata": {
        "id": "6n1qXoxUzzbI"
      },
      "source": [
        "batch_size = 64\n",
        "epochs = 20\n",
        "num_classes = 10"
      ],
      "execution_count": null,
      "outputs": []
    },
    {
      "cell_type": "code",
      "metadata": {
        "id": "OYAeGKfeA_6C"
      },
      "source": [
        "import keras\n",
        "import keras.models as models"
      ],
      "execution_count": null,
      "outputs": []
    },
    {
      "cell_type": "code",
      "metadata": {
        "id": "D0mbucEa0b5V",
        "colab": {
          "base_uri": "https://localhost:8080/"
        },
        "outputId": "be35e830-714c-4e5a-ef5e-b3984e0a4482"
      },
      "source": [
        "train_X.shape[1:]"
      ],
      "execution_count": null,
      "outputs": [
        {
          "output_type": "execute_result",
          "data": {
            "text/plain": [
              "(28, 28, 1)"
            ]
          },
          "metadata": {
            "tags": []
          },
          "execution_count": 19
        }
      ]
    },
    {
      "cell_type": "code",
      "metadata": {
        "id": "SnYey_i0z8aq"
      },
      "source": [
        "model = tf.keras.Sequential()"
      ],
      "execution_count": null,
      "outputs": []
    },
    {
      "cell_type": "code",
      "metadata": {
        "id": "jR9z9JatsOD1"
      },
      "source": [
        "model.add(tf.keras.layers.Conv2D(32,(3,3),activation='linear',input_shape=(28, 28,1),padding='same'))\n",
        "model.add(tf.keras.layers.LeakyReLU(alpha=0.1))\n",
        "model.add(tf.keras.layers.MaxPooling2D((2, 2),padding='same'))\n"
      ],
      "execution_count": null,
      "outputs": []
    },
    {
      "cell_type": "code",
      "metadata": {
        "id": "BlRWESGTvMo6"
      },
      "source": [
        "model.add(tf.keras.layers.Conv2D(64, (3, 3), activation='linear',padding='same'))\n",
        "model.add(tf.keras.layers.LeakyReLU(alpha=0.1))\n",
        "model.add(tf.keras.layers.MaxPooling2D(pool_size=(2, 2),padding='same'))\n",
        "model.add(tf.keras.layers.Conv2D(128, (3, 3), activation='linear',padding='same'))\n",
        "model.add(tf.keras.layers.LeakyReLU(alpha=0.1))                  \n",
        "model.add(tf.keras.layers.MaxPooling2D(pool_size=(2, 2),padding='same'))\n"
      ],
      "execution_count": null,
      "outputs": []
    },
    {
      "cell_type": "code",
      "metadata": {
        "id": "1URzrx2Xvmpo"
      },
      "source": [
        "model.add(tf.keras.layers.Flatten())"
      ],
      "execution_count": null,
      "outputs": []
    },
    {
      "cell_type": "code",
      "metadata": {
        "id": "iS549nNBFdYo"
      },
      "source": [
        "model.add(tf.keras.layers.Dense(128, activation='linear'))\n",
        "model.add(tf.keras.layers.LeakyReLU(alpha=0.1))                  \n",
        "model.add(tf.keras.layers.Dense(num_classes, activation='softmax'))"
      ],
      "execution_count": null,
      "outputs": []
    },
    {
      "cell_type": "code",
      "metadata": {
        "id": "GdOqY2RUI9vS"
      },
      "source": [
        "model.compile(loss=tf.keras.losses.categorical_crossentropy, optimizer=tf.keras.optimizers.Adam(),metrics=['accuracy'])\n"
      ],
      "execution_count": null,
      "outputs": []
    },
    {
      "cell_type": "code",
      "metadata": {
        "id": "VWQmyQ-hxAaa",
        "colab": {
          "base_uri": "https://localhost:8080/"
        },
        "outputId": "93f37b51-dec8-4987-a6ff-58e6a9709882"
      },
      "source": [
        "model.summary()\n"
      ],
      "execution_count": null,
      "outputs": [
        {
          "output_type": "stream",
          "text": [
            "Model: \"sequential\"\n",
            "_________________________________________________________________\n",
            "Layer (type)                 Output Shape              Param #   \n",
            "=================================================================\n",
            "conv2d (Conv2D)              (None, 28, 28, 32)        320       \n",
            "_________________________________________________________________\n",
            "leaky_re_lu (LeakyReLU)      (None, 28, 28, 32)        0         \n",
            "_________________________________________________________________\n",
            "max_pooling2d (MaxPooling2D) (None, 14, 14, 32)        0         \n",
            "_________________________________________________________________\n",
            "conv2d_1 (Conv2D)            (None, 14, 14, 64)        18496     \n",
            "_________________________________________________________________\n",
            "leaky_re_lu_1 (LeakyReLU)    (None, 14, 14, 64)        0         \n",
            "_________________________________________________________________\n",
            "max_pooling2d_1 (MaxPooling2 (None, 7, 7, 64)          0         \n",
            "_________________________________________________________________\n",
            "conv2d_2 (Conv2D)            (None, 7, 7, 128)         73856     \n",
            "_________________________________________________________________\n",
            "leaky_re_lu_2 (LeakyReLU)    (None, 7, 7, 128)         0         \n",
            "_________________________________________________________________\n",
            "max_pooling2d_2 (MaxPooling2 (None, 4, 4, 128)         0         \n",
            "_________________________________________________________________\n",
            "flatten (Flatten)            (None, 2048)              0         \n",
            "_________________________________________________________________\n",
            "dense (Dense)                (None, 128)               262272    \n",
            "_________________________________________________________________\n",
            "leaky_re_lu_3 (LeakyReLU)    (None, 128)               0         \n",
            "_________________________________________________________________\n",
            "dense_1 (Dense)              (None, 10)                1290      \n",
            "=================================================================\n",
            "Total params: 356,234\n",
            "Trainable params: 356,234\n",
            "Non-trainable params: 0\n",
            "_________________________________________________________________\n"
          ],
          "name": "stdout"
        }
      ]
    },
    {
      "cell_type": "code",
      "metadata": {
        "id": "ZT8bQWyexRxD",
        "colab": {
          "base_uri": "https://localhost:8080/"
        },
        "outputId": "456a77a3-99e2-46ad-d913-36c363dd0e3c"
      },
      "source": [
        "model_train=model.fit(train_X, train_label, batch_size=64,epochs=20,verbose=1,validation_data=(valid_X, valid_label))"
      ],
      "execution_count": null,
      "outputs": [
        {
          "output_type": "stream",
          "text": [
            "Epoch 1/20\n",
            "750/750 [==============================] - 85s 112ms/step - loss: 0.6945 - accuracy: 0.7453 - val_loss: 0.3342 - val_accuracy: 0.8813\n",
            "Epoch 2/20\n",
            "750/750 [==============================] - 84s 112ms/step - loss: 0.2889 - accuracy: 0.8946 - val_loss: 0.2625 - val_accuracy: 0.9064\n",
            "Epoch 3/20\n",
            "750/750 [==============================] - 84s 112ms/step - loss: 0.2400 - accuracy: 0.9127 - val_loss: 0.2386 - val_accuracy: 0.9105\n",
            "Epoch 4/20\n",
            "750/750 [==============================] - 84s 112ms/step - loss: 0.2065 - accuracy: 0.9242 - val_loss: 0.2482 - val_accuracy: 0.9116\n",
            "Epoch 5/20\n",
            "750/750 [==============================] - 84s 112ms/step - loss: 0.1796 - accuracy: 0.9331 - val_loss: 0.2332 - val_accuracy: 0.9142\n",
            "Epoch 6/20\n",
            "750/750 [==============================] - 84s 112ms/step - loss: 0.1546 - accuracy: 0.9420 - val_loss: 0.2162 - val_accuracy: 0.9233\n",
            "Epoch 7/20\n",
            "750/750 [==============================] - 84s 112ms/step - loss: 0.1320 - accuracy: 0.9503 - val_loss: 0.2440 - val_accuracy: 0.9138\n",
            "Epoch 8/20\n",
            "750/750 [==============================] - 84s 112ms/step - loss: 0.1103 - accuracy: 0.9585 - val_loss: 0.2460 - val_accuracy: 0.9187\n",
            "Epoch 9/20\n",
            "750/750 [==============================] - 84s 112ms/step - loss: 0.0962 - accuracy: 0.9645 - val_loss: 0.2543 - val_accuracy: 0.9193\n",
            "Epoch 10/20\n",
            "750/750 [==============================] - 84s 112ms/step - loss: 0.0805 - accuracy: 0.9697 - val_loss: 0.2659 - val_accuracy: 0.9207\n",
            "Epoch 11/20\n",
            "750/750 [==============================] - 84s 112ms/step - loss: 0.0700 - accuracy: 0.9738 - val_loss: 0.3077 - val_accuracy: 0.9153\n",
            "Epoch 12/20\n",
            "750/750 [==============================] - 84s 112ms/step - loss: 0.0586 - accuracy: 0.9788 - val_loss: 0.3019 - val_accuracy: 0.9195\n",
            "Epoch 13/20\n",
            "750/750 [==============================] - 84s 112ms/step - loss: 0.0456 - accuracy: 0.9833 - val_loss: 0.3380 - val_accuracy: 0.9196\n",
            "Epoch 14/20\n",
            "750/750 [==============================] - 84s 112ms/step - loss: 0.0445 - accuracy: 0.9835 - val_loss: 0.3777 - val_accuracy: 0.9140\n",
            "Epoch 15/20\n",
            "750/750 [==============================] - 84s 112ms/step - loss: 0.0409 - accuracy: 0.9854 - val_loss: 0.3888 - val_accuracy: 0.9162\n",
            "Epoch 16/20\n",
            "750/750 [==============================] - 84s 112ms/step - loss: 0.0426 - accuracy: 0.9845 - val_loss: 0.3890 - val_accuracy: 0.9216\n",
            "Epoch 17/20\n",
            "750/750 [==============================] - 84s 112ms/step - loss: 0.0318 - accuracy: 0.9886 - val_loss: 0.3567 - val_accuracy: 0.9178\n",
            "Epoch 18/20\n",
            "750/750 [==============================] - 84s 112ms/step - loss: 0.0302 - accuracy: 0.9891 - val_loss: 0.4124 - val_accuracy: 0.9172\n",
            "Epoch 19/20\n",
            "750/750 [==============================] - 84s 112ms/step - loss: 0.0290 - accuracy: 0.9897 - val_loss: 0.4296 - val_accuracy: 0.9209\n",
            "Epoch 20/20\n",
            "750/750 [==============================] - 84s 112ms/step - loss: 0.0288 - accuracy: 0.9891 - val_loss: 0.4600 - val_accuracy: 0.9212\n"
          ],
          "name": "stdout"
        }
      ]
    },
    {
      "cell_type": "code",
      "metadata": {
        "id": "_1usdDpMzV7w",
        "colab": {
          "base_uri": "https://localhost:8080/"
        },
        "outputId": "1d6e3efa-16c8-48f7-8e28-cbc5b42cd77c"
      },
      "source": [
        "test_eval = model.evaluate(test_X, test_Y_one_hot, verbose=0)\n",
        "print('Test loss:', test_eval[0])\n",
        "print('Test accuracy:', test_eval[1])"
      ],
      "execution_count": null,
      "outputs": [
        {
          "output_type": "stream",
          "text": [
            "Test loss: 0.504413902759552\n",
            "Test accuracy: 0.9160000085830688\n"
          ],
          "name": "stdout"
        }
      ]
    },
    {
      "cell_type": "code",
      "metadata": {
        "id": "rCuGlP0FM21q",
        "colab": {
          "base_uri": "https://localhost:8080/"
        },
        "outputId": "42d79bb6-6630-47e5-cef5-1e57eaec122e"
      },
      "source": [
        "model_train.history"
      ],
      "execution_count": null,
      "outputs": [
        {
          "output_type": "execute_result",
          "data": {
            "text/plain": [
              "{'accuracy': [0.8297500014305115,\n",
              "  0.8971666693687439,\n",
              "  0.9129166603088379,\n",
              "  0.9240624904632568,\n",
              "  0.9322291612625122,\n",
              "  0.9419166445732117,\n",
              "  0.9481874704360962,\n",
              "  0.9557708501815796,\n",
              "  0.9620000123977661,\n",
              "  0.9672291874885559,\n",
              "  0.9721249938011169,\n",
              "  0.9765625,\n",
              "  0.9804166555404663,\n",
              "  0.9830833077430725,\n",
              "  0.984541654586792,\n",
              "  0.9836666584014893,\n",
              "  0.9867083430290222,\n",
              "  0.9871875047683716,\n",
              "  0.9879791736602783,\n",
              "  0.9890000224113464],\n",
              " 'loss': [0.4689140319824219,\n",
              "  0.28244006633758545,\n",
              "  0.23673315346240997,\n",
              "  0.20610250532627106,\n",
              "  0.18004769086837769,\n",
              "  0.1557571142911911,\n",
              "  0.1361820101737976,\n",
              "  0.11710382997989655,\n",
              "  0.10062021017074585,\n",
              "  0.08530933409929276,\n",
              "  0.07381764054298401,\n",
              "  0.06206976994872093,\n",
              "  0.05188076198101044,\n",
              "  0.04646473750472069,\n",
              "  0.042264070361852646,\n",
              "  0.04338633269071579,\n",
              "  0.03646472096443176,\n",
              "  0.03452564403414726,\n",
              "  0.03269040584564209,\n",
              "  0.029320642352104187],\n",
              " 'val_accuracy': [0.8812500238418579,\n",
              "  0.906416654586792,\n",
              "  0.9104999899864197,\n",
              "  0.9115833044052124,\n",
              "  0.9141666889190674,\n",
              "  0.9233333468437195,\n",
              "  0.9138333201408386,\n",
              "  0.918749988079071,\n",
              "  0.9192500114440918,\n",
              "  0.9206666946411133,\n",
              "  0.9152500033378601,\n",
              "  0.9194999933242798,\n",
              "  0.9195833206176758,\n",
              "  0.9139999747276306,\n",
              "  0.9161666631698608,\n",
              "  0.921583354473114,\n",
              "  0.9178333282470703,\n",
              "  0.9171666502952576,\n",
              "  0.9209166765213013,\n",
              "  0.9211666584014893],\n",
              " 'val_loss': [0.33418500423431396,\n",
              "  0.26249560713768005,\n",
              "  0.2386401742696762,\n",
              "  0.2482450008392334,\n",
              "  0.23320944607257843,\n",
              "  0.21623219549655914,\n",
              "  0.24396319687366486,\n",
              "  0.24597971141338348,\n",
              "  0.25430071353912354,\n",
              "  0.265892893075943,\n",
              "  0.3077399730682373,\n",
              "  0.3018507957458496,\n",
              "  0.33795639872550964,\n",
              "  0.37769636511802673,\n",
              "  0.388772577047348,\n",
              "  0.38900771737098694,\n",
              "  0.35674020648002625,\n",
              "  0.41239824891090393,\n",
              "  0.4295921325683594,\n",
              "  0.4599746763706207]}"
            ]
          },
          "metadata": {
            "tags": []
          },
          "execution_count": 29
        }
      ]
    },
    {
      "cell_type": "code",
      "metadata": {
        "id": "LCLs5XIJ5Sxe",
        "colab": {
          "base_uri": "https://localhost:8080/",
          "height": 545
        },
        "outputId": "418391f4-2d5c-4126-f2b8-8ab9ac3fcb06"
      },
      "source": [
        "accuracy = model_train.history['accuracy']\n",
        "val_accuracy = model_train.history['val_accuracy']\n",
        "loss = model_train.history['loss']\n",
        "val_loss = model_train.history['val_loss']\n",
        "epochs = range(len(accuracy))\n",
        "plt.plot(epochs, accuracy, 'bo', label='Training accuracy')\n",
        "plt.plot(epochs, val_accuracy, 'b', label='Validation accuracy')\n",
        "plt.title('Training and validation accuracy')\n",
        "plt.legend()\n",
        "plt.figure()\n",
        "plt.plot(epochs, loss, 'bo', label='Training loss')\n",
        "plt.plot(epochs, val_loss, 'b', label='Validation loss')\n",
        "plt.title('Training and validation loss')\n",
        "plt.legend()\n",
        "plt.show()"
      ],
      "execution_count": null,
      "outputs": [
        {
          "output_type": "display_data",
          "data": {
            "image/png": "[encoded data removed]",
            "text/plain": [
              "<Figure size 432x288 with 1 Axes>"
            ]
          },
          "metadata": {
            "tags": [],
            "needs_background": "light"
          }
        },
        {
          "output_type": "display_data",
          "data": {
            "image/png": "[encoded data removed]",
            "text/plain": [
              "<Figure size 432x288 with 1 Axes>"
            ]
          },
          "metadata": {
            "tags": [],
            "needs_background": "light"
          }
        }
      ]
    },
    {
      "cell_type": "code",
      "metadata": {
        "id": "sO8JBbEH58Si"
      },
      "source": [
        "fashion_model = tf.keras.Sequential()\n",
        "fashion_model.add(tf.keras.layers.Conv2D(32, kernel_size=(3, 3),activation='linear',padding='same',input_shape=(28,28,1)))\n",
        "fashion_model.add(tf.keras.layers.LeakyReLU(alpha=0.1))\n",
        "fashion_model.add(tf.keras.layers.MaxPooling2D((2, 2),padding='same'))\n",
        "fashion_model.add(tf.keras.layers.Dropout(0.25))\n",
        "fashion_model.add(tf.keras.layers.Conv2D(64, (3, 3), activation='linear',padding='same'))\n",
        "fashion_model.add(tf.keras.layers.LeakyReLU(alpha=0.1))\n",
        "fashion_model.add(tf.keras.layers.MaxPooling2D(pool_size=(2, 2),padding='same'))\n",
        "fashion_model.add(tf.keras.layers.Dropout(0.25))\n",
        "fashion_model.add(tf.keras.layers.Conv2D(128, (3, 3), activation='linear',padding='same'))\n",
        "fashion_model.add(tf.keras.layers.LeakyReLU(alpha=0.1))                  \n",
        "fashion_model.add(tf.keras.layers.MaxPooling2D(pool_size=(2, 2),padding='same'))\n",
        "fashion_model.add(tf.keras.layers.Dropout(0.4))\n",
        "fashion_model.add(tf.keras.layers.Flatten())\n",
        "fashion_model.add(tf.keras.layers.Dense(128, activation='linear'))\n",
        "fashion_model.add(tf.keras.layers.LeakyReLU(alpha=0.1))           \n",
        "fashion_model.add(tf.keras.layers.Dropout(0.3))\n",
        "fashion_model.add(tf.keras.layers.Dense(num_classes, activation='softmax'))"
      ],
      "execution_count": null,
      "outputs": []
    },
    {
      "cell_type": "code",
      "metadata": {
        "id": "c9bDpu9K7G3C",
        "colab": {
          "base_uri": "https://localhost:8080/"
        },
        "outputId": "477e5fe4-4a62-4baf-81a4-607451d6139d"
      },
      "source": [
        "fashion_model.summary()\n"
      ],
      "execution_count": null,
      "outputs": [
        {
          "output_type": "stream",
          "text": [
            "Model: \"sequential_1\"\n",
            "_________________________________________________________________\n",
            "Layer (type)                 Output Shape              Param #   \n",
            "=================================================================\n",
            "conv2d_3 (Conv2D)            (None, 28, 28, 32)        320       \n",
            "_________________________________________________________________\n",
            "leaky_re_lu_4 (LeakyReLU)    (None, 28, 28, 32)        0         \n",
            "_________________________________________________________________\n",
            "max_pooling2d_3 (MaxPooling2 (None, 14, 14, 32)        0         \n",
            "_________________________________________________________________\n",
            "dropout (Dropout)            (None, 14, 14, 32)        0         \n",
            "_________________________________________________________________\n",
            "conv2d_4 (Conv2D)            (None, 14, 14, 64)        18496     \n",
            "_________________________________________________________________\n",
            "leaky_re_lu_5 (LeakyReLU)    (None, 14, 14, 64)        0         \n",
            "_________________________________________________________________\n",
            "max_pooling2d_4 (MaxPooling2 (None, 7, 7, 64)          0         \n",
            "_________________________________________________________________\n",
            "dropout_1 (Dropout)          (None, 7, 7, 64)          0         \n",
            "_________________________________________________________________\n",
            "conv2d_5 (Conv2D)            (None, 7, 7, 128)         73856     \n",
            "_________________________________________________________________\n",
            "leaky_re_lu_6 (LeakyReLU)    (None, 7, 7, 128)         0         \n",
            "_________________________________________________________________\n",
            "max_pooling2d_5 (MaxPooling2 (None, 4, 4, 128)         0         \n",
            "_________________________________________________________________\n",
            "dropout_2 (Dropout)          (None, 4, 4, 128)         0         \n",
            "_________________________________________________________________\n",
            "flatten_1 (Flatten)          (None, 2048)              0         \n",
            "_________________________________________________________________\n",
            "dense_2 (Dense)              (None, 128)               262272    \n",
            "_________________________________________________________________\n",
            "leaky_re_lu_7 (LeakyReLU)    (None, 128)               0         \n",
            "_________________________________________________________________\n",
            "dropout_3 (Dropout)          (None, 128)               0         \n",
            "_________________________________________________________________\n",
            "dense_3 (Dense)              (None, 10)                1290      \n",
            "=================================================================\n",
            "Total params: 356,234\n",
            "Trainable params: 356,234\n",
            "Non-trainable params: 0\n",
            "_________________________________________________________________\n"
          ],
          "name": "stdout"
        }
      ]
    },
    {
      "cell_type": "code",
      "metadata": {
        "id": "dQh_myf17JZS"
      },
      "source": [
        "fashion_model.compile(loss=tf.keras.losses.categorical_crossentropy, optimizer=tf.keras.optimizers.Adam(),metrics=['accuracy'])\n"
      ],
      "execution_count": null,
      "outputs": []
    },
    {
      "cell_type": "code",
      "metadata": {
        "id": "6GpDULM37MQD",
        "colab": {
          "base_uri": "https://localhost:8080/"
        },
        "outputId": "f9eb2731-5f9e-44d7-bbe8-84d259e7eba8"
      },
      "source": [
        "fashion_train_dropout = fashion_model.fit(train_X, train_label, batch_size=64,epochs=20,verbose=1,validation_data=(valid_X, valid_label))"
      ],
      "execution_count": null,
      "outputs": [
        {
          "output_type": "stream",
          "text": [
            "Epoch 1/20\n",
            "750/750 [==============================] - 90s 120ms/step - loss: 0.8470 - accuracy: 0.6836 - val_loss: 0.3779 - val_accuracy: 0.8622\n",
            "Epoch 2/20\n",
            "750/750 [==============================] - 89s 119ms/step - loss: 0.3880 - accuracy: 0.8580 - val_loss: 0.3154 - val_accuracy: 0.8851\n",
            "Epoch 3/20\n",
            "750/750 [==============================] - 90s 120ms/step - loss: 0.3268 - accuracy: 0.8792 - val_loss: 0.2979 - val_accuracy: 0.8893\n",
            "Epoch 4/20\n",
            "750/750 [==============================] - 90s 120ms/step - loss: 0.2972 - accuracy: 0.8883 - val_loss: 0.2728 - val_accuracy: 0.8987\n",
            "Epoch 5/20\n",
            "750/750 [==============================] - 90s 119ms/step - loss: 0.2806 - accuracy: 0.8960 - val_loss: 0.2423 - val_accuracy: 0.9092\n",
            "Epoch 6/20\n",
            "750/750 [==============================] - 89s 119ms/step - loss: 0.2654 - accuracy: 0.9014 - val_loss: 0.2349 - val_accuracy: 0.9136\n",
            "Epoch 7/20\n",
            "750/750 [==============================] - 89s 119ms/step - loss: 0.2574 - accuracy: 0.9040 - val_loss: 0.2374 - val_accuracy: 0.9126\n",
            "Epoch 8/20\n",
            "750/750 [==============================] - 89s 119ms/step - loss: 0.2428 - accuracy: 0.9099 - val_loss: 0.2311 - val_accuracy: 0.9154\n",
            "Epoch 9/20\n",
            "750/750 [==============================] - 89s 119ms/step - loss: 0.2400 - accuracy: 0.9099 - val_loss: 0.2351 - val_accuracy: 0.9124\n",
            "Epoch 10/20\n",
            "750/750 [==============================] - 89s 119ms/step - loss: 0.2273 - accuracy: 0.9131 - val_loss: 0.2206 - val_accuracy: 0.9173\n",
            "Epoch 11/20\n",
            "750/750 [==============================] - 90s 119ms/step - loss: 0.2256 - accuracy: 0.9156 - val_loss: 0.2145 - val_accuracy: 0.9226\n",
            "Epoch 12/20\n",
            "750/750 [==============================] - 89s 119ms/step - loss: 0.2223 - accuracy: 0.9161 - val_loss: 0.2144 - val_accuracy: 0.9207\n",
            "Epoch 13/20\n",
            "750/750 [==============================] - 89s 119ms/step - loss: 0.2136 - accuracy: 0.9204 - val_loss: 0.2190 - val_accuracy: 0.9198\n",
            "Epoch 14/20\n",
            "750/750 [==============================] - 90s 120ms/step - loss: 0.2161 - accuracy: 0.9196 - val_loss: 0.2174 - val_accuracy: 0.9231\n",
            "Epoch 15/20\n",
            "750/750 [==============================] - 90s 120ms/step - loss: 0.2085 - accuracy: 0.9219 - val_loss: 0.2046 - val_accuracy: 0.9241\n",
            "Epoch 16/20\n",
            "750/750 [==============================] - 90s 120ms/step - loss: 0.1954 - accuracy: 0.9267 - val_loss: 0.2222 - val_accuracy: 0.9171\n",
            "Epoch 17/20\n",
            "750/750 [==============================] - 90s 119ms/step - loss: 0.2009 - accuracy: 0.9228 - val_loss: 0.2194 - val_accuracy: 0.9208\n",
            "Epoch 18/20\n",
            "750/750 [==============================] - 89s 119ms/step - loss: 0.2018 - accuracy: 0.9245 - val_loss: 0.2053 - val_accuracy: 0.9262\n",
            "Epoch 19/20\n",
            "750/750 [==============================] - 90s 120ms/step - loss: 0.2024 - accuracy: 0.9220 - val_loss: 0.2099 - val_accuracy: 0.9260\n",
            "Epoch 20/20\n",
            "750/750 [==============================] - 90s 120ms/step - loss: 0.1939 - accuracy: 0.9282 - val_loss: 0.2078 - val_accuracy: 0.9259\n"
          ],
          "name": "stdout"
        }
      ]
    },
    {
      "cell_type": "code",
      "metadata": {
        "id": "6sOCptVl7POZ",
        "colab": {
          "base_uri": "https://localhost:8080/"
        },
        "outputId": "5011450d-7f96-4b48-ca7a-88d1396ccfa4"
      },
      "source": [
        "fashion_model.save(\"fashion_model_dropout.h5py\")"
      ],
      "execution_count": null,
      "outputs": [
        {
          "output_type": "stream",
          "text": [
            "INFO:tensorflow:Assets written to: fashion_model_dropout.h5py/assets\n"
          ],
          "name": "stdout"
        }
      ]
    },
    {
      "cell_type": "code",
      "metadata": {
        "id": "LRkmrduA7V9d",
        "colab": {
          "base_uri": "https://localhost:8080/"
        },
        "outputId": "dfe91c27-0750-4548-983a-4e49f1587688"
      },
      "source": [
        "test_eval = fashion_model.evaluate(test_X, test_Y_one_hot, verbose=1)\n"
      ],
      "execution_count": null,
      "outputs": [
        {
          "output_type": "stream",
          "text": [
            "313/313 [==============================] - 6s 18ms/step - loss: 0.2267 - accuracy: 0.9196\n"
          ],
          "name": "stdout"
        }
      ]
    },
    {
      "cell_type": "code",
      "metadata": {
        "id": "HejOWax37YKV",
        "colab": {
          "base_uri": "https://localhost:8080/"
        },
        "outputId": "fb328145-a148-46cb-dc54-a52781cec788"
      },
      "source": [
        "print('Test loss:', test_eval[0])\n",
        "print('Test accuracy:', test_eval[1])"
      ],
      "execution_count": null,
      "outputs": [
        {
          "output_type": "stream",
          "text": [
            "Test loss: 0.22674678266048431\n",
            "Test accuracy: 0.9196000099182129\n"
          ],
          "name": "stdout"
        }
      ]
    },
    {
      "cell_type": "code",
      "metadata": {
        "id": "AY34tiTq7aAu",
        "colab": {
          "base_uri": "https://localhost:8080/",
          "height": 545
        },
        "outputId": "97a7bfa8-6b37-481d-cf58-d7d52f30796c"
      },
      "source": [
        "accuracy = fashion_train_dropout.history['accuracy']\n",
        "val_accuracy = fashion_train_dropout.history['val_accuracy']\n",
        "loss = fashion_train_dropout.history['loss']\n",
        "val_loss = fashion_train_dropout.history['val_loss']\n",
        "epochs = range(len(accuracy))\n",
        "plt.plot(epochs, accuracy, 'bo', label='Training accuracy')\n",
        "plt.plot(epochs, val_accuracy, 'b', label='Validation accuracy')\n",
        "plt.title('Training and validation accuracy')\n",
        "plt.legend()\n",
        "plt.figure()\n",
        "plt.plot(epochs, loss, 'bo', label='Training loss')\n",
        "plt.plot(epochs, val_loss, 'b', label='Validation loss')\n",
        "plt.title('Training and validation loss')\n",
        "plt.legend()\n",
        "plt.show()"
      ],
      "execution_count": null,
      "outputs": [
        {
          "output_type": "display_data",
          "data": {
            "image/png": "[encoded data removed]",
            "text/plain": [
              "<Figure size 432x288 with 1 Axes>"
            ]
          },
          "metadata": {
            "tags": [],
            "needs_background": "light"
          }
        },
        {
          "output_type": "display_data",
          "data": {
            "image/png": "[encoded data removed]",
            "text/plain": [
              "<Figure size 432x288 with 1 Axes>"
            ]
          },
          "metadata": {
            "tags": [],
            "needs_background": "light"
          }
        }
      ]
    },
    {
      "cell_type": "code",
      "metadata": {
        "id": "wrWQlPcd7c_w"
      },
      "source": [
        "predicted_classes = fashion_model.predict(test_X)\n"
      ],
      "execution_count": null,
      "outputs": []
    },
    {
      "cell_type": "code",
      "metadata": {
        "id": "nfIGrvQ47fki"
      },
      "source": [
        "predicted_classes = np.argmax(np.round(predicted_classes),axis=1)\n"
      ],
      "execution_count": null,
      "outputs": []
    },
    {
      "cell_type": "code",
      "metadata": {
        "id": "ZbbqfO177haN",
        "colab": {
          "base_uri": "https://localhost:8080/",
          "height": 314
        },
        "outputId": "bd0ca146-e1f3-46ae-9c0e-01a7c4d626d0"
      },
      "source": [
        "correct = np.where(predicted_classes==test_Y)[0]\n",
        "print (\"Found %d correct labels\" % len(correct))\n",
        "for i, correct in enumerate(correct[:9]):\n",
        "    plt.subplot(3,3,i+1)\n",
        "    plt.imshow(test_X[correct].reshape(28,28), cmap='gray', interpolation='none')\n",
        "    plt.title(\"Predicted {}, Class {}\".format(predicted_classes[correct], test_Y[correct]))\n",
        "    plt.tight_layout()"
      ],
      "execution_count": null,
      "outputs": [
        {
          "output_type": "stream",
          "text": [
            "Found 9162 correct labels\n"
          ],
          "name": "stdout"
        },
        {
          "output_type": "display_data",
          "data": {
            "image/png": "[encoded data removed]",
            "text/plain": [
              "<Figure size 432x288 with 9 Axes>"
            ]
          },
          "metadata": {
            "tags": [],
            "needs_background": "light"
          }
        }
      ]
    },
    {
      "cell_type": "code",
      "metadata": {
        "id": "NZXKuvpE7lGl",
        "colab": {
          "base_uri": "https://localhost:8080/",
          "height": 314
        },
        "outputId": "342409d3-1030-4a77-afe3-07b2f5c0c8d2"
      },
      "source": [
        "incorrect = np.where(predicted_classes!=test_Y)[0]\n",
        "print (\"Found %d incorrect labels\" % len(incorrect))\n",
        "for i, incorrect in enumerate(incorrect[:9]):\n",
        "    plt.subplot(3,3,i+1)\n",
        "    plt.imshow(test_X[incorrect].reshape(28,28), cmap='gray', interpolation='none')\n",
        "    plt.title(\"Predicted {}, Class {}\".format(predicted_classes[incorrect], test_Y[incorrect]))\n",
        "    plt.tight_layout()"
      ],
      "execution_count": null,
      "outputs": [
        {
          "output_type": "stream",
          "text": [
            "Found 838 incorrect labels\n"
          ],
          "name": "stdout"
        },
        {
          "output_type": "display_data",
          "data": {
            "image/png": "[encoded data removed]",
            "text/plain": [
              "<Figure size 432x288 with 9 Axes>"
            ]
          },
          "metadata": {
            "tags": [],
            "needs_background": "light"
          }
        }
      ]
    },
    {
      "cell_type": "code",
      "metadata": {
        "id": "vxs2lD107ncR",
        "colab": {
          "base_uri": "https://localhost:8080/"
        },
        "outputId": "915828f2-5e47-49c3-80e0-1e4f0e8f8ae1"
      },
      "source": [
        "from sklearn.metrics import classification_report\n",
        "target_names = [\"Class {}\".format(i) for i in range(num_classes)]\n",
        "print(classification_report(test_Y, predicted_classes, target_names=target_names))"
      ],
      "execution_count": null,
      "outputs": [
        {
          "output_type": "stream",
          "text": [
            "              precision    recall  f1-score   support\n",
            "\n",
            "     Class 0       0.79      0.87      0.83      1000\n",
            "     Class 1       0.99      0.98      0.99      1000\n",
            "     Class 2       0.91      0.85      0.88      1000\n",
            "     Class 3       0.93      0.92      0.92      1000\n",
            "     Class 4       0.85      0.90      0.87      1000\n",
            "     Class 5       0.99      0.98      0.99      1000\n",
            "     Class 6       0.78      0.73      0.75      1000\n",
            "     Class 7       0.95      0.99      0.97      1000\n",
            "     Class 8       0.99      0.98      0.99      1000\n",
            "     Class 9       0.98      0.95      0.97      1000\n",
            "\n",
            "    accuracy                           0.92     10000\n",
            "   macro avg       0.92      0.92      0.92     10000\n",
            "weighted avg       0.92      0.92      0.92     10000\n",
            "\n"
          ],
          "name": "stdout"
        }
      ]
    },
    {
      "cell_type": "code",
      "metadata": {
        "id": "AUM1yZp_7q8O"
      },
      "source": [
        ""
      ],
      "execution_count": null,
      "outputs": []
    }
  ]
}