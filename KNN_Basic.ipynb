{
  "nbformat": 4,
  "nbformat_minor": 0,
  "metadata": {
    "colab": {
      "name": "KNN Basic.ipynb",
      "provenance": [],
      "authorship_tag": "ABX9TyNKk4PsV4XqN/ETxwVV7cQY",
      "include_colab_link": true
    },
    "kernelspec": {
      "name": "python3",
      "display_name": "Python 3"
    }
  },
  "cells": [
    {
      "cell_type": "markdown",
      "metadata": {
        "id": "view-in-github",
        "colab_type": "text"
      },
      "source": [
        "<a href=\"https://colab.research.google.com/github/yash-3/machine-learning/blob/main/KNN_Basic.ipynb\" target=\"_parent\"><img src=\"https://colab.research.google.com/assets/colab-badge.svg\" alt=\"Open In Colab\"/></a>"
      ]
    },
    {
      "cell_type": "markdown",
      "metadata": {
        "id": "8fKvQSf6ojAH"
      },
      "source": [
        "**Task**: Use K-Nearest Neighbour to Identify the class of Flower From Iris Dataset"
      ]
    },
    {
      "cell_type": "code",
      "metadata": {
        "id": "Pm64WnPqpLD-"
      },
      "source": [
        "import numpy as np      #To Prform Numerical Operation\n",
        "import matplotlib.pyplot as plt   #plot something \n",
        "import pandas as pd     #To Play With Dataset\n",
        "import math"
      ],
      "execution_count": 1,
      "outputs": []
    },
    {
      "cell_type": "code",
      "metadata": {
        "id": "pGdrLDT5sU05"
      },
      "source": [
        "# fetch dataset from url\n",
        "url =\"https://archive.ics.uci.edu/ml/machine-learning-databases/iris/iris.data\"\n",
        "names = ['sepal lenght','sepal width','petal length','petal width','class']\n",
        "dataset = pd.read_csv(url,names=names)"
      ],
      "execution_count": 2,
      "outputs": []
    },
    {
      "cell_type": "code",
      "metadata": {
        "id": "8pQmOZgkspai",
        "colab": {
          "base_uri": "https://localhost:8080/",
          "height": 204
        },
        "outputId": "df660e1a-75ca-4947-df3c-5ac21a09ccda"
      },
      "source": [
        "dataset.head()"
      ],
      "execution_count": 3,
      "outputs": [
        {
          "output_type": "execute_result",
          "data": {
            "text/html": [
              "<div>\n",
              "<style scoped>\n",
              "    .dataframe tbody tr th:only-of-type {\n",
              "        vertical-align: middle;\n",
              "    }\n",
              "\n",
              "    .dataframe tbody tr th {\n",
              "        vertical-align: top;\n",
              "    }\n",
              "\n",
              "    .dataframe thead th {\n",
              "        text-align: right;\n",
              "    }\n",
              "</style>\n",
              "<table border=\"1\" class=\"dataframe\">\n",
              "  <thead>\n",
              "    <tr style=\"text-align: right;\">\n",
              "      <th></th>\n",
              "      <th>sepal lenght</th>\n",
              "      <th>sepal width</th>\n",
              "      <th>petal length</th>\n",
              "      <th>petal width</th>\n",
              "      <th>class</th>\n",
              "    </tr>\n",
              "  </thead>\n",
              "  <tbody>\n",
              "    <tr>\n",
              "      <th>0</th>\n",
              "      <td>5.1</td>\n",
              "      <td>3.5</td>\n",
              "      <td>1.4</td>\n",
              "      <td>0.2</td>\n",
              "      <td>Iris-setosa</td>\n",
              "    </tr>\n",
              "    <tr>\n",
              "      <th>1</th>\n",
              "      <td>4.9</td>\n",
              "      <td>3.0</td>\n",
              "      <td>1.4</td>\n",
              "      <td>0.2</td>\n",
              "      <td>Iris-setosa</td>\n",
              "    </tr>\n",
              "    <tr>\n",
              "      <th>2</th>\n",
              "      <td>4.7</td>\n",
              "      <td>3.2</td>\n",
              "      <td>1.3</td>\n",
              "      <td>0.2</td>\n",
              "      <td>Iris-setosa</td>\n",
              "    </tr>\n",
              "    <tr>\n",
              "      <th>3</th>\n",
              "      <td>4.6</td>\n",
              "      <td>3.1</td>\n",
              "      <td>1.5</td>\n",
              "      <td>0.2</td>\n",
              "      <td>Iris-setosa</td>\n",
              "    </tr>\n",
              "    <tr>\n",
              "      <th>4</th>\n",
              "      <td>5.0</td>\n",
              "      <td>3.6</td>\n",
              "      <td>1.4</td>\n",
              "      <td>0.2</td>\n",
              "      <td>Iris-setosa</td>\n",
              "    </tr>\n",
              "  </tbody>\n",
              "</table>\n",
              "</div>"
            ],
            "text/plain": [
              "   sepal lenght  sepal width  petal length  petal width        class\n",
              "0           5.1          3.5           1.4          0.2  Iris-setosa\n",
              "1           4.9          3.0           1.4          0.2  Iris-setosa\n",
              "2           4.7          3.2           1.3          0.2  Iris-setosa\n",
              "3           4.6          3.1           1.5          0.2  Iris-setosa\n",
              "4           5.0          3.6           1.4          0.2  Iris-setosa"
            ]
          },
          "metadata": {
            "tags": []
          },
          "execution_count": 3
        }
      ]
    },
    {
      "cell_type": "code",
      "metadata": {
        "colab": {
          "base_uri": "https://localhost:8080/",
          "height": 204
        },
        "id": "MiNMSDTJtNG4",
        "outputId": "8ec2d88f-bed3-465f-966d-f041c848e4ac"
      },
      "source": [
        "dataset.tail()"
      ],
      "execution_count": 4,
      "outputs": [
        {
          "output_type": "execute_result",
          "data": {
            "text/html": [
              "<div>\n",
              "<style scoped>\n",
              "    .dataframe tbody tr th:only-of-type {\n",
              "        vertical-align: middle;\n",
              "    }\n",
              "\n",
              "    .dataframe tbody tr th {\n",
              "        vertical-align: top;\n",
              "    }\n",
              "\n",
              "    .dataframe thead th {\n",
              "        text-align: right;\n",
              "    }\n",
              "</style>\n",
              "<table border=\"1\" class=\"dataframe\">\n",
              "  <thead>\n",
              "    <tr style=\"text-align: right;\">\n",
              "      <th></th>\n",
              "      <th>sepal lenght</th>\n",
              "      <th>sepal width</th>\n",
              "      <th>petal length</th>\n",
              "      <th>petal width</th>\n",
              "      <th>class</th>\n",
              "    </tr>\n",
              "  </thead>\n",
              "  <tbody>\n",
              "    <tr>\n",
              "      <th>145</th>\n",
              "      <td>6.7</td>\n",
              "      <td>3.0</td>\n",
              "      <td>5.2</td>\n",
              "      <td>2.3</td>\n",
              "      <td>Iris-virginica</td>\n",
              "    </tr>\n",
              "    <tr>\n",
              "      <th>146</th>\n",
              "      <td>6.3</td>\n",
              "      <td>2.5</td>\n",
              "      <td>5.0</td>\n",
              "      <td>1.9</td>\n",
              "      <td>Iris-virginica</td>\n",
              "    </tr>\n",
              "    <tr>\n",
              "      <th>147</th>\n",
              "      <td>6.5</td>\n",
              "      <td>3.0</td>\n",
              "      <td>5.2</td>\n",
              "      <td>2.0</td>\n",
              "      <td>Iris-virginica</td>\n",
              "    </tr>\n",
              "    <tr>\n",
              "      <th>148</th>\n",
              "      <td>6.2</td>\n",
              "      <td>3.4</td>\n",
              "      <td>5.4</td>\n",
              "      <td>2.3</td>\n",
              "      <td>Iris-virginica</td>\n",
              "    </tr>\n",
              "    <tr>\n",
              "      <th>149</th>\n",
              "      <td>5.9</td>\n",
              "      <td>3.0</td>\n",
              "      <td>5.1</td>\n",
              "      <td>1.8</td>\n",
              "      <td>Iris-virginica</td>\n",
              "    </tr>\n",
              "  </tbody>\n",
              "</table>\n",
              "</div>"
            ],
            "text/plain": [
              "     sepal lenght  sepal width  petal length  petal width           class\n",
              "145           6.7          3.0           5.2          2.3  Iris-virginica\n",
              "146           6.3          2.5           5.0          1.9  Iris-virginica\n",
              "147           6.5          3.0           5.2          2.0  Iris-virginica\n",
              "148           6.2          3.4           5.4          2.3  Iris-virginica\n",
              "149           5.9          3.0           5.1          1.8  Iris-virginica"
            ]
          },
          "metadata": {
            "tags": []
          },
          "execution_count": 4
        }
      ]
    },
    {
      "cell_type": "code",
      "metadata": {
        "colab": {
          "base_uri": "https://localhost:8080/"
        },
        "id": "ToJimHbdthWj",
        "outputId": "8791b2d1-6fea-4bba-adb2-2fbd38a1ccd5"
      },
      "source": [
        "dataset.shape"
      ],
      "execution_count": 5,
      "outputs": [
        {
          "output_type": "execute_result",
          "data": {
            "text/plain": [
              "(150, 5)"
            ]
          },
          "metadata": {
            "tags": []
          },
          "execution_count": 5
        }
      ]
    },
    {
      "cell_type": "code",
      "metadata": {
        "id": "4VuJnXmROgGW"
      },
      "source": [
        "training = dataset.values[:,0:4]"
      ],
      "execution_count": 6,
      "outputs": []
    },
    {
      "cell_type": "code",
      "metadata": {
        "colab": {
          "base_uri": "https://localhost:8080/"
        },
        "id": "NC3x4pmlKZLj",
        "outputId": "57dbcdc5-3f66-4872-9f3e-aeeeed1a815a"
      },
      "source": [
        "training.shape"
      ],
      "execution_count": 7,
      "outputs": [
        {
          "output_type": "execute_result",
          "data": {
            "text/plain": [
              "(150, 4)"
            ]
          },
          "metadata": {
            "tags": []
          },
          "execution_count": 7
        }
      ]
    },
    {
      "cell_type": "code",
      "metadata": {
        "id": "6N4kF92UOgTv"
      },
      "source": [
        "trainingclass = dataset.values[:,-1]"
      ],
      "execution_count": 8,
      "outputs": []
    },
    {
      "cell_type": "code",
      "metadata": {
        "colab": {
          "base_uri": "https://localhost:8080/"
        },
        "id": "Pn4L4YseKkfG",
        "outputId": "426b354f-b110-4ab1-8d8a-c90428e1f878"
      },
      "source": [
        "trainingclass.shape"
      ],
      "execution_count": 9,
      "outputs": [
        {
          "output_type": "execute_result",
          "data": {
            "text/plain": [
              "(150,)"
            ]
          },
          "metadata": {
            "tags": []
          },
          "execution_count": 9
        }
      ]
    },
    {
      "cell_type": "code",
      "metadata": {
        "id": "uOa1D116PTe8"
      },
      "source": [
        "# Calculate Distance between two points using Euclidean distance\n",
        "def euclidean_distance(d1,d2):\n",
        "    distance=0.0\n",
        "    for i in range(len(d1)):\n",
        "        distance+=(d1[i]-d2[i])**2\n",
        "    return math.sqrt(distance)"
      ],
      "execution_count": 10,
      "outputs": []
    },
    {
      "cell_type": "code",
      "metadata": {
        "colab": {
          "base_uri": "https://localhost:8080/"
        },
        "id": "EXQHpmeGPTpV",
        "outputId": "22d975f5-749b-4f04-971b-50aeb1a6fafe"
      },
      "source": [
        "#To convert categorical value to numerical value\n",
        "unique_list=[]\n",
        "for x in trainingclass:\n",
        "    if x not in unique_list:\n",
        "        unique_list.append(x)\n",
        "\n",
        "print(unique_list)\n",
        "\n",
        "for i in range(len(trainingclass)):\n",
        "    for k in range(len(unique_list)):\n",
        "        if(trainingclass[i] == unique_list[k]):\n",
        "            trainingclass[i]=k\n",
        "\n",
        "print(trainingclass)"
      ],
      "execution_count": 11,
      "outputs": [
        {
          "output_type": "stream",
          "text": [
            "['Iris-setosa', 'Iris-versicolor', 'Iris-virginica']\n",
            "[0 0 0 0 0 0 0 0 0 0 0 0 0 0 0 0 0 0 0 0 0 0 0 0 0 0 0 0 0 0 0 0 0 0 0 0 0\n",
            " 0 0 0 0 0 0 0 0 0 0 0 0 0 1 1 1 1 1 1 1 1 1 1 1 1 1 1 1 1 1 1 1 1 1 1 1 1\n",
            " 1 1 1 1 1 1 1 1 1 1 1 1 1 1 1 1 1 1 1 1 1 1 1 1 1 1 2 2 2 2 2 2 2 2 2 2 2\n",
            " 2 2 2 2 2 2 2 2 2 2 2 2 2 2 2 2 2 2 2 2 2 2 2 2 2 2 2 2 2 2 2 2 2 2 2 2 2\n",
            " 2 2]\n"
          ],
          "name": "stdout"
        }
      ]
    },
    {
      "cell_type": "code",
      "metadata": {
        "colab": {
          "base_uri": "https://localhost:8080/"
        },
        "id": "BdjoyVP9PTwV",
        "outputId": "3f7f96c9-5e09-4931-fb9b-eb8d3e69bd8b"
      },
      "source": [
        "# Calculate distance from any one point to other all points\n",
        "distance=[]\n",
        "for i in range(len(training)):\n",
        "    distance.append([euclidean_distance(training[i],training[0]),trainingclass[i]])\n",
        "print(distance)"
      ],
      "execution_count": 12,
      "outputs": [
        {
          "output_type": "stream",
          "text": [
            "[[0.0, 0], [0.5385164807134502, 0], [0.509901951359278, 0], [0.648074069840786, 0], [0.1414213562373093, 0], [0.6164414002968979, 0], [0.5196152422706632, 0], [0.17320508075688762, 0], [0.9219544457292882, 0], [0.4690415759823426, 0], [0.37416573867739483, 0], [0.3741657386773941, 0], [0.5916079783099616, 0], [0.9949874371066197, 0], [0.8831760866327848, 0], [1.1045361017187267, 0], [0.5477225575051664, 0], [0.09999999999999998, 0], [0.7416198487095667, 0], [0.33166247903553986, 0], [0.4358898943540679, 0], [0.30000000000000016, 0], [0.648074069840786, 0], [0.46904157598234303, 0], [0.5916079783099616, 0], [0.5477225575051662, 0], [0.316227766016838, 0], [0.14142135623730995, 0], [0.14142135623730995, 0], [0.53851648071345, 0], [0.5385164807134504, 0], [0.3872983346207423, 0], [0.6244997998398396, 0], [0.8062257748298554, 0], [0.4690415759823426, 0], [0.37416573867739383, 0], [0.41231056256176635, 0], [0.4690415759823426, 0], [0.866025403784438, 0], [0.14142135623730964, 0], [0.17320508075688743, 0], [1.3490737563232043, 0], [0.7681145747868601, 0], [0.45825756949558394, 0], [0.6164414002968975, 0], [0.5916079783099616, 0], [0.3605551275463989, 0], [0.58309518948453, 0], [0.30000000000000027, 0], [0.22360679774997896, 0], [4.003748243833521, 1], [3.6166282640050254, 1], [4.164132562731403, 1], [3.093541659651604, 1], [3.792097045171708, 1], [3.416138170507745, 1], [3.7854986461495406, 1], [2.345207879911715, 1], [3.749666651850535, 1], [2.8879058156387303, 1], [2.703701166919155, 1], [3.228002478313795, 1], [3.146426544510455, 1], [3.7, 1], [2.5806975801127883, 1], [3.627671429443412, 1], [3.4351128074635335, 1], [3.009983388658482, 1], [3.7682887362833544, 1], [2.882707061079915, 1], [3.8535697735995385, 1], [3.0757112998459397, 1], [4.047221268969613, 1], [3.6578682316343767, 1], [3.416138170507745, 1], [3.59722114972099, 1], [4.047221268969612, 1], [4.244997055358225, 1], [3.531288716601915, 1], [2.4939927826679855, 1], [2.8178005607210745, 1], [2.7018512172212596, 1], [2.8948229652260253, 1], [4.135214625627066, 1], [3.411744421846396, 1], [3.5199431813596087, 1], [3.9115214431215897, 1], [3.6180105030251095, 1], [2.9999999999999996, 1], [3.0215889859476257, 1], [3.3120990323358397, 1], [3.59583091927304, 1], [3.0099833886584824, 1], [2.387467277262665, 1], [3.1527765540868895, 1], [3.07408522978788, 1], [3.1256999216175574, 1], [3.3451457367355464, 1], [2.0904544960366875, 1], [3.057776970284131, 1], [5.2848841046895245, 2], [4.208325082500163, 2], [5.301886456724625, 2], [4.690415759823429, 2], [5.056678751908213, 2], [6.0950799830683104, 2], [3.591656999213594, 2], [5.636488268416782, 2], [5.047771785649585, 2], [5.639148871948673, 2], [4.356604182158392, 2], [4.519955751995809, 2], [4.853864439804639, 2], [4.190465367951393, 2], [4.417012565071555, 2], [4.626013402488151, 2], [4.645427859734774, 2], [6.240192304729079, 2], [6.498461356351979, 2], [4.141255848169732, 2], [5.121523210920752, 2], [4.028647415696738, 2], [6.211280061307815, 2], [4.109744517606904, 2], [4.969909455915672, 2], [5.31224999411737, 2], [3.9774363602702683, 2], [4.007492981902776, 2], [4.840454524112379, 2], [5.0970579749498635, 2], [5.546169849544818, 2], [6.014149981501959, 2], [4.880573736764972, 2], [4.160528812542944, 2], [4.570557952810575, 2], [5.788782255362521, 2], [4.891829923454003, 2], [4.606517122512408, 2], [3.8961519477556315, 2], [4.796873982084583, 2], [5.0199601592044525, 2], [4.636809247747852, 2], [4.208325082500163, 2], [5.2573757712379665, 2], [5.136146415358503, 2], [4.654030511288039, 2], [4.27668095606862, 2], [4.459820624195552, 2], [4.650806381693394, 2], [4.1400483088968905, 2]]\n"
          ],
          "name": "stdout"
        }
      ]
    },
    {
      "cell_type": "code",
      "metadata": {
        "colab": {
          "base_uri": "https://localhost:8080/"
        },
        "id": "5KUNvzhFPT45",
        "outputId": "b78326c0-0499-48e9-eff3-a2052de26470"
      },
      "source": [
        "len(distance)"
      ],
      "execution_count": 13,
      "outputs": [
        {
          "output_type": "execute_result",
          "data": {
            "text/plain": [
              "150"
            ]
          },
          "metadata": {
            "tags": []
          },
          "execution_count": 13
        }
      ]
    },
    {
      "cell_type": "code",
      "metadata": {
        "colab": {
          "base_uri": "https://localhost:8080/"
        },
        "id": "lP67lcfhTKsg",
        "outputId": "080bb661-981b-4e3a-a8be-f9eee6a5a4dc"
      },
      "source": [
        "distance.sort()\n",
        "distance"
      ],
      "execution_count": 14,
      "outputs": [
        {
          "output_type": "execute_result",
          "data": {
            "text/plain": [
              "[[0.0, 0],\n",
              " [0.09999999999999998, 0],\n",
              " [0.1414213562373093, 0],\n",
              " [0.14142135623730964, 0],\n",
              " [0.14142135623730995, 0],\n",
              " [0.14142135623730995, 0],\n",
              " [0.17320508075688743, 0],\n",
              " [0.17320508075688762, 0],\n",
              " [0.22360679774997896, 0],\n",
              " [0.30000000000000016, 0],\n",
              " [0.30000000000000027, 0],\n",
              " [0.316227766016838, 0],\n",
              " [0.33166247903553986, 0],\n",
              " [0.3605551275463989, 0],\n",
              " [0.37416573867739383, 0],\n",
              " [0.3741657386773941, 0],\n",
              " [0.37416573867739483, 0],\n",
              " [0.3872983346207423, 0],\n",
              " [0.41231056256176635, 0],\n",
              " [0.4358898943540679, 0],\n",
              " [0.45825756949558394, 0],\n",
              " [0.4690415759823426, 0],\n",
              " [0.4690415759823426, 0],\n",
              " [0.4690415759823426, 0],\n",
              " [0.46904157598234303, 0],\n",
              " [0.509901951359278, 0],\n",
              " [0.5196152422706632, 0],\n",
              " [0.53851648071345, 0],\n",
              " [0.5385164807134502, 0],\n",
              " [0.5385164807134504, 0],\n",
              " [0.5477225575051662, 0],\n",
              " [0.5477225575051664, 0],\n",
              " [0.58309518948453, 0],\n",
              " [0.5916079783099616, 0],\n",
              " [0.5916079783099616, 0],\n",
              " [0.5916079783099616, 0],\n",
              " [0.6164414002968975, 0],\n",
              " [0.6164414002968979, 0],\n",
              " [0.6244997998398396, 0],\n",
              " [0.648074069840786, 0],\n",
              " [0.648074069840786, 0],\n",
              " [0.7416198487095667, 0],\n",
              " [0.7681145747868601, 0],\n",
              " [0.8062257748298554, 0],\n",
              " [0.866025403784438, 0],\n",
              " [0.8831760866327848, 0],\n",
              " [0.9219544457292882, 0],\n",
              " [0.9949874371066197, 0],\n",
              " [1.1045361017187267, 0],\n",
              " [1.3490737563232043, 0],\n",
              " [2.0904544960366875, 1],\n",
              " [2.345207879911715, 1],\n",
              " [2.387467277262665, 1],\n",
              " [2.4939927826679855, 1],\n",
              " [2.5806975801127883, 1],\n",
              " [2.7018512172212596, 1],\n",
              " [2.703701166919155, 1],\n",
              " [2.8178005607210745, 1],\n",
              " [2.882707061079915, 1],\n",
              " [2.8879058156387303, 1],\n",
              " [2.8948229652260253, 1],\n",
              " [2.9999999999999996, 1],\n",
              " [3.009983388658482, 1],\n",
              " [3.0099833886584824, 1],\n",
              " [3.0215889859476257, 1],\n",
              " [3.057776970284131, 1],\n",
              " [3.07408522978788, 1],\n",
              " [3.0757112998459397, 1],\n",
              " [3.093541659651604, 1],\n",
              " [3.1256999216175574, 1],\n",
              " [3.146426544510455, 1],\n",
              " [3.1527765540868895, 1],\n",
              " [3.228002478313795, 1],\n",
              " [3.3120990323358397, 1],\n",
              " [3.3451457367355464, 1],\n",
              " [3.411744421846396, 1],\n",
              " [3.416138170507745, 1],\n",
              " [3.416138170507745, 1],\n",
              " [3.4351128074635335, 1],\n",
              " [3.5199431813596087, 1],\n",
              " [3.531288716601915, 1],\n",
              " [3.591656999213594, 2],\n",
              " [3.59583091927304, 1],\n",
              " [3.59722114972099, 1],\n",
              " [3.6166282640050254, 1],\n",
              " [3.6180105030251095, 1],\n",
              " [3.627671429443412, 1],\n",
              " [3.6578682316343767, 1],\n",
              " [3.7, 1],\n",
              " [3.749666651850535, 1],\n",
              " [3.7682887362833544, 1],\n",
              " [3.7854986461495406, 1],\n",
              " [3.792097045171708, 1],\n",
              " [3.8535697735995385, 1],\n",
              " [3.8961519477556315, 2],\n",
              " [3.9115214431215897, 1],\n",
              " [3.9774363602702683, 2],\n",
              " [4.003748243833521, 1],\n",
              " [4.007492981902776, 2],\n",
              " [4.028647415696738, 2],\n",
              " [4.047221268969612, 1],\n",
              " [4.047221268969613, 1],\n",
              " [4.109744517606904, 2],\n",
              " [4.135214625627066, 1],\n",
              " [4.1400483088968905, 2],\n",
              " [4.141255848169732, 2],\n",
              " [4.160528812542944, 2],\n",
              " [4.164132562731403, 1],\n",
              " [4.190465367951393, 2],\n",
              " [4.208325082500163, 2],\n",
              " [4.208325082500163, 2],\n",
              " [4.244997055358225, 1],\n",
              " [4.27668095606862, 2],\n",
              " [4.356604182158392, 2],\n",
              " [4.417012565071555, 2],\n",
              " [4.459820624195552, 2],\n",
              " [4.519955751995809, 2],\n",
              " [4.570557952810575, 2],\n",
              " [4.606517122512408, 2],\n",
              " [4.626013402488151, 2],\n",
              " [4.636809247747852, 2],\n",
              " [4.645427859734774, 2],\n",
              " [4.650806381693394, 2],\n",
              " [4.654030511288039, 2],\n",
              " [4.690415759823429, 2],\n",
              " [4.796873982084583, 2],\n",
              " [4.840454524112379, 2],\n",
              " [4.853864439804639, 2],\n",
              " [4.880573736764972, 2],\n",
              " [4.891829923454003, 2],\n",
              " [4.969909455915672, 2],\n",
              " [5.0199601592044525, 2],\n",
              " [5.047771785649585, 2],\n",
              " [5.056678751908213, 2],\n",
              " [5.0970579749498635, 2],\n",
              " [5.121523210920752, 2],\n",
              " [5.136146415358503, 2],\n",
              " [5.2573757712379665, 2],\n",
              " [5.2848841046895245, 2],\n",
              " [5.301886456724625, 2],\n",
              " [5.31224999411737, 2],\n",
              " [5.546169849544818, 2],\n",
              " [5.636488268416782, 2],\n",
              " [5.639148871948673, 2],\n",
              " [5.788782255362521, 2],\n",
              " [6.014149981501959, 2],\n",
              " [6.0950799830683104, 2],\n",
              " [6.211280061307815, 2],\n",
              " [6.240192304729079, 2],\n",
              " [6.498461356351979, 2]]"
            ]
          },
          "metadata": {
            "tags": []
          },
          "execution_count": 14
        }
      ]
    },
    {
      "cell_type": "code",
      "metadata": {
        "id": "S5gzqLiRTK5p"
      },
      "source": [
        "nearest_neighbour = 7"
      ],
      "execution_count": 15,
      "outputs": []
    },
    {
      "cell_type": "code",
      "metadata": {
        "colab": {
          "base_uri": "https://localhost:8080/"
        },
        "id": "Uv3WjoqWTLE2",
        "outputId": "fbcc1354-fc80-42ed-a690-a61fa1ead1d3"
      },
      "source": [
        "identify=[0 for i in range(len(unique_list))]\n",
        "for i in range(nearest_neighbour):\n",
        "    identify[distance[i][1]]=identify[distance[i][1]]+1\n",
        "print(identify)\n",
        "\n"
      ],
      "execution_count": 16,
      "outputs": [
        {
          "output_type": "stream",
          "text": [
            "[7, 0, 0]\n"
          ],
          "name": "stdout"
        }
      ]
    },
    {
      "cell_type": "code",
      "metadata": {
        "colab": {
          "base_uri": "https://localhost:8080/"
        },
        "id": "JkeoT2bEUyqc",
        "outputId": "52debd84-c7af-44e1-c203-53b4757dc1b2"
      },
      "source": [
        "print(\"The Predicted Class is : \",unique_list[identify.index(max(identify))])"
      ],
      "execution_count": 17,
      "outputs": [
        {
          "output_type": "stream",
          "text": [
            "The Predicted Class is :  Iris-setosa\n"
          ],
          "name": "stdout"
        }
      ]
    }
  ]
}