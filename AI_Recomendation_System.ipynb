{
  "nbformat": 4,
  "nbformat_minor": 0,
  "metadata": {
    "colab": {
      "name": "AI-Recomendation System.ipynb",
      "provenance": [],
      "collapsed_sections": [],
      "authorship_tag": "ABX9TyNEfv9TpeOV54mdVH7Ivbwo",
      "include_colab_link": true
    },
    "kernelspec": {
      "name": "python3",
      "display_name": "Python 3"
    },
    "language_info": {
      "name": "python"
    }
  },
  "cells": [
    {
      "cell_type": "markdown",
      "metadata": {
        "id": "view-in-github",
        "colab_type": "text"
      },
      "source": [
        "<a href=\"https://colab.research.google.com/github/yash-3/machine-learning/blob/main/AI_Recomendation_System.ipynb\" target=\"_parent\"><img src=\"https://colab.research.google.com/assets/colab-badge.svg\" alt=\"Open In Colab\"/></a>"
      ]
    },
    {
      "cell_type": "code",
      "metadata": {
        "colab": {
          "base_uri": "https://localhost:8080/"
        },
        "id": "teb-ZkWhUt2e",
        "outputId": "62c91988-7328-4547-8e42-e25b30493f69"
      },
      "source": [
        "pip install scikit-surprise"
      ],
      "execution_count": 1,
      "outputs": [
        {
          "output_type": "stream",
          "name": "stdout",
          "text": [
            "Requirement already satisfied: scikit-surprise in /usr/local/lib/python3.7/dist-packages (1.1.1)\n",
            "Requirement already satisfied: six>=1.10.0 in /usr/local/lib/python3.7/dist-packages (from scikit-surprise) (1.15.0)\n",
            "Requirement already satisfied: numpy>=1.11.2 in /usr/local/lib/python3.7/dist-packages (from scikit-surprise) (1.19.5)\n",
            "Requirement already satisfied: joblib>=0.11 in /usr/local/lib/python3.7/dist-packages (from scikit-surprise) (1.0.1)\n",
            "Requirement already satisfied: scipy>=1.0.0 in /usr/local/lib/python3.7/dist-packages (from scikit-surprise) (1.4.1)\n"
          ]
        }
      ]
    },
    {
      "cell_type": "code",
      "metadata": {
        "id": "B-Yi_nPnU4GM"
      },
      "source": [
        "import numpy as np\n",
        "import pandas as pd\n",
        "import matplotlib.pyplot as plt"
      ],
      "execution_count": 2,
      "outputs": []
    },
    {
      "cell_type": "code",
      "metadata": {
        "id": "VM2HzFfRWWzA"
      },
      "source": [
        "from surprise import SVD, KNNBasic, Dataset, Reader, NMF\n",
        "from surprise.model_selection import cross_validate"
      ],
      "execution_count": 3,
      "outputs": []
    },
    {
      "cell_type": "code",
      "metadata": {
        "id": "pGdrLDT5sU05"
      },
      "source": [
        "from google.colab import drive  #import gogle drive data"
      ],
      "execution_count": 4,
      "outputs": []
    },
    {
      "cell_type": "code",
      "metadata": {
        "id": "8pQmOZgkspai",
        "colab": {
          "base_uri": "https://localhost:8080/"
        },
        "outputId": "9d79c3f4-49da-4fe1-9fff-f5aa9f769ce8"
      },
      "source": [
        "drive.mount('/content/drive') # mount drive data into colab cloud and enter authentication code"
      ],
      "execution_count": 5,
      "outputs": [
        {
          "output_type": "stream",
          "name": "stdout",
          "text": [
            "Drive already mounted at /content/drive; to attempt to forcibly remount, call drive.mount(\"/content/drive\", force_remount=True).\n"
          ]
        }
      ]
    },
    {
      "cell_type": "code",
      "metadata": {
        "colab": {
          "base_uri": "https://localhost:8080/"
        },
        "id": "MiNMSDTJtNG4",
        "outputId": "176e7f1d-42ae-4897-b95b-d05cb45b1ecd"
      },
      "source": [
        "cd /content/drive/\"My Drive/Colab Notebooks/Dataset Files\"  "
      ],
      "execution_count": 6,
      "outputs": [
        {
          "output_type": "stream",
          "name": "stdout",
          "text": [
            "/content/drive/My Drive/Colab Notebooks/Dataset Files\n"
          ]
        }
      ]
    },
    {
      "cell_type": "code",
      "metadata": {
        "id": "PhSQaBtb5ZBD"
      },
      "source": [
        "# function for copmarision of parametes for different algorithms\n",
        "def parameter_comparision(svd,nmf,knn):\n",
        "    # Calculate Average of RMSE, MAE, Fit time and Test time\n",
        "    ls = ['test_mae','test_rmse','fit_time','test_time']\n",
        "    svd_ls=[]\n",
        "    for i in range(len(ls)):\n",
        "        svd_ls.append(np.mean(svd[ls[i]]))\n",
        "    nmf_ls=[]\n",
        "    for i in range(len(ls)):\n",
        "        nmf_ls.append(np.mean(nmf[ls[i]]))\n",
        "    knn_ls=[]\n",
        "    for i in range(len(ls)):\n",
        "        knn_ls.append(np.mean(knn[ls[i]]))\n",
        "\n",
        "    print(svd_ls)\n",
        "    print(nmf_ls)\n",
        "    print(knn_ls)\n",
        "\n",
        "    # Plot graph of parameters for all methods\n",
        "    labels = ['MAE','RMSE','Fit Time','Test Time']\n",
        "    x = svd_ls;\n",
        "    y = nmf_ls;\n",
        "    z = knn_ls;\n",
        "\n",
        "    x_axis = np.arange(len(labels))\n",
        "    plt.bar(x_axis-0.2, x, 0.2, label='SVD')\n",
        "    plt.bar(x_axis, y, 0.2, label='NMF')\n",
        "    plt.bar(x_axis+0.2, z, 0.2, label='KNN')\n",
        "\n",
        "    plt.xticks(x_axis, labels)\n",
        "    plt.title(\"Parameter Comparision\")\n",
        "    plt.legend()\n",
        "    plt.show()"
      ],
      "execution_count": 7,
      "outputs": []
    },
    {
      "cell_type": "markdown",
      "metadata": {
        "id": "1erp7c7L1IQ-"
      },
      "source": [
        "### **Movie Lens Dataset**"
      ]
    },
    {
      "cell_type": "code",
      "metadata": {
        "id": "H2lRoh4jXQlf",
        "colab": {
          "base_uri": "https://localhost:8080/",
          "height": 419
        },
        "outputId": "c04c2e88-5df8-47ad-fdd9-e3ea286f73e3"
      },
      "source": [
        "# Load the movielens-100k dataset\n",
        "cols = ['UserId','MovieId','Rating','TimeStamp']\n",
        "df_movie = pd.read_csv('u.data',sep = '\\t',header = None,names = cols)\n",
        "df_movie"
      ],
      "execution_count": 8,
      "outputs": [
        {
          "output_type": "execute_result",
          "data": {
            "text/html": [
              "<div>\n",
              "<style scoped>\n",
              "    .dataframe tbody tr th:only-of-type {\n",
              "        vertical-align: middle;\n",
              "    }\n",
              "\n",
              "    .dataframe tbody tr th {\n",
              "        vertical-align: top;\n",
              "    }\n",
              "\n",
              "    .dataframe thead th {\n",
              "        text-align: right;\n",
              "    }\n",
              "</style>\n",
              "<table border=\"1\" class=\"dataframe\">\n",
              "  <thead>\n",
              "    <tr style=\"text-align: right;\">\n",
              "      <th></th>\n",
              "      <th>UserId</th>\n",
              "      <th>MovieId</th>\n",
              "      <th>Rating</th>\n",
              "      <th>TimeStamp</th>\n",
              "    </tr>\n",
              "  </thead>\n",
              "  <tbody>\n",
              "    <tr>\n",
              "      <th>0</th>\n",
              "      <td>196</td>\n",
              "      <td>242</td>\n",
              "      <td>3</td>\n",
              "      <td>881250949</td>\n",
              "    </tr>\n",
              "    <tr>\n",
              "      <th>1</th>\n",
              "      <td>186</td>\n",
              "      <td>302</td>\n",
              "      <td>3</td>\n",
              "      <td>891717742</td>\n",
              "    </tr>\n",
              "    <tr>\n",
              "      <th>2</th>\n",
              "      <td>22</td>\n",
              "      <td>377</td>\n",
              "      <td>1</td>\n",
              "      <td>878887116</td>\n",
              "    </tr>\n",
              "    <tr>\n",
              "      <th>3</th>\n",
              "      <td>244</td>\n",
              "      <td>51</td>\n",
              "      <td>2</td>\n",
              "      <td>880606923</td>\n",
              "    </tr>\n",
              "    <tr>\n",
              "      <th>4</th>\n",
              "      <td>166</td>\n",
              "      <td>346</td>\n",
              "      <td>1</td>\n",
              "      <td>886397596</td>\n",
              "    </tr>\n",
              "    <tr>\n",
              "      <th>...</th>\n",
              "      <td>...</td>\n",
              "      <td>...</td>\n",
              "      <td>...</td>\n",
              "      <td>...</td>\n",
              "    </tr>\n",
              "    <tr>\n",
              "      <th>99995</th>\n",
              "      <td>880</td>\n",
              "      <td>476</td>\n",
              "      <td>3</td>\n",
              "      <td>880175444</td>\n",
              "    </tr>\n",
              "    <tr>\n",
              "      <th>99996</th>\n",
              "      <td>716</td>\n",
              "      <td>204</td>\n",
              "      <td>5</td>\n",
              "      <td>879795543</td>\n",
              "    </tr>\n",
              "    <tr>\n",
              "      <th>99997</th>\n",
              "      <td>276</td>\n",
              "      <td>1090</td>\n",
              "      <td>1</td>\n",
              "      <td>874795795</td>\n",
              "    </tr>\n",
              "    <tr>\n",
              "      <th>99998</th>\n",
              "      <td>13</td>\n",
              "      <td>225</td>\n",
              "      <td>2</td>\n",
              "      <td>882399156</td>\n",
              "    </tr>\n",
              "    <tr>\n",
              "      <th>99999</th>\n",
              "      <td>12</td>\n",
              "      <td>203</td>\n",
              "      <td>3</td>\n",
              "      <td>879959583</td>\n",
              "    </tr>\n",
              "  </tbody>\n",
              "</table>\n",
              "<p>100000 rows × 4 columns</p>\n",
              "</div>"
            ],
            "text/plain": [
              "       UserId  MovieId  Rating  TimeStamp\n",
              "0         196      242       3  881250949\n",
              "1         186      302       3  891717742\n",
              "2          22      377       1  878887116\n",
              "3         244       51       2  880606923\n",
              "4         166      346       1  886397596\n",
              "...       ...      ...     ...        ...\n",
              "99995     880      476       3  880175444\n",
              "99996     716      204       5  879795543\n",
              "99997     276     1090       1  874795795\n",
              "99998      13      225       2  882399156\n",
              "99999      12      203       3  879959583\n",
              "\n",
              "[100000 rows x 4 columns]"
            ]
          },
          "metadata": {},
          "execution_count": 8
        }
      ]
    },
    {
      "cell_type": "code",
      "metadata": {
        "colab": {
          "base_uri": "https://localhost:8080/",
          "height": 264
        },
        "id": "HxPpl66GSAT-",
        "outputId": "e7f0676d-10ba-42c9-e3c5-4f80e478e3f8"
      },
      "source": [
        "# Visualize data\n",
        "data_150th_movie = df_movie[df_movie['MovieId']==150]\n",
        "lst =[0,0,0,0,0]\n",
        "data_150th_movie_rating = data_150th_movie['Rating'].values\n",
        "for i in range(len(data_150th_movie_rating)):\n",
        "    lst[data_150th_movie_rating[i]-1]+=1\n",
        "plt.pie(lst,labels=['Rating - 1','Rating - 2','Rating - 3','Rating - 4','Rating - 5'],explode=(0,0,0,0,0),shadow=False,autopct='%1.1f%%')\n",
        "plt.title(\"Movie Rating of 150th Movie\")\n",
        "\n",
        "plt.show()"
      ],
      "execution_count": 9,
      "outputs": [
        {
          "output_type": "display_data",
          "data": {
            "image/png": "[encoded data removed]",
            "text/plain": [
              "<Figure size 432x288 with 1 Axes>"
            ]
          },
          "metadata": {}
        }
      ]
    },
    {
      "cell_type": "markdown",
      "metadata": {
        "id": "_GLydjywjize"
      },
      "source": [
        "Apply Algorithms on Movie dataset"
      ]
    },
    {
      "cell_type": "code",
      "metadata": {
        "id": "s5lOm1HTdR59"
      },
      "source": [
        "reader=Reader(rating_scale=(1,5))\n",
        "trainset=Dataset.load_from_df(df_movie[['UserId','MovieId','Rating']],reader).build_full_trainset()\n",
        "data=Dataset.load_from_df(df_movie[['UserId','MovieId','Rating']],reader)"
      ],
      "execution_count": 10,
      "outputs": []
    },
    {
      "cell_type": "markdown",
      "metadata": {
        "id": "wIiSRUn91aNP"
      },
      "source": [
        "SVD Algorithm"
      ]
    },
    {
      "cell_type": "code",
      "metadata": {
        "colab": {
          "base_uri": "https://localhost:8080/"
        },
        "id": "eFs2msORegC5",
        "outputId": "fc36f0c8-5944-4b23-b972-19a48e0ebfeb"
      },
      "source": [
        "# use SVD Algorithm\n",
        "algo = SVD()\n",
        "algo.fit(trainset)\n",
        "svd_movie = cross_validate(algo, data, measures=['RMSE', 'MAE'], cv=5, verbose=True)"
      ],
      "execution_count": 11,
      "outputs": [
        {
          "output_type": "stream",
          "name": "stdout",
          "text": [
            "Evaluating RMSE, MAE of algorithm SVD on 5 split(s).\n",
            "\n",
            "                  Fold 1  Fold 2  Fold 3  Fold 4  Fold 5  Mean    Std     \n",
            "RMSE (testset)    0.9377  0.9395  0.9430  0.9287  0.9379  0.9373  0.0047  \n",
            "MAE (testset)     0.7389  0.7417  0.7439  0.7317  0.7384  0.7389  0.0041  \n",
            "Fit time          3.83    3.88    3.84    3.83    3.82    3.84    0.02    \n",
            "Test time         0.22    0.14    0.22    0.14    0.22    0.19    0.04    \n"
          ]
        }
      ]
    },
    {
      "cell_type": "code",
      "metadata": {
        "colab": {
          "base_uri": "https://localhost:8080/"
        },
        "id": "KBnmCwZp5Aom",
        "outputId": "8d093157-d9fc-4372-9553-67870edd0a78"
      },
      "source": [
        "svd_movie"
      ],
      "execution_count": 12,
      "outputs": [
        {
          "output_type": "execute_result",
          "data": {
            "text/plain": [
              "{'fit_time': (3.8339602947235107,\n",
              "  3.8758585453033447,\n",
              "  3.8449325561523438,\n",
              "  3.832040786743164,\n",
              "  3.8220694065093994),\n",
              " 'test_mae': array([0.73887869, 0.74166815, 0.74394335, 0.73167408, 0.73835673]),\n",
              " 'test_rmse': array([0.93772434, 0.93947973, 0.94298462, 0.92868206, 0.9378582 ]),\n",
              " 'test_time': (0.22137737274169922,\n",
              "  0.1426258087158203,\n",
              "  0.2184748649597168,\n",
              "  0.13849925994873047,\n",
              "  0.2173299789428711)}"
            ]
          },
          "metadata": {},
          "execution_count": 12
        }
      ]
    },
    {
      "cell_type": "markdown",
      "metadata": {
        "id": "fkfAMAC31mZx"
      },
      "source": [
        "NMF Algorithm"
      ]
    },
    {
      "cell_type": "code",
      "metadata": {
        "id": "OZRti4lNpghv",
        "colab": {
          "base_uri": "https://localhost:8080/"
        },
        "outputId": "27d4433d-f997-4a41-c48b-895406f365b1"
      },
      "source": [
        "# use NFM Algorithm\n",
        "algo = NMF()\n",
        "algo.fit(trainset)\n",
        "nmf_movie = cross_validate(algo, data, measures=['RMSE', 'MAE'], cv=5, verbose=True)"
      ],
      "execution_count": 13,
      "outputs": [
        {
          "output_type": "stream",
          "name": "stdout",
          "text": [
            "Evaluating RMSE, MAE of algorithm NMF on 5 split(s).\n",
            "\n",
            "                  Fold 1  Fold 2  Fold 3  Fold 4  Fold 5  Mean    Std     \n",
            "RMSE (testset)    0.9661  0.9627  0.9600  0.9658  0.9651  0.9639  0.0023  \n",
            "MAE (testset)     0.7588  0.7569  0.7553  0.7565  0.7610  0.7577  0.0020  \n",
            "Fit time          4.80    4.87    4.79    4.89    4.88    4.85    0.04    \n",
            "Test time         0.12    0.19    0.20    0.12    0.21    0.17    0.04    \n"
          ]
        }
      ]
    },
    {
      "cell_type": "code",
      "metadata": {
        "colab": {
          "base_uri": "https://localhost:8080/"
        },
        "id": "U20QSKtX5OQG",
        "outputId": "dad24680-51c2-4116-95a2-bb46160a6d9a"
      },
      "source": [
        "nmf_movie"
      ],
      "execution_count": 14,
      "outputs": [
        {
          "output_type": "execute_result",
          "data": {
            "text/plain": [
              "{'fit_time': (4.795897483825684,\n",
              "  4.869609832763672,\n",
              "  4.788614511489868,\n",
              "  4.893774747848511,\n",
              "  4.883890628814697),\n",
              " 'test_mae': array([0.75879307, 0.75685525, 0.75533487, 0.75654186, 0.7609937 ]),\n",
              " 'test_rmse': array([0.96610532, 0.96268705, 0.95997667, 0.96576918, 0.96513817]),\n",
              " 'test_time': (0.12135148048400879,\n",
              "  0.1910686492919922,\n",
              "  0.1986403465270996,\n",
              "  0.12294316291809082,\n",
              "  0.20916390419006348)}"
            ]
          },
          "metadata": {},
          "execution_count": 14
        }
      ]
    },
    {
      "cell_type": "markdown",
      "metadata": {
        "id": "r2MtSY3P1pzp"
      },
      "source": [
        "KNN Algorithm"
      ]
    },
    {
      "cell_type": "code",
      "metadata": {
        "id": "s-O9ABQgqVr9",
        "colab": {
          "base_uri": "https://localhost:8080/"
        },
        "outputId": "33818bcc-5e48-43d2-ded2-663c8a9c732f"
      },
      "source": [
        "# use KNNBasic Algorithm\n",
        "algo = KNNBasic()\n",
        "algo.fit(trainset)\n",
        "knn_movie = cross_validate(algo, data, measures=['RMSE', 'MAE'], cv=5, verbose=True)"
      ],
      "execution_count": 15,
      "outputs": [
        {
          "output_type": "stream",
          "name": "stdout",
          "text": [
            "Computing the msd similarity matrix...\n",
            "Done computing similarity matrix.\n",
            "Computing the msd similarity matrix...\n",
            "Done computing similarity matrix.\n",
            "Computing the msd similarity matrix...\n",
            "Done computing similarity matrix.\n",
            "Computing the msd similarity matrix...\n",
            "Done computing similarity matrix.\n",
            "Computing the msd similarity matrix...\n",
            "Done computing similarity matrix.\n",
            "Computing the msd similarity matrix...\n",
            "Done computing similarity matrix.\n",
            "Evaluating RMSE, MAE of algorithm KNNBasic on 5 split(s).\n",
            "\n",
            "                  Fold 1  Fold 2  Fold 3  Fold 4  Fold 5  Mean    Std     \n",
            "RMSE (testset)    0.9794  0.9737  0.9815  0.9807  0.9768  0.9784  0.0029  \n",
            "MAE (testset)     0.7770  0.7680  0.7736  0.7742  0.7706  0.7727  0.0031  \n",
            "Fit time          0.38    0.34    0.28    0.40    0.36    0.35    0.04    \n",
            "Test time         3.62    3.69    3.62    3.66    3.68    3.65    0.03    \n"
          ]
        }
      ]
    },
    {
      "cell_type": "code",
      "metadata": {
        "colab": {
          "base_uri": "https://localhost:8080/"
        },
        "id": "Y5Zl0bl31sYE",
        "outputId": "58767d6c-0e79-4fa5-f710-67ddf885f7b7"
      },
      "source": [
        "knn_movie"
      ],
      "execution_count": 16,
      "outputs": [
        {
          "output_type": "execute_result",
          "data": {
            "text/plain": [
              "{'fit_time': (0.37899255752563477,\n",
              "  0.3388481140136719,\n",
              "  0.2761573791503906,\n",
              "  0.3983170986175537,\n",
              "  0.3639376163482666),\n",
              " 'test_mae': array([0.77703422, 0.76799417, 0.77359646, 0.77416137, 0.77063344]),\n",
              " 'test_rmse': array([0.97939113, 0.97365028, 0.98145787, 0.980703  , 0.97679384]),\n",
              " 'test_time': (3.622473955154419,\n",
              "  3.689466714859009,\n",
              "  3.6178197860717773,\n",
              "  3.6568443775177,\n",
              "  3.6837000846862793)}"
            ]
          },
          "metadata": {},
          "execution_count": 16
        }
      ]
    },
    {
      "cell_type": "code",
      "metadata": {
        "colab": {
          "base_uri": "https://localhost:8080/",
          "height": 332
        },
        "id": "7ZQhJxgO8Y8e",
        "outputId": "f7cc5a55-e6bf-4a46-84d0-c99b9df1e1ed"
      },
      "source": [
        "parameter_comparision(svd_movie,nmf_movie,knn_movie)"
      ],
      "execution_count": 17,
      "outputs": [
        {
          "output_type": "stream",
          "name": "stdout",
          "text": [
            "[0.738904198573217, 0.9373457866833442, 3.8417723178863525, 0.18766145706176757]\n",
            "[0.7577037505403615, 0.9639352778094018, 4.846357440948486, 0.16863350868225097]\n",
            "[0.772683932287815, 0.9783992222603333, 0.35125055313110354, 3.654060983657837]\n"
          ]
        },
        {
          "output_type": "display_data",
          "data": {
            "image/png": "[encoded data removed]",
            "text/plain": [
              "<Figure size 432x288 with 1 Axes>"
            ]
          },
          "metadata": {
            "needs_background": "light"
          }
        }
      ]
    },
    {
      "cell_type": "markdown",
      "metadata": {
        "id": "c2uQucsZ2I8K"
      },
      "source": [
        "### **Jester dataset**"
      ]
    },
    {
      "cell_type": "code",
      "metadata": {
        "colab": {
          "base_uri": "https://localhost:8080/",
          "height": 439
        },
        "id": "NRUo2ajQTPS6",
        "outputId": "43f3bf8d-e199-4b4b-ebf1-13c1e1af242e"
      },
      "source": [
        "df_jester=pd.read_csv(\"jester_data_new.csv\")\n",
        "df_jester=df_jester.drop(['Number of Ratings'],axis=1)\n",
        "df_jester"
      ],
      "execution_count": 18,
      "outputs": [
        {
          "output_type": "execute_result",
          "data": {
            "text/html": [
              "<div>\n",
              "<style scoped>\n",
              "    .dataframe tbody tr th:only-of-type {\n",
              "        vertical-align: middle;\n",
              "    }\n",
              "\n",
              "    .dataframe tbody tr th {\n",
              "        vertical-align: top;\n",
              "    }\n",
              "\n",
              "    .dataframe thead th {\n",
              "        text-align: right;\n",
              "    }\n",
              "</style>\n",
              "<table border=\"1\" class=\"dataframe\">\n",
              "  <thead>\n",
              "    <tr style=\"text-align: right;\">\n",
              "      <th></th>\n",
              "      <th>UserID</th>\n",
              "      <th>J1</th>\n",
              "      <th>J2</th>\n",
              "      <th>J3</th>\n",
              "      <th>J4</th>\n",
              "      <th>J5</th>\n",
              "      <th>J6</th>\n",
              "      <th>J7</th>\n",
              "      <th>J8</th>\n",
              "      <th>J9</th>\n",
              "      <th>J10</th>\n",
              "      <th>J11</th>\n",
              "      <th>J12</th>\n",
              "      <th>J13</th>\n",
              "      <th>J14</th>\n",
              "      <th>J15</th>\n",
              "      <th>J16</th>\n",
              "      <th>J17</th>\n",
              "      <th>J18</th>\n",
              "      <th>J19</th>\n",
              "      <th>J20</th>\n",
              "      <th>J21</th>\n",
              "      <th>J22</th>\n",
              "      <th>J23</th>\n",
              "      <th>J24</th>\n",
              "      <th>J25</th>\n",
              "      <th>J26</th>\n",
              "      <th>J27</th>\n",
              "      <th>J28</th>\n",
              "      <th>J29</th>\n",
              "      <th>J30</th>\n",
              "      <th>J31</th>\n",
              "      <th>J32</th>\n",
              "      <th>J33</th>\n",
              "      <th>J34</th>\n",
              "      <th>J35</th>\n",
              "      <th>J36</th>\n",
              "      <th>J37</th>\n",
              "      <th>J38</th>\n",
              "      <th>J39</th>\n",
              "      <th>...</th>\n",
              "      <th>J61</th>\n",
              "      <th>J62</th>\n",
              "      <th>J63</th>\n",
              "      <th>J64</th>\n",
              "      <th>J65</th>\n",
              "      <th>J66</th>\n",
              "      <th>J67</th>\n",
              "      <th>J68</th>\n",
              "      <th>J69</th>\n",
              "      <th>J70</th>\n",
              "      <th>J71</th>\n",
              "      <th>J72</th>\n",
              "      <th>J73</th>\n",
              "      <th>J74</th>\n",
              "      <th>J75</th>\n",
              "      <th>J76</th>\n",
              "      <th>J77</th>\n",
              "      <th>J78</th>\n",
              "      <th>J79</th>\n",
              "      <th>J80</th>\n",
              "      <th>J81</th>\n",
              "      <th>J82</th>\n",
              "      <th>J83</th>\n",
              "      <th>J84</th>\n",
              "      <th>J85</th>\n",
              "      <th>J86</th>\n",
              "      <th>J87</th>\n",
              "      <th>J88</th>\n",
              "      <th>J89</th>\n",
              "      <th>J90</th>\n",
              "      <th>J91</th>\n",
              "      <th>J92</th>\n",
              "      <th>J93</th>\n",
              "      <th>J94</th>\n",
              "      <th>J95</th>\n",
              "      <th>J96</th>\n",
              "      <th>J97</th>\n",
              "      <th>J98</th>\n",
              "      <th>J</th>\n",
              "      <th>J100</th>\n",
              "    </tr>\n",
              "  </thead>\n",
              "  <tbody>\n",
              "    <tr>\n",
              "      <th>0</th>\n",
              "      <td>U1</td>\n",
              "      <td>-7.82</td>\n",
              "      <td>8.79</td>\n",
              "      <td>-9.66</td>\n",
              "      <td>-8.16</td>\n",
              "      <td>-7.52</td>\n",
              "      <td>-8.50</td>\n",
              "      <td>-9.85</td>\n",
              "      <td>4.17</td>\n",
              "      <td>-8.98</td>\n",
              "      <td>-4.76</td>\n",
              "      <td>-8.50</td>\n",
              "      <td>-6.75</td>\n",
              "      <td>-7.18</td>\n",
              "      <td>8.45</td>\n",
              "      <td>-7.18</td>\n",
              "      <td>-7.52</td>\n",
              "      <td>-7.43</td>\n",
              "      <td>-9.81</td>\n",
              "      <td>-9.85</td>\n",
              "      <td>-9.85</td>\n",
              "      <td>-9.37</td>\n",
              "      <td>1.50</td>\n",
              "      <td>-4.37</td>\n",
              "      <td>-9.81</td>\n",
              "      <td>-8.50</td>\n",
              "      <td>1.12</td>\n",
              "      <td>7.82</td>\n",
              "      <td>2.86</td>\n",
              "      <td>9.13</td>\n",
              "      <td>-7.43</td>\n",
              "      <td>2.14</td>\n",
              "      <td>-4.08</td>\n",
              "      <td>-9.08</td>\n",
              "      <td>7.82</td>\n",
              "      <td>5.05</td>\n",
              "      <td>4.95</td>\n",
              "      <td>-9.17</td>\n",
              "      <td>-8.40</td>\n",
              "      <td>-8.40</td>\n",
              "      <td>...</td>\n",
              "      <td>8.59</td>\n",
              "      <td>3.59</td>\n",
              "      <td>-6.84</td>\n",
              "      <td>-9.03</td>\n",
              "      <td>2.82</td>\n",
              "      <td>-1.36</td>\n",
              "      <td>-9.08</td>\n",
              "      <td>8.30</td>\n",
              "      <td>5.68</td>\n",
              "      <td>-4.81</td>\n",
              "      <td>NaN</td>\n",
              "      <td>NaN</td>\n",
              "      <td>NaN</td>\n",
              "      <td>NaN</td>\n",
              "      <td>NaN</td>\n",
              "      <td>NaN</td>\n",
              "      <td>NaN</td>\n",
              "      <td>-9.42</td>\n",
              "      <td>NaN</td>\n",
              "      <td>NaN</td>\n",
              "      <td>NaN</td>\n",
              "      <td>-7.72</td>\n",
              "      <td>NaN</td>\n",
              "      <td>NaN</td>\n",
              "      <td>NaN</td>\n",
              "      <td>NaN</td>\n",
              "      <td>NaN</td>\n",
              "      <td>NaN</td>\n",
              "      <td>NaN</td>\n",
              "      <td>NaN</td>\n",
              "      <td>2.82</td>\n",
              "      <td>NaN</td>\n",
              "      <td>NaN</td>\n",
              "      <td>NaN</td>\n",
              "      <td>NaN</td>\n",
              "      <td>NaN</td>\n",
              "      <td>-5.63</td>\n",
              "      <td>NaN</td>\n",
              "      <td>NaN</td>\n",
              "      <td>NaN</td>\n",
              "    </tr>\n",
              "    <tr>\n",
              "      <th>1</th>\n",
              "      <td>U2</td>\n",
              "      <td>4.08</td>\n",
              "      <td>-0.29</td>\n",
              "      <td>6.36</td>\n",
              "      <td>4.37</td>\n",
              "      <td>-2.38</td>\n",
              "      <td>-9.66</td>\n",
              "      <td>-0.73</td>\n",
              "      <td>-5.34</td>\n",
              "      <td>8.88</td>\n",
              "      <td>9.22</td>\n",
              "      <td>6.75</td>\n",
              "      <td>8.64</td>\n",
              "      <td>4.42</td>\n",
              "      <td>7.43</td>\n",
              "      <td>4.56</td>\n",
              "      <td>-0.97</td>\n",
              "      <td>4.66</td>\n",
              "      <td>-0.68</td>\n",
              "      <td>3.30</td>\n",
              "      <td>-1.21</td>\n",
              "      <td>0.87</td>\n",
              "      <td>8.64</td>\n",
              "      <td>8.35</td>\n",
              "      <td>9.17</td>\n",
              "      <td>0.05</td>\n",
              "      <td>7.57</td>\n",
              "      <td>4.71</td>\n",
              "      <td>0.87</td>\n",
              "      <td>-0.39</td>\n",
              "      <td>6.00</td>\n",
              "      <td>6.50</td>\n",
              "      <td>-0.92</td>\n",
              "      <td>7.14</td>\n",
              "      <td>9.03</td>\n",
              "      <td>-1.80</td>\n",
              "      <td>0.73</td>\n",
              "      <td>7.09</td>\n",
              "      <td>3.40</td>\n",
              "      <td>-0.87</td>\n",
              "      <td>...</td>\n",
              "      <td>-6.70</td>\n",
              "      <td>-3.35</td>\n",
              "      <td>-9.03</td>\n",
              "      <td>4.47</td>\n",
              "      <td>4.08</td>\n",
              "      <td>-3.83</td>\n",
              "      <td>8.74</td>\n",
              "      <td>1.12</td>\n",
              "      <td>0.78</td>\n",
              "      <td>7.52</td>\n",
              "      <td>-5.00</td>\n",
              "      <td>2.77</td>\n",
              "      <td>8.30</td>\n",
              "      <td>7.77</td>\n",
              "      <td>7.33</td>\n",
              "      <td>6.21</td>\n",
              "      <td>7.72</td>\n",
              "      <td>8.98</td>\n",
              "      <td>8.64</td>\n",
              "      <td>8.20</td>\n",
              "      <td>3.93</td>\n",
              "      <td>4.85</td>\n",
              "      <td>4.85</td>\n",
              "      <td>6.07</td>\n",
              "      <td>8.98</td>\n",
              "      <td>4.51</td>\n",
              "      <td>-0.05</td>\n",
              "      <td>3.69</td>\n",
              "      <td>4.56</td>\n",
              "      <td>0.58</td>\n",
              "      <td>2.82</td>\n",
              "      <td>-4.95</td>\n",
              "      <td>-0.29</td>\n",
              "      <td>7.86</td>\n",
              "      <td>-0.19</td>\n",
              "      <td>-2.14</td>\n",
              "      <td>3.06</td>\n",
              "      <td>0.34</td>\n",
              "      <td>-4.32</td>\n",
              "      <td>1.07</td>\n",
              "    </tr>\n",
              "    <tr>\n",
              "      <th>2</th>\n",
              "      <td>U3</td>\n",
              "      <td>NaN</td>\n",
              "      <td>NaN</td>\n",
              "      <td>NaN</td>\n",
              "      <td>NaN</td>\n",
              "      <td>9.03</td>\n",
              "      <td>9.27</td>\n",
              "      <td>9.03</td>\n",
              "      <td>9.27</td>\n",
              "      <td>NaN</td>\n",
              "      <td>NaN</td>\n",
              "      <td>7.33</td>\n",
              "      <td>7.57</td>\n",
              "      <td>9.37</td>\n",
              "      <td>6.17</td>\n",
              "      <td>-6.36</td>\n",
              "      <td>-6.89</td>\n",
              "      <td>-7.86</td>\n",
              "      <td>9.03</td>\n",
              "      <td>9.03</td>\n",
              "      <td>9.03</td>\n",
              "      <td>7.28</td>\n",
              "      <td>NaN</td>\n",
              "      <td>8.25</td>\n",
              "      <td>NaN</td>\n",
              "      <td>NaN</td>\n",
              "      <td>7.48</td>\n",
              "      <td>7.28</td>\n",
              "      <td>7.28</td>\n",
              "      <td>8.93</td>\n",
              "      <td>NaN</td>\n",
              "      <td>6.17</td>\n",
              "      <td>7.28</td>\n",
              "      <td>NaN</td>\n",
              "      <td>NaN</td>\n",
              "      <td>8.98</td>\n",
              "      <td>7.33</td>\n",
              "      <td>NaN</td>\n",
              "      <td>6.17</td>\n",
              "      <td>9.08</td>\n",
              "      <td>...</td>\n",
              "      <td>6.46</td>\n",
              "      <td>7.28</td>\n",
              "      <td>NaN</td>\n",
              "      <td>NaN</td>\n",
              "      <td>7.04</td>\n",
              "      <td>7.28</td>\n",
              "      <td>NaN</td>\n",
              "      <td>7.28</td>\n",
              "      <td>8.25</td>\n",
              "      <td>NaN</td>\n",
              "      <td>NaN</td>\n",
              "      <td>NaN</td>\n",
              "      <td>NaN</td>\n",
              "      <td>NaN</td>\n",
              "      <td>NaN</td>\n",
              "      <td>8.93</td>\n",
              "      <td>NaN</td>\n",
              "      <td>NaN</td>\n",
              "      <td>NaN</td>\n",
              "      <td>9.08</td>\n",
              "      <td>NaN</td>\n",
              "      <td>NaN</td>\n",
              "      <td>NaN</td>\n",
              "      <td>NaN</td>\n",
              "      <td>NaN</td>\n",
              "      <td>NaN</td>\n",
              "      <td>NaN</td>\n",
              "      <td>NaN</td>\n",
              "      <td>NaN</td>\n",
              "      <td>9.03</td>\n",
              "      <td>NaN</td>\n",
              "      <td>NaN</td>\n",
              "      <td>NaN</td>\n",
              "      <td>9.08</td>\n",
              "      <td>NaN</td>\n",
              "      <td>NaN</td>\n",
              "      <td>NaN</td>\n",
              "      <td>NaN</td>\n",
              "      <td>NaN</td>\n",
              "      <td>NaN</td>\n",
              "    </tr>\n",
              "    <tr>\n",
              "      <th>3</th>\n",
              "      <td>U4</td>\n",
              "      <td>NaN</td>\n",
              "      <td>8.35</td>\n",
              "      <td>NaN</td>\n",
              "      <td>NaN</td>\n",
              "      <td>1.80</td>\n",
              "      <td>8.16</td>\n",
              "      <td>-2.82</td>\n",
              "      <td>6.21</td>\n",
              "      <td>NaN</td>\n",
              "      <td>1.84</td>\n",
              "      <td>7.33</td>\n",
              "      <td>6.60</td>\n",
              "      <td>6.31</td>\n",
              "      <td>8.11</td>\n",
              "      <td>-7.23</td>\n",
              "      <td>-6.65</td>\n",
              "      <td>1.17</td>\n",
              "      <td>-6.60</td>\n",
              "      <td>-3.64</td>\n",
              "      <td>-2.09</td>\n",
              "      <td>5.34</td>\n",
              "      <td>NaN</td>\n",
              "      <td>NaN</td>\n",
              "      <td>NaN</td>\n",
              "      <td>NaN</td>\n",
              "      <td>2.91</td>\n",
              "      <td>3.93</td>\n",
              "      <td>6.75</td>\n",
              "      <td>6.60</td>\n",
              "      <td>NaN</td>\n",
              "      <td>6.65</td>\n",
              "      <td>-6.12</td>\n",
              "      <td>NaN</td>\n",
              "      <td>7.57</td>\n",
              "      <td>6.21</td>\n",
              "      <td>6.65</td>\n",
              "      <td>NaN</td>\n",
              "      <td>-8.30</td>\n",
              "      <td>7.18</td>\n",
              "      <td>...</td>\n",
              "      <td>0.00</td>\n",
              "      <td>-3.69</td>\n",
              "      <td>NaN</td>\n",
              "      <td>NaN</td>\n",
              "      <td>7.82</td>\n",
              "      <td>0.24</td>\n",
              "      <td>NaN</td>\n",
              "      <td>7.28</td>\n",
              "      <td>-2.33</td>\n",
              "      <td>NaN</td>\n",
              "      <td>NaN</td>\n",
              "      <td>NaN</td>\n",
              "      <td>NaN</td>\n",
              "      <td>NaN</td>\n",
              "      <td>NaN</td>\n",
              "      <td>NaN</td>\n",
              "      <td>NaN</td>\n",
              "      <td>NaN</td>\n",
              "      <td>NaN</td>\n",
              "      <td>NaN</td>\n",
              "      <td>NaN</td>\n",
              "      <td>NaN</td>\n",
              "      <td>NaN</td>\n",
              "      <td>NaN</td>\n",
              "      <td>0.63</td>\n",
              "      <td>NaN</td>\n",
              "      <td>NaN</td>\n",
              "      <td>-2.33</td>\n",
              "      <td>NaN</td>\n",
              "      <td>NaN</td>\n",
              "      <td>NaN</td>\n",
              "      <td>NaN</td>\n",
              "      <td>NaN</td>\n",
              "      <td>0.53</td>\n",
              "      <td>NaN</td>\n",
              "      <td>NaN</td>\n",
              "      <td>NaN</td>\n",
              "      <td>NaN</td>\n",
              "      <td>NaN</td>\n",
              "      <td>NaN</td>\n",
              "    </tr>\n",
              "    <tr>\n",
              "      <th>4</th>\n",
              "      <td>U5</td>\n",
              "      <td>8.50</td>\n",
              "      <td>4.61</td>\n",
              "      <td>-4.17</td>\n",
              "      <td>-5.39</td>\n",
              "      <td>1.36</td>\n",
              "      <td>1.60</td>\n",
              "      <td>7.04</td>\n",
              "      <td>4.61</td>\n",
              "      <td>-0.44</td>\n",
              "      <td>5.73</td>\n",
              "      <td>8.25</td>\n",
              "      <td>6.84</td>\n",
              "      <td>-3.93</td>\n",
              "      <td>7.23</td>\n",
              "      <td>-2.33</td>\n",
              "      <td>-9.66</td>\n",
              "      <td>2.72</td>\n",
              "      <td>-1.36</td>\n",
              "      <td>2.57</td>\n",
              "      <td>4.51</td>\n",
              "      <td>8.20</td>\n",
              "      <td>6.12</td>\n",
              "      <td>8.30</td>\n",
              "      <td>-1.26</td>\n",
              "      <td>7.77</td>\n",
              "      <td>1.89</td>\n",
              "      <td>-1.17</td>\n",
              "      <td>5.68</td>\n",
              "      <td>8.45</td>\n",
              "      <td>4.61</td>\n",
              "      <td>8.06</td>\n",
              "      <td>-9.47</td>\n",
              "      <td>7.28</td>\n",
              "      <td>5.68</td>\n",
              "      <td>2.48</td>\n",
              "      <td>3.20</td>\n",
              "      <td>-1.26</td>\n",
              "      <td>6.80</td>\n",
              "      <td>4.51</td>\n",
              "      <td>...</td>\n",
              "      <td>7.38</td>\n",
              "      <td>6.17</td>\n",
              "      <td>4.71</td>\n",
              "      <td>-2.28</td>\n",
              "      <td>7.38</td>\n",
              "      <td>4.56</td>\n",
              "      <td>7.14</td>\n",
              "      <td>4.22</td>\n",
              "      <td>3.01</td>\n",
              "      <td>3.83</td>\n",
              "      <td>NaN</td>\n",
              "      <td>NaN</td>\n",
              "      <td>NaN</td>\n",
              "      <td>NaN</td>\n",
              "      <td>NaN</td>\n",
              "      <td>NaN</td>\n",
              "      <td>4.13</td>\n",
              "      <td>NaN</td>\n",
              "      <td>NaN</td>\n",
              "      <td>NaN</td>\n",
              "      <td>5.24</td>\n",
              "      <td>5.92</td>\n",
              "      <td>0.87</td>\n",
              "      <td>7.28</td>\n",
              "      <td>3.93</td>\n",
              "      <td>-0.63</td>\n",
              "      <td>6.31</td>\n",
              "      <td>4.71</td>\n",
              "      <td>2.82</td>\n",
              "      <td>2.96</td>\n",
              "      <td>5.19</td>\n",
              "      <td>5.58</td>\n",
              "      <td>4.27</td>\n",
              "      <td>5.19</td>\n",
              "      <td>5.73</td>\n",
              "      <td>1.55</td>\n",
              "      <td>3.11</td>\n",
              "      <td>6.55</td>\n",
              "      <td>1.80</td>\n",
              "      <td>1.60</td>\n",
              "    </tr>\n",
              "    <tr>\n",
              "      <th>...</th>\n",
              "      <td>...</td>\n",
              "      <td>...</td>\n",
              "      <td>...</td>\n",
              "      <td>...</td>\n",
              "      <td>...</td>\n",
              "      <td>...</td>\n",
              "      <td>...</td>\n",
              "      <td>...</td>\n",
              "      <td>...</td>\n",
              "      <td>...</td>\n",
              "      <td>...</td>\n",
              "      <td>...</td>\n",
              "      <td>...</td>\n",
              "      <td>...</td>\n",
              "      <td>...</td>\n",
              "      <td>...</td>\n",
              "      <td>...</td>\n",
              "      <td>...</td>\n",
              "      <td>...</td>\n",
              "      <td>...</td>\n",
              "      <td>...</td>\n",
              "      <td>...</td>\n",
              "      <td>...</td>\n",
              "      <td>...</td>\n",
              "      <td>...</td>\n",
              "      <td>...</td>\n",
              "      <td>...</td>\n",
              "      <td>...</td>\n",
              "      <td>...</td>\n",
              "      <td>...</td>\n",
              "      <td>...</td>\n",
              "      <td>...</td>\n",
              "      <td>...</td>\n",
              "      <td>...</td>\n",
              "      <td>...</td>\n",
              "      <td>...</td>\n",
              "      <td>...</td>\n",
              "      <td>...</td>\n",
              "      <td>...</td>\n",
              "      <td>...</td>\n",
              "      <td>...</td>\n",
              "      <td>...</td>\n",
              "      <td>...</td>\n",
              "      <td>...</td>\n",
              "      <td>...</td>\n",
              "      <td>...</td>\n",
              "      <td>...</td>\n",
              "      <td>...</td>\n",
              "      <td>...</td>\n",
              "      <td>...</td>\n",
              "      <td>...</td>\n",
              "      <td>...</td>\n",
              "      <td>...</td>\n",
              "      <td>...</td>\n",
              "      <td>...</td>\n",
              "      <td>...</td>\n",
              "      <td>...</td>\n",
              "      <td>...</td>\n",
              "      <td>...</td>\n",
              "      <td>...</td>\n",
              "      <td>...</td>\n",
              "      <td>...</td>\n",
              "      <td>...</td>\n",
              "      <td>...</td>\n",
              "      <td>...</td>\n",
              "      <td>...</td>\n",
              "      <td>...</td>\n",
              "      <td>...</td>\n",
              "      <td>...</td>\n",
              "      <td>...</td>\n",
              "      <td>...</td>\n",
              "      <td>...</td>\n",
              "      <td>...</td>\n",
              "      <td>...</td>\n",
              "      <td>...</td>\n",
              "      <td>...</td>\n",
              "      <td>...</td>\n",
              "      <td>...</td>\n",
              "      <td>...</td>\n",
              "      <td>...</td>\n",
              "      <td>...</td>\n",
              "    </tr>\n",
              "    <tr>\n",
              "      <th>24978</th>\n",
              "      <td>U24979</td>\n",
              "      <td>0.44</td>\n",
              "      <td>7.43</td>\n",
              "      <td>9.08</td>\n",
              "      <td>2.33</td>\n",
              "      <td>3.20</td>\n",
              "      <td>6.75</td>\n",
              "      <td>-8.79</td>\n",
              "      <td>-0.53</td>\n",
              "      <td>-8.74</td>\n",
              "      <td>7.23</td>\n",
              "      <td>-0.53</td>\n",
              "      <td>5.63</td>\n",
              "      <td>-7.14</td>\n",
              "      <td>-4.08</td>\n",
              "      <td>-3.50</td>\n",
              "      <td>-8.20</td>\n",
              "      <td>-3.98</td>\n",
              "      <td>-9.22</td>\n",
              "      <td>-0.15</td>\n",
              "      <td>-6.46</td>\n",
              "      <td>5.63</td>\n",
              "      <td>-0.92</td>\n",
              "      <td>-2.91</td>\n",
              "      <td>-4.17</td>\n",
              "      <td>2.82</td>\n",
              "      <td>3.40</td>\n",
              "      <td>8.64</td>\n",
              "      <td>6.84</td>\n",
              "      <td>6.80</td>\n",
              "      <td>-0.87</td>\n",
              "      <td>7.38</td>\n",
              "      <td>-3.50</td>\n",
              "      <td>8.88</td>\n",
              "      <td>7.43</td>\n",
              "      <td>5.39</td>\n",
              "      <td>2.23</td>\n",
              "      <td>-0.68</td>\n",
              "      <td>3.40</td>\n",
              "      <td>-0.58</td>\n",
              "      <td>...</td>\n",
              "      <td>8.59</td>\n",
              "      <td>3.45</td>\n",
              "      <td>0.87</td>\n",
              "      <td>9.27</td>\n",
              "      <td>-4.66</td>\n",
              "      <td>5.73</td>\n",
              "      <td>-0.49</td>\n",
              "      <td>8.35</td>\n",
              "      <td>1.94</td>\n",
              "      <td>5.00</td>\n",
              "      <td>-9.66</td>\n",
              "      <td>8.98</td>\n",
              "      <td>8.98</td>\n",
              "      <td>-9.81</td>\n",
              "      <td>9.13</td>\n",
              "      <td>9.08</td>\n",
              "      <td>9.08</td>\n",
              "      <td>3.98</td>\n",
              "      <td>0.73</td>\n",
              "      <td>9.03</td>\n",
              "      <td>8.98</td>\n",
              "      <td>9.22</td>\n",
              "      <td>8.93</td>\n",
              "      <td>9.13</td>\n",
              "      <td>9.27</td>\n",
              "      <td>-1.00</td>\n",
              "      <td>-9.95</td>\n",
              "      <td>-9.90</td>\n",
              "      <td>9.13</td>\n",
              "      <td>8.83</td>\n",
              "      <td>8.83</td>\n",
              "      <td>-1.21</td>\n",
              "      <td>9.22</td>\n",
              "      <td>-6.70</td>\n",
              "      <td>8.45</td>\n",
              "      <td>9.03</td>\n",
              "      <td>6.55</td>\n",
              "      <td>8.69</td>\n",
              "      <td>8.79</td>\n",
              "      <td>7.43</td>\n",
              "    </tr>\n",
              "    <tr>\n",
              "      <th>24979</th>\n",
              "      <td>U24980</td>\n",
              "      <td>9.13</td>\n",
              "      <td>-8.16</td>\n",
              "      <td>8.59</td>\n",
              "      <td>9.08</td>\n",
              "      <td>0.87</td>\n",
              "      <td>-8.93</td>\n",
              "      <td>-3.50</td>\n",
              "      <td>5.78</td>\n",
              "      <td>-8.11</td>\n",
              "      <td>4.90</td>\n",
              "      <td>8.88</td>\n",
              "      <td>-8.69</td>\n",
              "      <td>-7.48</td>\n",
              "      <td>-8.83</td>\n",
              "      <td>-1.75</td>\n",
              "      <td>6.60</td>\n",
              "      <td>3.54</td>\n",
              "      <td>1.50</td>\n",
              "      <td>7.67</td>\n",
              "      <td>-0.44</td>\n",
              "      <td>9.22</td>\n",
              "      <td>8.74</td>\n",
              "      <td>9.03</td>\n",
              "      <td>9.08</td>\n",
              "      <td>8.93</td>\n",
              "      <td>3.74</td>\n",
              "      <td>3.20</td>\n",
              "      <td>-9.17</td>\n",
              "      <td>-8.98</td>\n",
              "      <td>8.79</td>\n",
              "      <td>-7.67</td>\n",
              "      <td>-3.06</td>\n",
              "      <td>9.13</td>\n",
              "      <td>8.40</td>\n",
              "      <td>-0.63</td>\n",
              "      <td>-7.18</td>\n",
              "      <td>0.58</td>\n",
              "      <td>8.88</td>\n",
              "      <td>9.27</td>\n",
              "      <td>...</td>\n",
              "      <td>2.77</td>\n",
              "      <td>8.11</td>\n",
              "      <td>-7.96</td>\n",
              "      <td>8.93</td>\n",
              "      <td>-0.87</td>\n",
              "      <td>-5.87</td>\n",
              "      <td>8.88</td>\n",
              "      <td>-1.12</td>\n",
              "      <td>-8.74</td>\n",
              "      <td>8.74</td>\n",
              "      <td>NaN</td>\n",
              "      <td>NaN</td>\n",
              "      <td>NaN</td>\n",
              "      <td>NaN</td>\n",
              "      <td>NaN</td>\n",
              "      <td>4.90</td>\n",
              "      <td>NaN</td>\n",
              "      <td>NaN</td>\n",
              "      <td>NaN</td>\n",
              "      <td>NaN</td>\n",
              "      <td>-0.29</td>\n",
              "      <td>0.92</td>\n",
              "      <td>-0.78</td>\n",
              "      <td>0.15</td>\n",
              "      <td>-0.10</td>\n",
              "      <td>0.00</td>\n",
              "      <td>-0.19</td>\n",
              "      <td>-0.87</td>\n",
              "      <td>-1.36</td>\n",
              "      <td>-0.58</td>\n",
              "      <td>-1.17</td>\n",
              "      <td>-5.73</td>\n",
              "      <td>-1.46</td>\n",
              "      <td>0.24</td>\n",
              "      <td>9.22</td>\n",
              "      <td>-8.20</td>\n",
              "      <td>-7.23</td>\n",
              "      <td>-8.59</td>\n",
              "      <td>9.13</td>\n",
              "      <td>8.45</td>\n",
              "    </tr>\n",
              "    <tr>\n",
              "      <th>24980</th>\n",
              "      <td>U24981</td>\n",
              "      <td>NaN</td>\n",
              "      <td>NaN</td>\n",
              "      <td>NaN</td>\n",
              "      <td>NaN</td>\n",
              "      <td>-7.77</td>\n",
              "      <td>NaN</td>\n",
              "      <td>6.70</td>\n",
              "      <td>-6.75</td>\n",
              "      <td>NaN</td>\n",
              "      <td>NaN</td>\n",
              "      <td>NaN</td>\n",
              "      <td>NaN</td>\n",
              "      <td>-6.46</td>\n",
              "      <td>-1.65</td>\n",
              "      <td>-6.80</td>\n",
              "      <td>-6.41</td>\n",
              "      <td>-6.00</td>\n",
              "      <td>7.23</td>\n",
              "      <td>6.75</td>\n",
              "      <td>-6.00</td>\n",
              "      <td>6.55</td>\n",
              "      <td>NaN</td>\n",
              "      <td>NaN</td>\n",
              "      <td>NaN</td>\n",
              "      <td>NaN</td>\n",
              "      <td>0.49</td>\n",
              "      <td>-0.53</td>\n",
              "      <td>-6.94</td>\n",
              "      <td>-0.49</td>\n",
              "      <td>NaN</td>\n",
              "      <td>6.46</td>\n",
              "      <td>-0.53</td>\n",
              "      <td>NaN</td>\n",
              "      <td>NaN</td>\n",
              "      <td>-7.86</td>\n",
              "      <td>-0.34</td>\n",
              "      <td>NaN</td>\n",
              "      <td>-6.94</td>\n",
              "      <td>NaN</td>\n",
              "      <td>...</td>\n",
              "      <td>0.49</td>\n",
              "      <td>-0.24</td>\n",
              "      <td>NaN</td>\n",
              "      <td>NaN</td>\n",
              "      <td>-3.11</td>\n",
              "      <td>-6.65</td>\n",
              "      <td>NaN</td>\n",
              "      <td>-0.58</td>\n",
              "      <td>6.31</td>\n",
              "      <td>NaN</td>\n",
              "      <td>NaN</td>\n",
              "      <td>-7.86</td>\n",
              "      <td>NaN</td>\n",
              "      <td>NaN</td>\n",
              "      <td>NaN</td>\n",
              "      <td>NaN</td>\n",
              "      <td>NaN</td>\n",
              "      <td>NaN</td>\n",
              "      <td>NaN</td>\n",
              "      <td>NaN</td>\n",
              "      <td>NaN</td>\n",
              "      <td>NaN</td>\n",
              "      <td>NaN</td>\n",
              "      <td>NaN</td>\n",
              "      <td>NaN</td>\n",
              "      <td>NaN</td>\n",
              "      <td>NaN</td>\n",
              "      <td>NaN</td>\n",
              "      <td>NaN</td>\n",
              "      <td>NaN</td>\n",
              "      <td>NaN</td>\n",
              "      <td>NaN</td>\n",
              "      <td>NaN</td>\n",
              "      <td>NaN</td>\n",
              "      <td>NaN</td>\n",
              "      <td>NaN</td>\n",
              "      <td>NaN</td>\n",
              "      <td>NaN</td>\n",
              "      <td>NaN</td>\n",
              "      <td>NaN</td>\n",
              "    </tr>\n",
              "    <tr>\n",
              "      <th>24981</th>\n",
              "      <td>U24982</td>\n",
              "      <td>NaN</td>\n",
              "      <td>NaN</td>\n",
              "      <td>NaN</td>\n",
              "      <td>NaN</td>\n",
              "      <td>-9.71</td>\n",
              "      <td>NaN</td>\n",
              "      <td>4.56</td>\n",
              "      <td>-8.30</td>\n",
              "      <td>NaN</td>\n",
              "      <td>NaN</td>\n",
              "      <td>NaN</td>\n",
              "      <td>NaN</td>\n",
              "      <td>-9.47</td>\n",
              "      <td>NaN</td>\n",
              "      <td>3.45</td>\n",
              "      <td>-0.92</td>\n",
              "      <td>-4.51</td>\n",
              "      <td>-4.13</td>\n",
              "      <td>-5.73</td>\n",
              "      <td>-9.51</td>\n",
              "      <td>2.82</td>\n",
              "      <td>NaN</td>\n",
              "      <td>NaN</td>\n",
              "      <td>NaN</td>\n",
              "      <td>NaN</td>\n",
              "      <td>-0.49</td>\n",
              "      <td>2.91</td>\n",
              "      <td>2.62</td>\n",
              "      <td>8.30</td>\n",
              "      <td>NaN</td>\n",
              "      <td>3.06</td>\n",
              "      <td>5.44</td>\n",
              "      <td>NaN</td>\n",
              "      <td>NaN</td>\n",
              "      <td>-0.68</td>\n",
              "      <td>2.04</td>\n",
              "      <td>NaN</td>\n",
              "      <td>NaN</td>\n",
              "      <td>1.55</td>\n",
              "      <td>...</td>\n",
              "      <td>-8.83</td>\n",
              "      <td>-0.78</td>\n",
              "      <td>NaN</td>\n",
              "      <td>NaN</td>\n",
              "      <td>4.51</td>\n",
              "      <td>-2.48</td>\n",
              "      <td>NaN</td>\n",
              "      <td>1.26</td>\n",
              "      <td>5.78</td>\n",
              "      <td>NaN</td>\n",
              "      <td>NaN</td>\n",
              "      <td>NaN</td>\n",
              "      <td>NaN</td>\n",
              "      <td>NaN</td>\n",
              "      <td>-4.56</td>\n",
              "      <td>NaN</td>\n",
              "      <td>NaN</td>\n",
              "      <td>NaN</td>\n",
              "      <td>NaN</td>\n",
              "      <td>3.16</td>\n",
              "      <td>NaN</td>\n",
              "      <td>NaN</td>\n",
              "      <td>NaN</td>\n",
              "      <td>NaN</td>\n",
              "      <td>NaN</td>\n",
              "      <td>NaN</td>\n",
              "      <td>NaN</td>\n",
              "      <td>NaN</td>\n",
              "      <td>NaN</td>\n",
              "      <td>NaN</td>\n",
              "      <td>NaN</td>\n",
              "      <td>NaN</td>\n",
              "      <td>NaN</td>\n",
              "      <td>NaN</td>\n",
              "      <td>NaN</td>\n",
              "      <td>NaN</td>\n",
              "      <td>NaN</td>\n",
              "      <td>NaN</td>\n",
              "      <td>NaN</td>\n",
              "      <td>NaN</td>\n",
              "    </tr>\n",
              "    <tr>\n",
              "      <th>24982</th>\n",
              "      <td>U24983</td>\n",
              "      <td>2.43</td>\n",
              "      <td>2.67</td>\n",
              "      <td>-3.98</td>\n",
              "      <td>4.27</td>\n",
              "      <td>-2.28</td>\n",
              "      <td>7.33</td>\n",
              "      <td>2.33</td>\n",
              "      <td>4.56</td>\n",
              "      <td>6.75</td>\n",
              "      <td>4.61</td>\n",
              "      <td>-3.16</td>\n",
              "      <td>7.38</td>\n",
              "      <td>-8.20</td>\n",
              "      <td>9.08</td>\n",
              "      <td>-8.83</td>\n",
              "      <td>-7.77</td>\n",
              "      <td>5.49</td>\n",
              "      <td>1.36</td>\n",
              "      <td>-9.32</td>\n",
              "      <td>7.04</td>\n",
              "      <td>7.28</td>\n",
              "      <td>3.20</td>\n",
              "      <td>-0.05</td>\n",
              "      <td>-1.26</td>\n",
              "      <td>6.94</td>\n",
              "      <td>5.49</td>\n",
              "      <td>1.21</td>\n",
              "      <td>5.00</td>\n",
              "      <td>7.38</td>\n",
              "      <td>2.33</td>\n",
              "      <td>3.35</td>\n",
              "      <td>6.17</td>\n",
              "      <td>-4.81</td>\n",
              "      <td>3.79</td>\n",
              "      <td>6.26</td>\n",
              "      <td>8.54</td>\n",
              "      <td>5.29</td>\n",
              "      <td>1.12</td>\n",
              "      <td>0.83</td>\n",
              "      <td>...</td>\n",
              "      <td>6.17</td>\n",
              "      <td>-0.29</td>\n",
              "      <td>0.83</td>\n",
              "      <td>4.22</td>\n",
              "      <td>4.27</td>\n",
              "      <td>7.38</td>\n",
              "      <td>6.21</td>\n",
              "      <td>7.48</td>\n",
              "      <td>5.15</td>\n",
              "      <td>3.20</td>\n",
              "      <td>6.26</td>\n",
              "      <td>NaN</td>\n",
              "      <td>NaN</td>\n",
              "      <td>NaN</td>\n",
              "      <td>NaN</td>\n",
              "      <td>NaN</td>\n",
              "      <td>NaN</td>\n",
              "      <td>NaN</td>\n",
              "      <td>NaN</td>\n",
              "      <td>NaN</td>\n",
              "      <td>NaN</td>\n",
              "      <td>NaN</td>\n",
              "      <td>NaN</td>\n",
              "      <td>NaN</td>\n",
              "      <td>NaN</td>\n",
              "      <td>NaN</td>\n",
              "      <td>7.23</td>\n",
              "      <td>NaN</td>\n",
              "      <td>NaN</td>\n",
              "      <td>NaN</td>\n",
              "      <td>NaN</td>\n",
              "      <td>NaN</td>\n",
              "      <td>NaN</td>\n",
              "      <td>NaN</td>\n",
              "      <td>NaN</td>\n",
              "      <td>NaN</td>\n",
              "      <td>NaN</td>\n",
              "      <td>NaN</td>\n",
              "      <td>NaN</td>\n",
              "      <td>NaN</td>\n",
              "    </tr>\n",
              "  </tbody>\n",
              "</table>\n",
              "<p>24983 rows × 101 columns</p>\n",
              "</div>"
            ],
            "text/plain": [
              "       UserID    J1    J2    J3    J4    J5  ...   J95   J96   J97   J98     J  J100\n",
              "0          U1 -7.82  8.79 -9.66 -8.16 -7.52  ...   NaN   NaN -5.63   NaN   NaN   NaN\n",
              "1          U2  4.08 -0.29  6.36  4.37 -2.38  ... -0.19 -2.14  3.06  0.34 -4.32  1.07\n",
              "2          U3   NaN   NaN   NaN   NaN  9.03  ...   NaN   NaN   NaN   NaN   NaN   NaN\n",
              "3          U4   NaN  8.35   NaN   NaN  1.80  ...   NaN   NaN   NaN   NaN   NaN   NaN\n",
              "4          U5  8.50  4.61 -4.17 -5.39  1.36  ...  5.73  1.55  3.11  6.55  1.80  1.60\n",
              "...       ...   ...   ...   ...   ...   ...  ...   ...   ...   ...   ...   ...   ...\n",
              "24978  U24979  0.44  7.43  9.08  2.33  3.20  ...  8.45  9.03  6.55  8.69  8.79  7.43\n",
              "24979  U24980  9.13 -8.16  8.59  9.08  0.87  ...  9.22 -8.20 -7.23 -8.59  9.13  8.45\n",
              "24980  U24981   NaN   NaN   NaN   NaN -7.77  ...   NaN   NaN   NaN   NaN   NaN   NaN\n",
              "24981  U24982   NaN   NaN   NaN   NaN -9.71  ...   NaN   NaN   NaN   NaN   NaN   NaN\n",
              "24982  U24983  2.43  2.67 -3.98  4.27 -2.28  ...   NaN   NaN   NaN   NaN   NaN   NaN\n",
              "\n",
              "[24983 rows x 101 columns]"
            ]
          },
          "metadata": {},
          "execution_count": 18
        }
      ]
    },
    {
      "cell_type": "code",
      "metadata": {
        "id": "4nAnefYET9sy"
      },
      "source": [
        "# copy data to another frame\n",
        "df2=df_jester"
      ],
      "execution_count": 19,
      "outputs": []
    },
    {
      "cell_type": "code",
      "metadata": {
        "id": "Qj2F-0w9UFPh"
      },
      "source": [
        "# retrive column names\n",
        "col_name=df2.columns[1:101]"
      ],
      "execution_count": 20,
      "outputs": []
    },
    {
      "cell_type": "code",
      "metadata": {
        "id": "MaSimRDHUGrN"
      },
      "source": [
        "df3=(df_jester.values)   "
      ],
      "execution_count": 21,
      "outputs": []
    },
    {
      "cell_type": "code",
      "metadata": {
        "colab": {
          "base_uri": "https://localhost:8080/"
        },
        "id": "jPmcyiQ9UGwH",
        "outputId": "6c16e3ea-e01c-4b9b-9333-460695824c48"
      },
      "source": [
        "# retrive rating from dataset\n",
        "ratings=(df3[:,1:102].ravel())\n",
        "ratings.size"
      ],
      "execution_count": 22,
      "outputs": [
        {
          "output_type": "execute_result",
          "data": {
            "text/plain": [
              "2498300"
            ]
          },
          "metadata": {},
          "execution_count": 22
        }
      ]
    },
    {
      "cell_type": "code",
      "metadata": {
        "id": "FayCsP13ZlR9"
      },
      "source": [
        "# array of rows\n",
        "a=[]\n",
        "for i in range (1,24984):\n",
        "    a=a+[i]"
      ],
      "execution_count": 23,
      "outputs": []
    },
    {
      "cell_type": "code",
      "metadata": {
        "id": "ivhXgLa7ZocT"
      },
      "source": [
        "# array of columns\n",
        "b=[]\n",
        "for i in range(100):\n",
        "  b.extend(a)"
      ],
      "execution_count": 24,
      "outputs": []
    },
    {
      "cell_type": "code",
      "metadata": {
        "id": "JxW3pkMGZrPe"
      },
      "source": [
        "b.sort()   # sort array"
      ],
      "execution_count": 25,
      "outputs": []
    },
    {
      "cell_type": "code",
      "metadata": {
        "id": "zPRAro_DZ0el"
      },
      "source": [
        "jokes=[]\n",
        "\n",
        "for i in range (1,101):\n",
        "    jokes=jokes+[str(i)]"
      ],
      "execution_count": 26,
      "outputs": []
    },
    {
      "cell_type": "code",
      "metadata": {
        "id": "wWJn9telZ8GD"
      },
      "source": [
        "users=b   #length=2498300\n",
        "movies=jokes*24983   #length=2498300 \n",
        "\n",
        "ratings_dict={'userID':users,\n",
        "              'itemID':movies,\n",
        "              'rating':ratings}\n",
        "\n",
        "df_jester=pd.DataFrame(ratings_dict)"
      ],
      "execution_count": 27,
      "outputs": []
    },
    {
      "cell_type": "code",
      "metadata": {
        "id": "uh-4dAchXE1-"
      },
      "source": [
        "df_jester.dropna(inplace=True)"
      ],
      "execution_count": 28,
      "outputs": []
    },
    {
      "cell_type": "code",
      "metadata": {
        "colab": {
          "base_uri": "https://localhost:8080/",
          "height": 419
        },
        "id": "V5hZjUAjXLTH",
        "outputId": "cc4beb76-80c8-49f1-e77c-557301b85a96"
      },
      "source": [
        "df_jester"
      ],
      "execution_count": 29,
      "outputs": [
        {
          "output_type": "execute_result",
          "data": {
            "text/html": [
              "<div>\n",
              "<style scoped>\n",
              "    .dataframe tbody tr th:only-of-type {\n",
              "        vertical-align: middle;\n",
              "    }\n",
              "\n",
              "    .dataframe tbody tr th {\n",
              "        vertical-align: top;\n",
              "    }\n",
              "\n",
              "    .dataframe thead th {\n",
              "        text-align: right;\n",
              "    }\n",
              "</style>\n",
              "<table border=\"1\" class=\"dataframe\">\n",
              "  <thead>\n",
              "    <tr style=\"text-align: right;\">\n",
              "      <th></th>\n",
              "      <th>userID</th>\n",
              "      <th>itemID</th>\n",
              "      <th>rating</th>\n",
              "    </tr>\n",
              "  </thead>\n",
              "  <tbody>\n",
              "    <tr>\n",
              "      <th>0</th>\n",
              "      <td>1</td>\n",
              "      <td>1</td>\n",
              "      <td>-7.82</td>\n",
              "    </tr>\n",
              "    <tr>\n",
              "      <th>1</th>\n",
              "      <td>1</td>\n",
              "      <td>2</td>\n",
              "      <td>8.79</td>\n",
              "    </tr>\n",
              "    <tr>\n",
              "      <th>2</th>\n",
              "      <td>1</td>\n",
              "      <td>3</td>\n",
              "      <td>-9.66</td>\n",
              "    </tr>\n",
              "    <tr>\n",
              "      <th>3</th>\n",
              "      <td>1</td>\n",
              "      <td>4</td>\n",
              "      <td>-8.16</td>\n",
              "    </tr>\n",
              "    <tr>\n",
              "      <th>4</th>\n",
              "      <td>1</td>\n",
              "      <td>5</td>\n",
              "      <td>-7.52</td>\n",
              "    </tr>\n",
              "    <tr>\n",
              "      <th>...</th>\n",
              "      <td>...</td>\n",
              "      <td>...</td>\n",
              "      <td>...</td>\n",
              "    </tr>\n",
              "    <tr>\n",
              "      <th>2498267</th>\n",
              "      <td>24983</td>\n",
              "      <td>68</td>\n",
              "      <td>7.48</td>\n",
              "    </tr>\n",
              "    <tr>\n",
              "      <th>2498268</th>\n",
              "      <td>24983</td>\n",
              "      <td>69</td>\n",
              "      <td>5.15</td>\n",
              "    </tr>\n",
              "    <tr>\n",
              "      <th>2498269</th>\n",
              "      <td>24983</td>\n",
              "      <td>70</td>\n",
              "      <td>3.2</td>\n",
              "    </tr>\n",
              "    <tr>\n",
              "      <th>2498270</th>\n",
              "      <td>24983</td>\n",
              "      <td>71</td>\n",
              "      <td>6.26</td>\n",
              "    </tr>\n",
              "    <tr>\n",
              "      <th>2498286</th>\n",
              "      <td>24983</td>\n",
              "      <td>87</td>\n",
              "      <td>7.23</td>\n",
              "    </tr>\n",
              "  </tbody>\n",
              "</table>\n",
              "<p>1810455 rows × 3 columns</p>\n",
              "</div>"
            ],
            "text/plain": [
              "         userID itemID rating\n",
              "0             1      1  -7.82\n",
              "1             1      2   8.79\n",
              "2             1      3  -9.66\n",
              "3             1      4  -8.16\n",
              "4             1      5  -7.52\n",
              "...         ...    ...    ...\n",
              "2498267   24983     68   7.48\n",
              "2498268   24983     69   5.15\n",
              "2498269   24983     70    3.2\n",
              "2498270   24983     71   6.26\n",
              "2498286   24983     87   7.23\n",
              "\n",
              "[1810455 rows x 3 columns]"
            ]
          },
          "metadata": {},
          "execution_count": 29
        }
      ]
    },
    {
      "cell_type": "code",
      "metadata": {
        "id": "poBxlrVeGWwz"
      },
      "source": [
        "# function for copmarision of parametes for different algorithms\n",
        "def parameter_comparision1(svd,nmf):\n",
        "    # Calculate Average of RMSE, MAE, Fit time and Test time\n",
        "    ls = ['test_mae','test_rmse','fit_time','test_time']\n",
        "    svd_ls=[]\n",
        "    for i in range(len(ls)):\n",
        "        svd_ls.append(np.mean(svd[ls[i]]))\n",
        "    nmf_ls=[]\n",
        "    for i in range(len(ls)):\n",
        "        nmf_ls.append(np.mean(nmf[ls[i]]))\n",
        "\n",
        "    print(svd_ls)\n",
        "    print(nmf_ls)\n",
        "\n",
        "    # Plot graph of parameters for all methods\n",
        "    labels = ['MAE','RMSE','Fit Time','Test Time']\n",
        "    x = svd_ls;\n",
        "    y = nmf_ls;\n",
        "\n",
        "    x_axis = np.arange(len(labels))\n",
        "    plt.bar(x_axis-0.2, x, 0.2, label='SVD')\n",
        "    plt.bar(x_axis, y, 0.2, label='NMF')\n",
        "\n",
        "    plt.xticks(x_axis, labels)\n",
        "    plt.title(\"Parameter Comparision\")\n",
        "    plt.legend()\n",
        "    plt.show()"
      ],
      "execution_count": 30,
      "outputs": []
    },
    {
      "cell_type": "markdown",
      "metadata": {
        "id": "BuV6wgDPjad1"
      },
      "source": [
        "Apply Algorithms on Jester dataset"
      ]
    },
    {
      "cell_type": "code",
      "metadata": {
        "id": "ZeFHvZxlYHnT"
      },
      "source": [
        "reader=Reader(rating_scale=(-10,10))\n",
        "trainset=Dataset.load_from_df(df_jester[['userID','itemID','rating']],reader).build_full_trainset()\n",
        "data=Dataset.load_from_df(df_jester[['userID','itemID','rating']],reader)"
      ],
      "execution_count": 31,
      "outputs": []
    },
    {
      "cell_type": "code",
      "metadata": {
        "colab": {
          "base_uri": "https://localhost:8080/"
        },
        "id": "fxVxKsrVYQgG",
        "outputId": "6cd20e66-29d2-453a-e54e-0279e274316a"
      },
      "source": [
        "algo = SVD()\n",
        "algo.fit(trainset)\n",
        "svd_jester = cross_validate(algo, data, measures=['RMSE', 'MAE'], cv=5, verbose=True)"
      ],
      "execution_count": 32,
      "outputs": [
        {
          "output_type": "stream",
          "name": "stdout",
          "text": [
            "Evaluating RMSE, MAE of algorithm SVD on 5 split(s).\n",
            "\n",
            "                  Fold 1  Fold 2  Fold 3  Fold 4  Fold 5  Mean    Std     \n",
            "RMSE (testset)    4.1090  4.1215  4.0994  4.1076  4.0945  4.1064  0.0093  \n",
            "MAE (testset)     3.1889  3.1992  3.1840  3.1906  3.1790  3.1883  0.0068  \n",
            "Fit time          71.41   71.97   71.92   71.83   71.71   71.77   0.20    \n",
            "Test time         6.11    6.22    5.66    5.63    5.58    5.84    0.27    \n"
          ]
        }
      ]
    },
    {
      "cell_type": "code",
      "metadata": {
        "colab": {
          "base_uri": "https://localhost:8080/"
        },
        "id": "kS7oMHAdYV2G",
        "outputId": "81e1a0cc-0966-41da-a475-7ccf399da956"
      },
      "source": [
        "algo = NMF()\n",
        "algo.fit(trainset)\n",
        "nmf_jester = cross_validate(algo, data, measures=['RMSE', 'MAE'], cv=5, verbose=True)"
      ],
      "execution_count": 33,
      "outputs": [
        {
          "output_type": "stream",
          "name": "stdout",
          "text": [
            "Evaluating RMSE, MAE of algorithm NMF on 5 split(s).\n",
            "\n",
            "                  Fold 1  Fold 2  Fold 3  Fold 4  Fold 5  Mean    Std     \n",
            "RMSE (testset)    5.3217  5.3362  5.3141  5.5528  5.3500  5.3750  0.0898  \n",
            "MAE (testset)     4.4953  4.4989  4.4938  4.6249  4.5043  4.5235  0.0509  \n",
            "Fit time          90.39   89.99   90.67   89.92   90.42   90.28   0.28    \n",
            "Test time         5.25    4.44    5.96    4.50    6.03    5.24    0.68    \n"
          ]
        }
      ]
    },
    {
      "cell_type": "code",
      "metadata": {
        "id": "5lSRJ6LuYVi4"
      },
      "source": [
        "# Algorithm takes more memory due to this RAM is full\n",
        "# algo = KNNBasic()\n",
        "# algo.fit(trainset)\n",
        "# knn_jester = cross_validate(algo, data, measures=['RMSE', 'MAE'], cv=5, verbose=True)"
      ],
      "execution_count": 34,
      "outputs": []
    },
    {
      "cell_type": "code",
      "metadata": {
        "colab": {
          "base_uri": "https://localhost:8080/",
          "height": 315
        },
        "id": "THfUTH7zYh2a",
        "outputId": "e94adbb7-1ddc-4fee-b312-2849f65db372"
      },
      "source": [
        "parameter_comparision1(svd_jester,nmf_jester)"
      ],
      "execution_count": 35,
      "outputs": [
        {
          "output_type": "stream",
          "name": "stdout",
          "text": [
            "[3.188348333985572, 4.10642161108577, 71.7701117515564, 5.840625286102295]\n",
            "[4.523452258164541, 5.374971440159435, 90.27807211875916, 5.23553614616394]\n"
          ]
        },
        {
          "output_type": "display_data",
          "data": {
            "image/png": "[encoded data removed]",
            "text/plain": [
              "<Figure size 432x288 with 1 Axes>"
            ]
          },
          "metadata": {
            "needs_background": "light"
          }
        }
      ]
    },
    {
      "cell_type": "code",
      "metadata": {
        "id": "jHf9MUNFG5SE"
      },
      "source": [
        ""
      ],
      "execution_count": 35,
      "outputs": []
    }
  ]
}