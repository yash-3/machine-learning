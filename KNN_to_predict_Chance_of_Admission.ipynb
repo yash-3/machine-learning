{
  "nbformat": 4,
  "nbformat_minor": 0,
  "metadata": {
    "colab": {
      "name": "KNN to predict Chance of Admission.ipynb",
      "provenance": [],
      "collapsed_sections": [],
      "authorship_tag": "ABX9TyPYldJ8x3P6G7GqjJSMujFf",
      "include_colab_link": true
    },
    "kernelspec": {
      "name": "python3",
      "display_name": "Python 3"
    }
  },
  "cells": [
    {
      "cell_type": "markdown",
      "metadata": {
        "id": "view-in-github",
        "colab_type": "text"
      },
      "source": [
        "<a href=\"https://colab.research.google.com/github/yash-3/machine-learning/blob/main/KNN_to_predict_Chance_of_Admission.ipynb\" target=\"_parent\"><img src=\"https://colab.research.google.com/assets/colab-badge.svg\" alt=\"Open In Colab\"/></a>"
      ]
    },
    {
      "cell_type": "markdown",
      "metadata": {
        "id": "z7QqTo9cdvYi"
      },
      "source": [
        "**Task:** To predict chance of Admission based on Exams Score Using K-Nearest Neighbour Algorithm"
      ]
    },
    {
      "cell_type": "code",
      "metadata": {
        "id": "Pm64WnPqpLD-"
      },
      "source": [
        "import numpy as np      #To Prform Numerical Operation\r\n",
        "import matplotlib.pyplot as plt   #plot something \r\n",
        "import pandas as pd     #To Play With Dataset\r\n",
        "import math"
      ],
      "execution_count": 1,
      "outputs": []
    },
    {
      "cell_type": "code",
      "metadata": {
        "id": "pGdrLDT5sU05"
      },
      "source": [
        "from google.colab import drive  #import gogle drive data"
      ],
      "execution_count": 2,
      "outputs": []
    },
    {
      "cell_type": "code",
      "metadata": {
        "colab": {
          "base_uri": "https://localhost:8080/"
        },
        "id": "eSq63-DZmN2V",
        "outputId": "a3461342-9703-4d9d-fea0-d91efada0bae"
      },
      "source": [
        "drive.mount('/content/drive') # mount drive data into colab cloud and enter authentication code"
      ],
      "execution_count": 3,
      "outputs": [
        {
          "output_type": "stream",
          "text": [
            "Drive already mounted at /content/drive; to attempt to forcibly remount, call drive.mount(\"/content/drive\", force_remount=True).\n"
          ],
          "name": "stdout"
        }
      ]
    },
    {
      "cell_type": "code",
      "metadata": {
        "colab": {
          "base_uri": "https://localhost:8080/"
        },
        "id": "aSnOiPsYmN2Y",
        "outputId": "c5121036-9728-434a-f028-f48018388a9a"
      },
      "source": [
        "cd /content/drive/\"My Drive/Colab Notebooks/Dataset Files\"  "
      ],
      "execution_count": 4,
      "outputs": [
        {
          "output_type": "stream",
          "text": [
            "/content/drive/My Drive/Colab Notebooks/Dataset Files\n"
          ],
          "name": "stdout"
        }
      ]
    },
    {
      "cell_type": "code",
      "metadata": {
        "id": "6Um6J1P1mN2b"
      },
      "source": [
        "dataset=pd.read_csv(\"Admission_Predict.csv\")"
      ],
      "execution_count": 5,
      "outputs": []
    },
    {
      "cell_type": "code",
      "metadata": {
        "colab": {
          "base_uri": "https://localhost:8080/",
          "height": 204
        },
        "id": "oj8wsmiSGz5n",
        "outputId": "3e22bc6a-ca46-45ab-d2e6-584f244cf62e"
      },
      "source": [
        "dataset.head()"
      ],
      "execution_count": 6,
      "outputs": [
        {
          "output_type": "execute_result",
          "data": {
            "text/html": [
              "<div>\n",
              "<style scoped>\n",
              "    .dataframe tbody tr th:only-of-type {\n",
              "        vertical-align: middle;\n",
              "    }\n",
              "\n",
              "    .dataframe tbody tr th {\n",
              "        vertical-align: top;\n",
              "    }\n",
              "\n",
              "    .dataframe thead th {\n",
              "        text-align: right;\n",
              "    }\n",
              "</style>\n",
              "<table border=\"1\" class=\"dataframe\">\n",
              "  <thead>\n",
              "    <tr style=\"text-align: right;\">\n",
              "      <th></th>\n",
              "      <th>Serial No.</th>\n",
              "      <th>GRE Score</th>\n",
              "      <th>TOEFL Score</th>\n",
              "      <th>University Rating</th>\n",
              "      <th>SOP</th>\n",
              "      <th>LOR</th>\n",
              "      <th>CGPA</th>\n",
              "      <th>Research</th>\n",
              "      <th>Chance of Admit</th>\n",
              "    </tr>\n",
              "  </thead>\n",
              "  <tbody>\n",
              "    <tr>\n",
              "      <th>0</th>\n",
              "      <td>1</td>\n",
              "      <td>337</td>\n",
              "      <td>118</td>\n",
              "      <td>4</td>\n",
              "      <td>4.5</td>\n",
              "      <td>4.5</td>\n",
              "      <td>9.65</td>\n",
              "      <td>1</td>\n",
              "      <td>0.92</td>\n",
              "    </tr>\n",
              "    <tr>\n",
              "      <th>1</th>\n",
              "      <td>2</td>\n",
              "      <td>324</td>\n",
              "      <td>107</td>\n",
              "      <td>4</td>\n",
              "      <td>4.0</td>\n",
              "      <td>4.5</td>\n",
              "      <td>8.87</td>\n",
              "      <td>1</td>\n",
              "      <td>0.76</td>\n",
              "    </tr>\n",
              "    <tr>\n",
              "      <th>2</th>\n",
              "      <td>3</td>\n",
              "      <td>316</td>\n",
              "      <td>104</td>\n",
              "      <td>3</td>\n",
              "      <td>3.0</td>\n",
              "      <td>3.5</td>\n",
              "      <td>8.00</td>\n",
              "      <td>1</td>\n",
              "      <td>0.72</td>\n",
              "    </tr>\n",
              "    <tr>\n",
              "      <th>3</th>\n",
              "      <td>4</td>\n",
              "      <td>322</td>\n",
              "      <td>110</td>\n",
              "      <td>3</td>\n",
              "      <td>3.5</td>\n",
              "      <td>2.5</td>\n",
              "      <td>8.67</td>\n",
              "      <td>1</td>\n",
              "      <td>0.80</td>\n",
              "    </tr>\n",
              "    <tr>\n",
              "      <th>4</th>\n",
              "      <td>5</td>\n",
              "      <td>314</td>\n",
              "      <td>103</td>\n",
              "      <td>2</td>\n",
              "      <td>2.0</td>\n",
              "      <td>3.0</td>\n",
              "      <td>8.21</td>\n",
              "      <td>0</td>\n",
              "      <td>0.65</td>\n",
              "    </tr>\n",
              "  </tbody>\n",
              "</table>\n",
              "</div>"
            ],
            "text/plain": [
              "   Serial No.  GRE Score  TOEFL Score  ...  CGPA  Research  Chance of Admit \n",
              "0           1        337          118  ...  9.65         1              0.92\n",
              "1           2        324          107  ...  8.87         1              0.76\n",
              "2           3        316          104  ...  8.00         1              0.72\n",
              "3           4        322          110  ...  8.67         1              0.80\n",
              "4           5        314          103  ...  8.21         0              0.65\n",
              "\n",
              "[5 rows x 9 columns]"
            ]
          },
          "metadata": {
            "tags": []
          },
          "execution_count": 6
        }
      ]
    },
    {
      "cell_type": "code",
      "metadata": {
        "colab": {
          "base_uri": "https://localhost:8080/"
        },
        "id": "ToJimHbdthWj",
        "outputId": "253c2104-d10f-4f72-e556-e7448eff306e"
      },
      "source": [
        "dataset.shape"
      ],
      "execution_count": 7,
      "outputs": [
        {
          "output_type": "execute_result",
          "data": {
            "text/plain": [
              "(400, 9)"
            ]
          },
          "metadata": {
            "tags": []
          },
          "execution_count": 7
        }
      ]
    },
    {
      "cell_type": "code",
      "metadata": {
        "colab": {
          "base_uri": "https://localhost:8080/",
          "height": 297
        },
        "id": "N2JYVd4CHGmS",
        "outputId": "d1a32e38-571b-46af-88c6-40a8989b4366"
      },
      "source": [
        "dataset.describe()"
      ],
      "execution_count": 8,
      "outputs": [
        {
          "output_type": "execute_result",
          "data": {
            "text/html": [
              "<div>\n",
              "<style scoped>\n",
              "    .dataframe tbody tr th:only-of-type {\n",
              "        vertical-align: middle;\n",
              "    }\n",
              "\n",
              "    .dataframe tbody tr th {\n",
              "        vertical-align: top;\n",
              "    }\n",
              "\n",
              "    .dataframe thead th {\n",
              "        text-align: right;\n",
              "    }\n",
              "</style>\n",
              "<table border=\"1\" class=\"dataframe\">\n",
              "  <thead>\n",
              "    <tr style=\"text-align: right;\">\n",
              "      <th></th>\n",
              "      <th>Serial No.</th>\n",
              "      <th>GRE Score</th>\n",
              "      <th>TOEFL Score</th>\n",
              "      <th>University Rating</th>\n",
              "      <th>SOP</th>\n",
              "      <th>LOR</th>\n",
              "      <th>CGPA</th>\n",
              "      <th>Research</th>\n",
              "      <th>Chance of Admit</th>\n",
              "    </tr>\n",
              "  </thead>\n",
              "  <tbody>\n",
              "    <tr>\n",
              "      <th>count</th>\n",
              "      <td>400.000000</td>\n",
              "      <td>400.000000</td>\n",
              "      <td>400.000000</td>\n",
              "      <td>400.000000</td>\n",
              "      <td>400.000000</td>\n",
              "      <td>400.000000</td>\n",
              "      <td>400.000000</td>\n",
              "      <td>400.000000</td>\n",
              "      <td>400.000000</td>\n",
              "    </tr>\n",
              "    <tr>\n",
              "      <th>mean</th>\n",
              "      <td>200.500000</td>\n",
              "      <td>316.807500</td>\n",
              "      <td>107.410000</td>\n",
              "      <td>3.087500</td>\n",
              "      <td>3.400000</td>\n",
              "      <td>3.452500</td>\n",
              "      <td>8.598925</td>\n",
              "      <td>0.547500</td>\n",
              "      <td>0.724350</td>\n",
              "    </tr>\n",
              "    <tr>\n",
              "      <th>std</th>\n",
              "      <td>115.614301</td>\n",
              "      <td>11.473646</td>\n",
              "      <td>6.069514</td>\n",
              "      <td>1.143728</td>\n",
              "      <td>1.006869</td>\n",
              "      <td>0.898478</td>\n",
              "      <td>0.596317</td>\n",
              "      <td>0.498362</td>\n",
              "      <td>0.142609</td>\n",
              "    </tr>\n",
              "    <tr>\n",
              "      <th>min</th>\n",
              "      <td>1.000000</td>\n",
              "      <td>290.000000</td>\n",
              "      <td>92.000000</td>\n",
              "      <td>1.000000</td>\n",
              "      <td>1.000000</td>\n",
              "      <td>1.000000</td>\n",
              "      <td>6.800000</td>\n",
              "      <td>0.000000</td>\n",
              "      <td>0.340000</td>\n",
              "    </tr>\n",
              "    <tr>\n",
              "      <th>25%</th>\n",
              "      <td>100.750000</td>\n",
              "      <td>308.000000</td>\n",
              "      <td>103.000000</td>\n",
              "      <td>2.000000</td>\n",
              "      <td>2.500000</td>\n",
              "      <td>3.000000</td>\n",
              "      <td>8.170000</td>\n",
              "      <td>0.000000</td>\n",
              "      <td>0.640000</td>\n",
              "    </tr>\n",
              "    <tr>\n",
              "      <th>50%</th>\n",
              "      <td>200.500000</td>\n",
              "      <td>317.000000</td>\n",
              "      <td>107.000000</td>\n",
              "      <td>3.000000</td>\n",
              "      <td>3.500000</td>\n",
              "      <td>3.500000</td>\n",
              "      <td>8.610000</td>\n",
              "      <td>1.000000</td>\n",
              "      <td>0.730000</td>\n",
              "    </tr>\n",
              "    <tr>\n",
              "      <th>75%</th>\n",
              "      <td>300.250000</td>\n",
              "      <td>325.000000</td>\n",
              "      <td>112.000000</td>\n",
              "      <td>4.000000</td>\n",
              "      <td>4.000000</td>\n",
              "      <td>4.000000</td>\n",
              "      <td>9.062500</td>\n",
              "      <td>1.000000</td>\n",
              "      <td>0.830000</td>\n",
              "    </tr>\n",
              "    <tr>\n",
              "      <th>max</th>\n",
              "      <td>400.000000</td>\n",
              "      <td>340.000000</td>\n",
              "      <td>120.000000</td>\n",
              "      <td>5.000000</td>\n",
              "      <td>5.000000</td>\n",
              "      <td>5.000000</td>\n",
              "      <td>9.920000</td>\n",
              "      <td>1.000000</td>\n",
              "      <td>0.970000</td>\n",
              "    </tr>\n",
              "  </tbody>\n",
              "</table>\n",
              "</div>"
            ],
            "text/plain": [
              "       Serial No.   GRE Score  ...    Research  Chance of Admit \n",
              "count  400.000000  400.000000  ...  400.000000        400.000000\n",
              "mean   200.500000  316.807500  ...    0.547500          0.724350\n",
              "std    115.614301   11.473646  ...    0.498362          0.142609\n",
              "min      1.000000  290.000000  ...    0.000000          0.340000\n",
              "25%    100.750000  308.000000  ...    0.000000          0.640000\n",
              "50%    200.500000  317.000000  ...    1.000000          0.730000\n",
              "75%    300.250000  325.000000  ...    1.000000          0.830000\n",
              "max    400.000000  340.000000  ...    1.000000          0.970000\n",
              "\n",
              "[8 rows x 9 columns]"
            ]
          },
          "metadata": {
            "tags": []
          },
          "execution_count": 8
        }
      ]
    },
    {
      "cell_type": "code",
      "metadata": {
        "id": "4VuJnXmROgGW"
      },
      "source": [
        "# Split dataset for Training and Testing\r\n",
        "train_set = dataset.sample(frac=0.80,random_state=0)     # Training = 80%  \r\n",
        "test_set = dataset.drop(train_set.index)                # Testing =20%"
      ],
      "execution_count": 9,
      "outputs": []
    },
    {
      "cell_type": "code",
      "metadata": {
        "colab": {
          "base_uri": "https://localhost:8080/"
        },
        "id": "RO7fzf06OgMp",
        "outputId": "02238a16-b116-46f7-c6ba-1d6616bee116"
      },
      "source": [
        "print(train_set.shape)\r\n",
        "print(test_set.shape)"
      ],
      "execution_count": 10,
      "outputs": [
        {
          "output_type": "stream",
          "text": [
            "(320, 9)\n",
            "(80, 9)\n"
          ],
          "name": "stdout"
        }
      ]
    },
    {
      "cell_type": "code",
      "metadata": {
        "id": "T4cb-wHLHMhF"
      },
      "source": [
        "# Taking Important Feature from all feature\r\n",
        "# I have taken GRE, TOEFL, CGPA score..\r\n",
        "\r\n",
        "x_train = train_set.values[:,[1,2,6]]\r\n",
        "y_train = train_set.values[:,-1]\r\n",
        "\r\n",
        "x_test = test_set.values[:,[1,2,6]]\r\n",
        "y_test = test_set.values[:,-1]\r\n"
      ],
      "execution_count": 11,
      "outputs": []
    },
    {
      "cell_type": "code",
      "metadata": {
        "colab": {
          "base_uri": "https://localhost:8080/"
        },
        "id": "Ww_5n2FFnOIp",
        "outputId": "105fc2af-d902-4672-e13f-668b4fad9816"
      },
      "source": [
        "# for Training dataset\r\n",
        "y_train_modified=[]\r\n",
        "for i in y_train:\r\n",
        "    if (i>=0.7):                # 0.7 thresold taken to make class for predicting variable\r\n",
        "        y_train_modified.append(1)\r\n",
        "    else:\r\n",
        "        y_train_modified.append(0)\r\n",
        "print(y_train_modified)"
      ],
      "execution_count": 12,
      "outputs": [
        {
          "output_type": "stream",
          "text": [
            "[1, 1, 1, 1, 1, 0, 1, 1, 1, 1, 0, 1, 1, 0, 1, 0, 0, 1, 0, 1, 1, 1, 0, 0, 1, 0, 0, 0, 1, 0, 0, 1, 1, 0, 0, 1, 0, 1, 1, 1, 1, 1, 1, 1, 1, 1, 0, 1, 0, 0, 1, 1, 0, 1, 0, 1, 1, 0, 1, 1, 1, 0, 0, 0, 1, 1, 1, 1, 1, 1, 0, 1, 0, 0, 1, 0, 0, 0, 1, 0, 1, 0, 0, 1, 0, 1, 0, 1, 1, 1, 1, 1, 0, 0, 1, 1, 1, 0, 1, 1, 1, 0, 1, 0, 1, 1, 1, 0, 1, 0, 0, 1, 1, 1, 1, 1, 1, 1, 1, 0, 0, 1, 1, 0, 0, 1, 1, 1, 1, 0, 1, 1, 0, 0, 1, 0, 1, 1, 0, 0, 1, 1, 0, 0, 1, 0, 1, 1, 1, 0, 1, 1, 1, 0, 1, 1, 1, 1, 1, 1, 1, 1, 1, 0, 0, 1, 1, 1, 1, 0, 0, 1, 1, 1, 1, 1, 1, 1, 1, 1, 0, 1, 1, 1, 1, 1, 0, 1, 1, 0, 0, 1, 0, 0, 1, 1, 1, 1, 0, 1, 1, 1, 1, 0, 0, 1, 0, 1, 0, 1, 0, 1, 1, 1, 0, 1, 0, 0, 0, 1, 0, 0, 0, 0, 1, 0, 1, 1, 1, 0, 0, 1, 1, 0, 1, 0, 1, 0, 1, 1, 1, 0, 1, 1, 0, 0, 0, 1, 0, 1, 0, 1, 1, 0, 0, 0, 0, 1, 1, 1, 1, 0, 0, 0, 1, 1, 1, 0, 0, 1, 0, 1, 0, 0, 1, 0, 1, 1, 1, 1, 1, 0, 1, 0, 0, 1, 1, 0, 0, 0, 1, 0, 1, 0, 0, 1, 1, 1, 1, 1, 1, 1, 1, 0, 1, 1, 0, 0, 0, 1, 0, 1, 1, 1, 0, 0, 0, 1, 1, 1]\n"
          ],
          "name": "stdout"
        }
      ]
    },
    {
      "cell_type": "code",
      "metadata": {
        "id": "uOa1D116PTe8"
      },
      "source": [
        "# Calculate Distance between two points using Euclidean distance\r\n",
        "def euclidean_distance(row1,row2):\r\n",
        "    distance=0.0\r\n",
        "    for i in range(len(row1)):\r\n",
        "        distance+=(row1[i]-row2[i])**2\r\n",
        "    return math.sqrt(distance)"
      ],
      "execution_count": 13,
      "outputs": []
    },
    {
      "cell_type": "code",
      "metadata": {
        "colab": {
          "base_uri": "https://localhost:8080/"
        },
        "id": "BdjoyVP9PTwV",
        "outputId": "15c2dbcc-59e6-49e0-a90a-9c4675ef8eab"
      },
      "source": [
        "\r\n",
        "\r\n",
        "# Calculate distance from any one point to other all points\r\n",
        "distance=[]\r\n",
        "for i in range(len(x_train)):\r\n",
        "    distance.append([euclidean_distance(x_train[i],x_train[0]),y_train_modified[i]])\r\n",
        "print(distance)"
      ],
      "execution_count": 14,
      "outputs": [
        {
          "output_type": "stream",
          "text": [
            "[[0.0, 1], [5.099176404087233, 1], [17.72117377602285, 1], [3.014962686336267, 1], [7.002063981427191, 1], [5.021115413929459, 0], [5.001689714486496, 1], [3.1970142320609085, 1], [26.431799030712988, 1], [25.074680456588077, 1], [9.032031886569046, 0], [25.308464987035464, 1], [12.083045973594572, 1], [9.312147979923859, 0], [20.255656000238552, 1], [2.251133048044917, 0], [7.625247536965603, 0], [20.623969065143594, 1], [8.511691958711852, 0], [4.47402503345701, 1], [24.420483205702546, 1], [19.706252814779376, 1], [8.062760073324768, 0], [16.68797171617929, 0], [12.533798306977818, 1], [9.44830143464951, 0], [16.432906012023558, 0], [5.006755436407894, 0], [29.973269758236253, 1], [5.108434202375519, 0], [5.026967276599282, 0], [14.142139159264415, 1], [3.606674368445258, 1], [14.327627158744745, 0], [17.467959239705134, 0], [19.313870663334164, 1], [9.077973342106706, 0], [16.13842929160084, 1], [3.6171950458884576, 1], [26.855353283842685, 1], [13.153326575433303, 1], [5.392967643144171, 1], [12.654232493517732, 1], [15.13592085074443, 1], [18.609204711647404, 1], [13.939641315328025, 1], [6.068615987191808, 0], [5.388515565533796, 1], [3.190047021597017, 0], [7.088025112822329, 0], [2.2374986033515194, 1], [17.46882938264611, 1], [8.065829157625394, 0], [27.735538574183124, 1], [3.60643868657156, 0], [16.157276998306365, 1], [27.318740820176906, 1], [16.03201796406179, 0], [13.60358776205748, 1], [13.938852176560307, 1], [5.110342454278382, 1], [18.051216025520276, 0], [5.396526660732809, 0], [13.920923101576275, 0], [14.872000537923606, 1], [15.825157187213023, 1], [13.601705775379793, 1], [23.272481603816985, 1], [17.26583041733006, 1], [11.046827598908203, 1], [4.175595765875811, 0], [18.25718762569964, 1], [9.870947269639322, 0], [3.66546040764322, 0], [31.397611374115705, 1], [2.2648620267027306, 0], [3.6110940170535577, 0], [4.125154542559588, 0], [27.330576283715644, 1], [15.01495587739105, 0], [11.182705397174692, 1], [17.08858098263282, 0], [11.213367023334248, 0], [20.889815700479502, 1], [1.1461239025515524, 0], [16.16176042391422, 1], [1.4282856857085702, 0], [12.649126452051936, 1], [15.818672510675476, 1], [20.256761834014835, 1], [13.041410966609403, 1], [27.87928263065605, 1], [7.703609543584098, 0], [7.636334199077461, 0], [16.166632302368974, 1], [6.000533309631736, 1], [6.40656694337927, 1], [5.839726020970505, 0], [16.764247671756703, 1], [5.011546667447087, 1], [11.045365543973636, 1], [6.32483991892285, 0], [2.862446506050375, 1], [13.016743064223093, 0], [13.420715331158767, 1], [3.606937759374287, 1], [34.451177048106786, 1], [5.6807041817014206, 0], [15.001203285070169, 1], [9.433986432044515, 0], [5.857781149889436, 0], [8.064738061462382, 1], [2.2387719848166765, 1], [18.358256997874282, 1], [22.85546105419884, 1], [14.781407240178453, 1], [26.08847255015134, 1], [18.97434056825164, 1], [1.4269197594819412, 1], [4.492760843846465, 0], [13.049172387550101, 0], [4.12457270514171, 1], [22.4847170317974, 1], [3.6171950458884576, 0], [19.672315572906, 0], [24.182109089159283, 1], [21.97461262457202, 1], [10.29564956668592, 1], [9.224104292558708, 1], [17.90468095219795, 0], [26.58489984935057, 1], [8.064738061462382, 1], [20.129868355257567, 0], [13.629908290227048, 0], [15.816703196304848, 1], [3.0320949853195565, 0], [19.24537347000572, 1], [8.064738061462382, 1], [11.193373039437219, 0], [10.065465712027438, 0], [20.8854614504923, 1], [8.247084333265908, 1], [12.050377587445134, 0], [2.0030227157973024, 0], [16.157131552351736, 1], [8.062760073324768, 0], [5.083935483461607, 1], [19.652267044796638, 1], [18.04020232702505, 1], [10.440478916218355, 0], [19.697969438497967, 1], [28.653097563788805, 1], [5.673940429719015, 1], [8.24914541028342, 0], [23.720033726788838, 1], [3.6072288532889067, 1], [13.934130758680285, 1], [16.1424161760252, 1], [2.2398437445500523, 1], [8.062760073324768, 1], [9.45, 1], [15.654021847435885, 1], [32.29677383269109, 1], [9.264345632585176, 0], [9.849040562410128, 0], [23.120069204048676, 1], [10.052507149960153, 1], [26.63005820496831, 1], [10.198529305738157, 1], [4.486602277893596, 0], [5.008402939061512, 0], [3.1706308520545243, 1], [8.246235504762158, 1], [9.055832374773729, 1], [4.124087777921319, 1], [17.500582847436824, 1], [24.610412430514042, 1], [21.944192853691384, 1], [8.062481007729568, 1], [16.133892896632233, 1], [4.013589415971693, 0], [5.850675174712744, 1], [8.611620056644394, 1], [10.000604981699857, 1], [4.476170238049487, 1], [16.28649747490233, 1], [6.211891821337522, 0], [4.474326765000518, 1], [13.92861802190009, 1], [13.471822445385778, 0], [5.868185409477107, 0], [16.55427739286738, 1], [7.826237921249264, 0], [13.081421941058244, 0], [7.093208018943192, 1], [12.661946927704287, 1], [6.004031978595717, 1], [32.66818023704412, 1], [15.042503116170527, 0], [8.602325267042627, 1], [20.2551326828535, 1], [17.474899141339844, 1], [3.1653751752359467, 1], [7.834034720372383, 0], [2.237163382500259, 0], [17.469791069157065, 1], [11.200397314381307, 0], [12.09998347106309, 1], [11.000018181803156, 0], [18.393303129128274, 1], [7.280549429816406, 0], [30.43908014378884, 1], [1.4568802284333464, 1], [18.80706250321937, 1], [8.256397519499652, 0], [27.306118362008174, 1], [11.334125462513638, 0], [12.6496798378457, 0], [7.619245369457529, 0], [11.402385715279062, 1], [10.3, 0], [1.4499655168313488, 0], [5.1296783524895595, 0], [10.29842706436279, 0], [31.799528298388328, 1], [19.24681791881453, 0], [13.419124412568802, 1], [20.89135945791944, 1], [27.918452679186935, 1], [4.507061126721048, 0], [7.362744053679987, 0], [27.811659425499947, 1], [28.663349420470734, 1], [15.283245728574803, 0], [11.402284858746514, 1], [6.363175307973213, 0], [18.391305010792465, 1], [12.578155667664477, 0], [16.42071862008481, 1], [16.56111107383801, 1], [23.72323966072088, 1], [14.374922608487323, 0], [15.010449693463551, 1], [24.17933001553186, 1], [4.142463035441596, 0], [6.466065264130885, 0], [5.000639959045242, 0], [2.2561028345356955, 1], [1.0440306508910553, 0], [13.901438774457844, 1], [8.247399590173863, 0], [3.169921134665656, 1], [21.93171219946131, 1], [5.385758999435455, 0], [14.57703673590761, 0], [15.25870571182235, 0], [1.4966963619919706, 0], [9.864765582617764, 1], [21.940758874751804, 1], [19.698144582675802, 1], [15.814426957686454, 1], [4.242746751810671, 0], [6.708472255290321, 0], [5.831989368988939, 0], [14.875873083621007, 1], [13.92882263509734, 1], [21.559037548091055, 1], [10.296115772464876, 0], [10.005778330544805, 0], [7.075139574594978, 1], [10.44222198576529, 0], [6.325891241556402, 1], [9.478734092694024, 0], [11.200999955361128, 0], [18.440284704960497, 1], [3.048212591011329, 0], [17.263835031649254, 1], [18.978767083243316, 1], [22.857436426686174, 1], [6.08437342706708, 1], [3.0020159892978584, 1], [10.051149188028203, 0], [15.822392360196355, 1], [10.95890505479448, 0], [7.009251029889, 0], [3.019205193424256, 1], [8.066449032876857, 1], [8.074255383625168, 0], [10.830627867302985, 0], [11.725612990372827, 0], [2.047828117787233, 1], [3.1805031048562116, 0], [17.001555811160344, 1], [5.012943247235101, 0], [13.000465376285574, 0], [31.343898927861545, 1], [29.082200742034637, 1], [28.67576677266015, 1], [25.947863110475975, 1], [30.889935254059694, 1], [7.8108898340714035, 1], [15.133076356114774, 1], [26.934409219435278, 1], [2.0522183119736557, 0], [3.0320949853195565, 1], [6.0, 1], [8.532877591996735, 0], [10.643350036525154, 0], [7.107629703353995, 0], [16.763415523096718, 1], [6.351094393882049, 0], [21.479292353334177, 1], [12.651387275710123, 1], [13.003234213071762, 1], [3.208052368649864, 0], [5.833429523016457, 0], [5.831029068697909, 0], [31.977141836005295, 1], [34.46519403688306, 1], [9.064215354899728, 1]]\n"
          ],
          "name": "stdout"
        }
      ]
    },
    {
      "cell_type": "code",
      "metadata": {
        "colab": {
          "base_uri": "https://localhost:8080/"
        },
        "id": "5KUNvzhFPT45",
        "outputId": "0ed8dce8-0aac-4cd1-d463-f965c1c02ceb"
      },
      "source": [
        "len(distance)"
      ],
      "execution_count": 15,
      "outputs": [
        {
          "output_type": "execute_result",
          "data": {
            "text/plain": [
              "320"
            ]
          },
          "metadata": {
            "tags": []
          },
          "execution_count": 15
        }
      ]
    },
    {
      "cell_type": "code",
      "metadata": {
        "id": "lP67lcfhTKsg"
      },
      "source": [
        "# sorting in ascending order based on distance\r\n",
        "# because we need top minimum distances...\r\n",
        "distance.sort()"
      ],
      "execution_count": 16,
      "outputs": []
    },
    {
      "cell_type": "code",
      "metadata": {
        "id": "S5gzqLiRTK5p"
      },
      "source": [
        "# K value choosen 3 because it will give more accuracy at k=3 \r\n",
        "nearest_neighbour = 3"
      ],
      "execution_count": 17,
      "outputs": []
    },
    {
      "cell_type": "code",
      "metadata": {
        "id": "EXQHpmeGPTpV"
      },
      "source": [
        "# Unique class or Unique output variable \r\n",
        "unique_list=[1,0]"
      ],
      "execution_count": 18,
      "outputs": []
    },
    {
      "cell_type": "code",
      "metadata": {
        "colab": {
          "base_uri": "https://localhost:8080/"
        },
        "id": "Uv3WjoqWTLE2",
        "outputId": "3001f180-4011-4733-a252-938cf7168db2"
      },
      "source": [
        "identify=[0 for i in range(len(unique_list))]\r\n",
        "for i in range(nearest_neighbour):\r\n",
        "    identify[distance[i][1]]=identify[distance[i][1]]+1\r\n",
        "print(identify)"
      ],
      "execution_count": 19,
      "outputs": [
        {
          "output_type": "stream",
          "text": [
            "[2, 1]\n"
          ],
          "name": "stdout"
        }
      ]
    },
    {
      "cell_type": "code",
      "metadata": {
        "colab": {
          "base_uri": "https://localhost:8080/"
        },
        "id": "JkeoT2bEUyqc",
        "outputId": "41938b16-d504-47cc-f104-731ddfa7903a"
      },
      "source": [
        "print(\"The Predicted Class is : \",unique_list[identify.index(max(identify))])"
      ],
      "execution_count": 20,
      "outputs": [
        {
          "output_type": "stream",
          "text": [
            "The Predicted Class is :  1\n"
          ],
          "name": "stdout"
        }
      ]
    },
    {
      "cell_type": "markdown",
      "metadata": {
        "id": "pL7J4X5ULoV1"
      },
      "source": [
        "**Testing Part**"
      ]
    },
    {
      "cell_type": "code",
      "metadata": {
        "colab": {
          "base_uri": "https://localhost:8080/"
        },
        "id": "mA7J9Te4wb4K",
        "outputId": "5c235b12-b0d1-4f5f-b508-256b868b3625"
      },
      "source": [
        "# For Testing Dataset\r\n",
        "y_test_modified=[]\r\n",
        "for i in y_test:\r\n",
        "    if (i>=0.7):                        # 0.7 thresold taken to make class for predicting variable\r\n",
        "        y_test_modified.append(1)\r\n",
        "    else:\r\n",
        "        y_test_modified.append(0)\r\n",
        "print(y_test_modified)"
      ],
      "execution_count": 21,
      "outputs": [
        {
          "output_type": "stream",
          "text": [
            "[0, 1, 0, 1, 1, 0, 0, 0, 1, 1, 0, 1, 1, 1, 1, 0, 0, 0, 1, 0, 0, 0, 1, 1, 1, 1, 1, 1, 1, 0, 1, 1, 1, 1, 1, 1, 1, 1, 1, 1, 1, 1, 1, 1, 1, 0, 1, 1, 1, 1, 1, 0, 1, 1, 1, 0, 0, 0, 0, 1, 0, 0, 1, 1, 1, 1, 0, 0, 0, 1, 0, 1, 1, 1, 0, 1, 1, 1, 0, 0]\n"
          ],
          "name": "stdout"
        }
      ]
    },
    {
      "cell_type": "code",
      "metadata": {
        "id": "w4Q4WI1DKQ4Z"
      },
      "source": [
        "# Predicting Target for Testing Dataset\r\n",
        "def predict_target(features,target,test,k):\r\n",
        "    distance=[]\r\n",
        "    for i in range(len(features)):\r\n",
        "        \r\n",
        "        distance.append([euclidean_distance(features[i],test),target[i]])\r\n",
        "    distance.sort()\r\n",
        "\r\n",
        "    identify=[0,0]\r\n",
        "    for i in range(k):\r\n",
        "        identify[int(distance[i][1])]+=1\r\n",
        "    return identify.index(max(identify))"
      ],
      "execution_count": 22,
      "outputs": []
    },
    {
      "cell_type": "code",
      "metadata": {
        "colab": {
          "base_uri": "https://localhost:8080/"
        },
        "id": "BfiqCcpMJclu",
        "outputId": "897e3dd8-ee6d-45f9-93e0-84a7687218f4"
      },
      "source": [
        "n1,n2 = x_train.shape[0],x_test.shape[0]\r\n",
        "print(n1,n2)"
      ],
      "execution_count": 23,
      "outputs": [
        {
          "output_type": "stream",
          "text": [
            "320 80\n"
          ],
          "name": "stdout"
        }
      ]
    },
    {
      "cell_type": "code",
      "metadata": {
        "id": "yUqIAxRRJcqJ"
      },
      "source": [
        "# Test the Model\r\n",
        "# Making Confusion Matrix\r\n",
        "confusion_matrix=[[0,0],[0,0]]\r\n",
        "for i in range(n2):\r\n",
        "    prediction= predict_target(x_test,y_test_modified,x_test[i],3)    # k=3 because gives best accuracy \r\n",
        "    actual = int(y_test_modified[i])\r\n",
        "    x = (actual-1)**2\r\n",
        "    y = (prediction-1)**2\r\n",
        "    confusion_matrix[x][y]+=1\r\n"
      ],
      "execution_count": 24,
      "outputs": []
    },
    {
      "cell_type": "code",
      "metadata": {
        "colab": {
          "base_uri": "https://localhost:8080/"
        },
        "id": "TKEVM6SqIxvh",
        "outputId": "996a217c-39f9-49a4-dd22-f6c6220c5b0d"
      },
      "source": [
        "#Print Confusion Matrix\r\n",
        "#   TP  FP\r\n",
        "#   FN  TP\r\n",
        "for i in range(2):\r\n",
        "    for j in range(2):\r\n",
        "        print(confusion_matrix[i][j],end=' ')\r\n",
        "    print()"
      ],
      "execution_count": 25,
      "outputs": [
        {
          "output_type": "stream",
          "text": [
            "45 7 \n",
            "3 25 \n"
          ],
          "name": "stdout"
        }
      ]
    },
    {
      "cell_type": "code",
      "metadata": {
        "colab": {
          "base_uri": "https://localhost:8080/"
        },
        "id": "bjjEagmsI1IU",
        "outputId": "a690a80d-a3df-427f-c22d-b5892234a7d7"
      },
      "source": [
        "# Calculate Performance Perameters of model\r\n",
        "#Accuracy = (TP + TN) /(TP + FP + TN + FN)\r\n",
        "accuracy = (confusion_matrix[0][0]+confusion_matrix[1][1])/n2\r\n",
        "\r\n",
        "#Recall = TP / (TP + FN)\r\n",
        "recall = confusion_matrix[0][0]/(confusion_matrix[0][0]+confusion_matrix[1][0])\r\n",
        "\r\n",
        "#Precision = TP / (TP + FP)\r\n",
        "precision = confusion_matrix[0][0]/(confusion_matrix[0][0]+confusion_matrix[0][1])\r\n",
        "\r\n",
        "#F1 Score = 2 * (Precision * Recall)/(Precision + Recall )\r\n",
        "f1_score = 2 * (precision * recall)/(precision + recall)\r\n",
        "\r\n",
        "print(\"Accuracy = \",accuracy)\r\n",
        "print(\"Recall = \",recall)\r\n",
        "print(\"Prediction = \",precision)\r\n",
        "print(\"F1 Score = \",f1_score)"
      ],
      "execution_count": 26,
      "outputs": [
        {
          "output_type": "stream",
          "text": [
            "Accuracy =  0.875\n",
            "Recall =  0.9375\n",
            "Prediction =  0.8653846153846154\n",
            "F1 Score =  0.9\n"
          ],
          "name": "stdout"
        }
      ]
    }
  ]
}