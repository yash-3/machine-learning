{
  "nbformat": 4,
  "nbformat_minor": 0,
  "metadata": {
    "colab": {
      "name": "LHC1_COVID-19 Analysis .ipynb",
      "provenance": [],
      "collapsed_sections": [],
      "authorship_tag": "ABX9TyM6QrA2selmbfJYoJKUjxVC",
      "include_colab_link": true
    },
    "kernelspec": {
      "name": "python3",
      "display_name": "Python 3"
    },
    "language_info": {
      "name": "python"
    }
  },
  "cells": [
    {
      "cell_type": "markdown",
      "metadata": {
        "id": "view-in-github",
        "colab_type": "text"
      },
      "source": [
        "<a href=\"https://colab.research.google.com/github/yash-3/machine-learning/blob/main/LHC1_COVID_19_Analysis_.ipynb\" target=\"_parent\"><img src=\"https://colab.research.google.com/assets/colab-badge.svg\" alt=\"Open In Colab\"/></a>"
      ]
    },
    {
      "cell_type": "code",
      "metadata": {
        "id": "Pm64WnPqpLD-"
      },
      "source": [
        "import numpy as np      #To Prform Numerical Operation\n",
        "import matplotlib.pyplot as plt   #plot something \n",
        "import pandas as pd     #To Play With Dataset\n",
        "import seaborn as sns"
      ],
      "execution_count": 1,
      "outputs": []
    },
    {
      "cell_type": "code",
      "metadata": {
        "id": "pGdrLDT5sU05"
      },
      "source": [
        "from google.colab import drive  #import gogle drive data"
      ],
      "execution_count": 2,
      "outputs": []
    },
    {
      "cell_type": "code",
      "metadata": {
        "id": "8pQmOZgkspai",
        "colab": {
          "base_uri": "https://localhost:8080/"
        },
        "outputId": "9443f9c3-2b29-47c1-cedc-6e35d1cbfac5"
      },
      "source": [
        "drive.mount('/content/drive') # mount drive data into colab cloud and enter authentication code"
      ],
      "execution_count": 3,
      "outputs": [
        {
          "output_type": "stream",
          "text": [
            "Drive already mounted at /content/drive; to attempt to forcibly remount, call drive.mount(\"/content/drive\", force_remount=True).\n"
          ],
          "name": "stdout"
        }
      ]
    },
    {
      "cell_type": "code",
      "metadata": {
        "colab": {
          "base_uri": "https://localhost:8080/"
        },
        "id": "MiNMSDTJtNG4",
        "outputId": "0ed078c0-d159-4d0d-ad87-850e5128a050"
      },
      "source": [
        "cd /content/drive/\"My Drive/Colab Notebooks/Dataset Files\"  "
      ],
      "execution_count": 4,
      "outputs": [
        {
          "output_type": "stream",
          "text": [
            "/content/drive/My Drive/Colab Notebooks/Dataset Files\n"
          ],
          "name": "stdout"
        }
      ]
    },
    {
      "cell_type": "code",
      "metadata": {
        "colab": {
          "base_uri": "https://localhost:8080/"
        },
        "id": "ToJimHbdthWj",
        "outputId": "13986d42-6c0b-48ca-b537-6a3e43f7bc1e"
      },
      "source": [
        "data_confirmed=pd.read_csv(\"time_series_covid19_confirmed_global.csv\")\n",
        "print(data_confirmed)\n",
        "data_confirmed.shape"
      ],
      "execution_count": 5,
      "outputs": [
        {
          "output_type": "stream",
          "text": [
            "    Province/State      Country/Region        Lat  ...  5/1/21  5/2/21  5/3/21\n",
            "0              NaN         Afghanistan  33.939110  ...   59939   60122   60300\n",
            "1              NaN             Albania  41.153300  ...  131185  131238  131276\n",
            "2              NaN             Algeria  28.033900  ...  122311  122522  122717\n",
            "3              NaN             Andorra  42.506300  ...   13232   13282   13295\n",
            "4              NaN              Angola -11.202700  ...   26815   26993   27133\n",
            "..             ...                 ...        ...  ...     ...     ...     ...\n",
            "270            NaN             Vietnam  14.058324  ...    2942    2962    2985\n",
            "271            NaN  West Bank and Gaza  31.952200  ...  296462  297638  298203\n",
            "272            NaN               Yemen  15.552727  ...    6325    6341    6363\n",
            "273            NaN              Zambia -13.133897  ...   91670   91693   91722\n",
            "274            NaN            Zimbabwe -19.015438  ...   38260   38281   38293\n",
            "\n",
            "[275 rows x 472 columns]\n"
          ],
          "name": "stdout"
        },
        {
          "output_type": "execute_result",
          "data": {
            "text/plain": [
              "(275, 472)"
            ]
          },
          "metadata": {
            "tags": []
          },
          "execution_count": 5
        }
      ]
    },
    {
      "cell_type": "code",
      "metadata": {
        "colab": {
          "base_uri": "https://localhost:8080/"
        },
        "id": "og67iGrJ17gO",
        "outputId": "583956bf-f2ed-4132-9c6e-9d57be7ae43b"
      },
      "source": [
        "data_recovered=pd.read_csv(\"time_series_covid19_recovered_global.csv\")\n",
        "print(data_recovered)\n",
        "data_recovered.shape"
      ],
      "execution_count": 6,
      "outputs": [
        {
          "output_type": "stream",
          "text": [
            "    Province/State      Country/Region        Lat  ...  5/1/21  5/2/21  5/3/21\n",
            "0              NaN         Afghanistan  33.939110  ...   53272   53391   53391\n",
            "1              NaN             Albania  41.153300  ...  110172  110920  111792\n",
            "2              NaN             Algeria  28.033900  ...   85249   85398   85534\n",
            "3              NaN             Andorra  42.506300  ...   12684   12753   12793\n",
            "4              NaN              Angola -11.202700  ...   23913   23913   24190\n",
            "..             ...                 ...        ...  ...     ...     ...     ...\n",
            "255            NaN             Vietnam  14.058324  ...    2548    2549    2560\n",
            "256            NaN  West Bank and Gaza  31.952200  ...  272333  275392  276171\n",
            "257            NaN               Yemen  15.552727  ...    2794    2875    2910\n",
            "258            NaN              Zambia -13.133897  ...   90012   90082   90130\n",
            "259            NaN            Zimbabwe -19.015438  ...   35620   35634   35647\n",
            "\n",
            "[260 rows x 472 columns]\n"
          ],
          "name": "stdout"
        },
        {
          "output_type": "execute_result",
          "data": {
            "text/plain": [
              "(260, 472)"
            ]
          },
          "metadata": {
            "tags": []
          },
          "execution_count": 6
        }
      ]
    },
    {
      "cell_type": "code",
      "metadata": {
        "colab": {
          "base_uri": "https://localhost:8080/"
        },
        "id": "NhtacyCy2PSA",
        "outputId": "4c16292f-f5b0-45ce-fdb0-13748a811b23"
      },
      "source": [
        "data_death=pd.read_csv(\"time_series_covid19_deaths_global.csv\")\n",
        "print(data_death)\n",
        "data_death.shape"
      ],
      "execution_count": 7,
      "outputs": [
        {
          "output_type": "stream",
          "text": [
            "    Province/State      Country/Region        Lat  ...  5/1/21  5/2/21  5/3/21\n",
            "0              NaN         Afghanistan  33.939110  ...    2631    2637    2642\n",
            "1              NaN             Albania  41.153300  ...    2396    2397    2399\n",
            "2              NaN             Algeria  28.033900  ...    3261    3270    3280\n",
            "3              NaN             Andorra  42.506300  ...     125     127     127\n",
            "4              NaN              Angola -11.202700  ...     600     602     603\n",
            "..             ...                 ...        ...  ...     ...     ...     ...\n",
            "270            NaN             Vietnam  14.058324  ...      35      35      35\n",
            "271            NaN  West Bank and Gaza  31.952200  ...    3249    3272    3283\n",
            "272            NaN               Yemen  15.552727  ...    1229    1233    1239\n",
            "273            NaN              Zambia -13.133897  ...    1251    1253    1253\n",
            "274            NaN            Zimbabwe -19.015438  ...    1568    1570    1573\n",
            "\n",
            "[275 rows x 472 columns]\n"
          ],
          "name": "stdout"
        },
        {
          "output_type": "execute_result",
          "data": {
            "text/plain": [
              "(275, 472)"
            ]
          },
          "metadata": {
            "tags": []
          },
          "execution_count": 7
        }
      ]
    },
    {
      "cell_type": "markdown",
      "metadata": {
        "id": "zvBE0dKvuXjo"
      },
      "source": [
        "## **Country: India**"
      ]
    },
    {
      "cell_type": "code",
      "metadata": {
        "id": "1IpX9c-V2MKz"
      },
      "source": [
        "data_confirmed_india = data_confirmed.loc[data_confirmed['Country/Region'] == 'India']\n",
        "data_confirmed_india= data_confirmed_india.transpose()\n",
        "\n",
        "data_recovered_india = data_recovered.loc[data_recovered['Country/Region'] == 'India']\n",
        "data_recovered_india = data_recovered_india.transpose()\n",
        "\n",
        "data_death_india = data_death.loc[data_death['Country/Region'] == 'India']\n",
        "data_death_india = data_death_india.transpose()"
      ],
      "execution_count": 8,
      "outputs": []
    },
    {
      "cell_type": "code",
      "metadata": {
        "id": "2U6x6US3Co3p"
      },
      "source": [
        "# Creating List of Columns values\n",
        "l1 = list(data_confirmed_india.columns.values)\n",
        "l2 = list(data_recovered_india.columns.values)\n",
        "l3 = list(data_death_india.columns.values)"
      ],
      "execution_count": 9,
      "outputs": []
    },
    {
      "cell_type": "code",
      "metadata": {
        "id": "fZuhKQWz7ZdW"
      },
      "source": [
        "# Rename Column Name\n",
        "data_confirmed_india  = data_confirmed_india.rename(columns={l1[0]:'confirmed'},inplace=False)\n",
        "data_recovered_india  = data_recovered_india.rename(columns={l2[0]:'recovered'},inplace=False)\n",
        "data_death_india  = data_death_india.rename(columns={l3[0]:'death'},inplace=False)"
      ],
      "execution_count": 10,
      "outputs": []
    },
    {
      "cell_type": "code",
      "metadata": {
        "id": "kV7fRfVjFxnU"
      },
      "source": [
        "#Combining Dataframes\n",
        "india_dataset = pd.concat([data_confirmed_india,data_recovered_india,data_death_india],axis=1)\n",
        "india_dataset = india_dataset.iloc[4:,:]"
      ],
      "execution_count": 11,
      "outputs": []
    },
    {
      "cell_type": "code",
      "metadata": {
        "colab": {
          "base_uri": "https://localhost:8080/",
          "height": 295
        },
        "id": "2eCCkUu_FzUP",
        "outputId": "2556191d-78b7-4a18-8594-0f2bf5e0895a"
      },
      "source": [
        "plt.plot(india_dataset.index,india_dataset.iloc[:,0:1],\"-b\",label=\"Confirmed Cases\")\n",
        "plt.plot(india_dataset.index,india_dataset.iloc[:,1:2],\"-r\",label=\"Recovered Cases\")\n",
        "plt.plot(india_dataset.index,india_dataset.iloc[:,2:3],\"-g\",label=\"Death\")\n",
        "plt.xlabel(\"Date\")\n",
        "plt.ylabel(\"Number of cases\")\n",
        "plt.title(\"India COVID-19 Analysis\")\n",
        "plt.legend()\n",
        "plt.show()"
      ],
      "execution_count": 12,
      "outputs": [
        {
          "output_type": "display_data",
          "data": {
            "image/png": "[encoded data removed]",
            "text/plain": [
              "<Figure size 432x288 with 1 Axes>"
            ]
          },
          "metadata": {
            "tags": [],
            "needs_background": "light"
          }
        }
      ]
    },
    {
      "cell_type": "markdown",
      "metadata": {
        "id": "ljf08SjjLA02"
      },
      "source": [
        "## **Country: US**"
      ]
    },
    {
      "cell_type": "code",
      "metadata": {
        "id": "X2jsxuDSLZz7"
      },
      "source": [
        "data_confirmed_us = data_confirmed.loc[data_confirmed['Country/Region'] == 'US']\n",
        "data_confirmed_us = data_confirmed_us.transpose()\n",
        "\n",
        "data_recovered_us = data_recovered.loc[data_recovered['Country/Region'] == 'US']\n",
        "data_recovered_us = data_recovered_us.transpose()\n",
        "\n",
        "data_death_us = data_death.loc[data_death['Country/Region'] == 'US']\n",
        "data_death_us = data_death_us.transpose()"
      ],
      "execution_count": 13,
      "outputs": []
    },
    {
      "cell_type": "code",
      "metadata": {
        "id": "xBHgt6ilLZ0F"
      },
      "source": [
        "l1 = list(data_confirmed_us.columns.values)\n",
        "l2 = list(data_recovered_us.columns.values)\n",
        "l3 = list(data_death_us.columns.values)"
      ],
      "execution_count": 14,
      "outputs": []
    },
    {
      "cell_type": "code",
      "metadata": {
        "id": "jrQkzv55LZ0H"
      },
      "source": [
        "data_confirmed_us  = data_confirmed_us.rename(columns={l1[0]:'confirmed'},inplace=False)\n",
        "data_recovered_us  = data_recovered_us.rename(columns={l2[0]:'recovered'},inplace=False)\n",
        "data_death_us  = data_death_us.rename(columns={l3[0]:'death'},inplace=False)"
      ],
      "execution_count": 15,
      "outputs": []
    },
    {
      "cell_type": "code",
      "metadata": {
        "id": "1e6Sc-ofLZ0K"
      },
      "source": [
        "us_dataset = pd.concat([data_confirmed_us,data_recovered_us,data_death_us],axis=1)\n",
        "us_dataset = us_dataset.iloc[4:,:]"
      ],
      "execution_count": 16,
      "outputs": []
    },
    {
      "cell_type": "code",
      "metadata": {
        "colab": {
          "base_uri": "https://localhost:8080/",
          "height": 295
        },
        "id": "28YPd9JNFzjz",
        "outputId": "33430c14-4832-471b-f41a-cb752e7de87d"
      },
      "source": [
        "plt.plot(us_dataset.index,us_dataset.iloc[:,0:1],\"-b\",label=\"Confirmed Cases\")\n",
        "plt.plot(us_dataset.index,us_dataset.iloc[:,1:2],\"-r\",label=\"Recovered Cases\")\n",
        "plt.plot(us_dataset.index,us_dataset.iloc[:,2:3],\"-g\",label=\"Death\")\n",
        "plt.xlabel(\"Date\")\n",
        "plt.ylabel(\"Number of cases\")\n",
        "plt.title(\"US COVID-19 Analysis\")\n",
        "plt.legend()\n",
        "plt.show()"
      ],
      "execution_count": 17,
      "outputs": [
        {
          "output_type": "display_data",
          "data": {
            "image/png": "[encoded data removed]",
            "text/plain": [
              "<Figure size 432x288 with 1 Axes>"
            ]
          },
          "metadata": {
            "tags": [],
            "needs_background": "light"
          }
        }
      ]
    },
    {
      "cell_type": "markdown",
      "metadata": {
        "id": "3OElNP45M2aH"
      },
      "source": [
        "## **Country: Italy**"
      ]
    },
    {
      "cell_type": "code",
      "metadata": {
        "id": "VrJA4d4jNCgg"
      },
      "source": [
        "data_confirmed_italy = data_confirmed.loc[data_confirmed['Country/Region'] == 'Italy']\n",
        "data_confirmed_italy = data_confirmed_italy.transpose()\n",
        "\n",
        "data_recovered_italy = data_recovered.loc[data_recovered['Country/Region'] == 'Italy']\n",
        "data_recovered_italy= data_recovered_italy.transpose()\n",
        "\n",
        "data_death_italy = data_death.loc[data_death['Country/Region'] == 'Italy']\n",
        "data_death_italy = data_death_italy.transpose()"
      ],
      "execution_count": 18,
      "outputs": []
    },
    {
      "cell_type": "code",
      "metadata": {
        "id": "vKKSnMzGNCgo"
      },
      "source": [
        "l1 = list(data_confirmed_italy.columns.values)\n",
        "l2 = list(data_recovered_italy.columns.values)\n",
        "l3 = list(data_death_italy.columns.values)"
      ],
      "execution_count": 19,
      "outputs": []
    },
    {
      "cell_type": "code",
      "metadata": {
        "id": "ZgfO37dBNCgq"
      },
      "source": [
        "data_confirmed_italy  = data_confirmed_italy.rename(columns={l1[0]:'confirmed'},inplace=False)\n",
        "data_recovered_italy  = data_recovered_italy.rename(columns={l2[0]:'recovered'},inplace=False)\n",
        "data_death_italy  = data_death_italy.rename(columns={l3[0]:'death'},inplace=False)"
      ],
      "execution_count": 20,
      "outputs": []
    },
    {
      "cell_type": "code",
      "metadata": {
        "id": "jvStGcqaNCgs"
      },
      "source": [
        "italy_dataset = pd.concat([data_confirmed_italy,data_recovered_italy,data_death_italy],axis=1)\n",
        "italy_dataset = italy_dataset.iloc[4:,:]"
      ],
      "execution_count": 21,
      "outputs": []
    },
    {
      "cell_type": "code",
      "metadata": {
        "colab": {
          "base_uri": "https://localhost:8080/",
          "height": 295
        },
        "id": "R4NvtsL9NCgu",
        "outputId": "df395482-737d-45c0-8229-ad9009e7a0a4"
      },
      "source": [
        "plt.plot(italy_dataset.index,italy_dataset.iloc[:,0:1],\"-b\",label=\"Confirmed Cases\")\n",
        "plt.plot(italy_dataset.index,italy_dataset.iloc[:,1:2],\"-r\",label=\"Recovered Cases\")\n",
        "plt.plot(italy_dataset.index,italy_dataset.iloc[:,2:3],\"-g\",label=\"Death\")\n",
        "plt.xlabel(\"Date\")\n",
        "plt.ylabel(\"Number of cases\")\n",
        "plt.title(\"Italy COVID-19 Analysis\")\n",
        "plt.legend()\n",
        "plt.show()"
      ],
      "execution_count": 22,
      "outputs": [
        {
          "output_type": "display_data",
          "data": {
            "image/png": "[encoded data removed]",
            "text/plain": [
              "<Figure size 432x288 with 1 Axes>"
            ]
          },
          "metadata": {
            "tags": [],
            "needs_background": "light"
          }
        }
      ]
    },
    {
      "cell_type": "markdown",
      "metadata": {
        "id": "idBZTWE0OTCw"
      },
      "source": [
        "## **Predict Cases for 4th May 2021 of India**"
      ]
    },
    {
      "cell_type": "code",
      "metadata": {
        "id": "K7e8hF_cQamW"
      },
      "source": [
        "data_confirmed_india = data_confirmed.loc[data_confirmed['Country/Region'] == 'India']\n",
        "data_confirmed_india= data_confirmed_india.transpose()"
      ],
      "execution_count": 23,
      "outputs": []
    },
    {
      "cell_type": "code",
      "metadata": {
        "id": "AtvObv9mROXP"
      },
      "source": [
        "l1 = list(data_confirmed_india.columns.values)\n",
        "\n",
        "data_confirmed_india = data_confirmed_india.rename(columns={l1[0]:'Confirmed'},inplace=False)\n",
        "data_confirmed_india = data_confirmed_india.iloc[4:,:]"
      ],
      "execution_count": 24,
      "outputs": []
    },
    {
      "cell_type": "code",
      "metadata": {
        "colab": {
          "base_uri": "https://localhost:8080/",
          "height": 419
        },
        "id": "lQhHwbSPTSBh",
        "outputId": "ba713d60-339f-478f-eecc-646c449f7d61"
      },
      "source": [
        "# Inserting Serial No. column\n",
        "sr_no = list(range(1,469))\n",
        "data_confirmed_india.insert(0,\"Feature\",sr_no,True)\n",
        "data_confirmed_india"
      ],
      "execution_count": 25,
      "outputs": [
        {
          "output_type": "execute_result",
          "data": {
            "text/html": [
              "<div>\n",
              "<style scoped>\n",
              "    .dataframe tbody tr th:only-of-type {\n",
              "        vertical-align: middle;\n",
              "    }\n",
              "\n",
              "    .dataframe tbody tr th {\n",
              "        vertical-align: top;\n",
              "    }\n",
              "\n",
              "    .dataframe thead th {\n",
              "        text-align: right;\n",
              "    }\n",
              "</style>\n",
              "<table border=\"1\" class=\"dataframe\">\n",
              "  <thead>\n",
              "    <tr style=\"text-align: right;\">\n",
              "      <th></th>\n",
              "      <th>Feature</th>\n",
              "      <th>Confirmed</th>\n",
              "    </tr>\n",
              "  </thead>\n",
              "  <tbody>\n",
              "    <tr>\n",
              "      <th>1/22/20</th>\n",
              "      <td>1</td>\n",
              "      <td>0</td>\n",
              "    </tr>\n",
              "    <tr>\n",
              "      <th>1/23/20</th>\n",
              "      <td>2</td>\n",
              "      <td>0</td>\n",
              "    </tr>\n",
              "    <tr>\n",
              "      <th>1/24/20</th>\n",
              "      <td>3</td>\n",
              "      <td>0</td>\n",
              "    </tr>\n",
              "    <tr>\n",
              "      <th>1/25/20</th>\n",
              "      <td>4</td>\n",
              "      <td>0</td>\n",
              "    </tr>\n",
              "    <tr>\n",
              "      <th>1/26/20</th>\n",
              "      <td>5</td>\n",
              "      <td>0</td>\n",
              "    </tr>\n",
              "    <tr>\n",
              "      <th>...</th>\n",
              "      <td>...</td>\n",
              "      <td>...</td>\n",
              "    </tr>\n",
              "    <tr>\n",
              "      <th>4/29/21</th>\n",
              "      <td>464</td>\n",
              "      <td>18762976</td>\n",
              "    </tr>\n",
              "    <tr>\n",
              "      <th>4/30/21</th>\n",
              "      <td>465</td>\n",
              "      <td>19164969</td>\n",
              "    </tr>\n",
              "    <tr>\n",
              "      <th>5/1/21</th>\n",
              "      <td>466</td>\n",
              "      <td>19557457</td>\n",
              "    </tr>\n",
              "    <tr>\n",
              "      <th>5/2/21</th>\n",
              "      <td>467</td>\n",
              "      <td>19925517</td>\n",
              "    </tr>\n",
              "    <tr>\n",
              "      <th>5/3/21</th>\n",
              "      <td>468</td>\n",
              "      <td>19925604</td>\n",
              "    </tr>\n",
              "  </tbody>\n",
              "</table>\n",
              "<p>468 rows × 2 columns</p>\n",
              "</div>"
            ],
            "text/plain": [
              "         Feature Confirmed\n",
              "1/22/20        1         0\n",
              "1/23/20        2         0\n",
              "1/24/20        3         0\n",
              "1/25/20        4         0\n",
              "1/26/20        5         0\n",
              "...          ...       ...\n",
              "4/29/21      464  18762976\n",
              "4/30/21      465  19164969\n",
              "5/1/21       466  19557457\n",
              "5/2/21       467  19925517\n",
              "5/3/21       468  19925604\n",
              "\n",
              "[468 rows x 2 columns]"
            ]
          },
          "metadata": {
            "tags": []
          },
          "execution_count": 25
        }
      ]
    },
    {
      "cell_type": "code",
      "metadata": {
        "id": "O10Ih0VIPRt3"
      },
      "source": [
        "x_feature = data_confirmed_india.iloc[:,0:1]\n",
        "y_target = data_confirmed_india.iloc[:,-1]"
      ],
      "execution_count": 26,
      "outputs": []
    },
    {
      "cell_type": "code",
      "metadata": {
        "colab": {
          "base_uri": "https://localhost:8080/"
        },
        "id": "hDuBVk8a0Hks",
        "outputId": "b1f2e8e9-4fdc-439e-d820-c17952be2b8d"
      },
      "source": [
        "from sklearn.preprocessing import PolynomialFeatures\n",
        "from sklearn.linear_model import LinearRegression\n",
        "poly = PolynomialFeatures(degree = 6)\n",
        "X_poly = poly.fit_transform(x_feature)\n",
        "poly = poly.fit(X_poly, y_target)\n",
        "lin2 = LinearRegression()\n",
        "lin2.fit(X_poly, y_target)\n",
        "x = np.array([469]).reshape(-1, 1)\n",
        "y = np.array([468]).reshape(-1, 1)\n",
        "\n",
        "india_cases_4_may = int(lin2.predict(poly.fit_transform(x)) - lin2.predict(poly.fit_transform(y)))\n",
        "print(\"Predicted cases in India on 4th May 2021 = \"+str(int(india_cases_4_may)))"
      ],
      "execution_count": 27,
      "outputs": [
        {
          "output_type": "stream",
          "text": [
            "Predicted cases in India on 4th May 2021 = 359942\n"
          ],
          "name": "stdout"
        }
      ]
    },
    {
      "cell_type": "markdown",
      "metadata": {
        "id": "KfELjoon1k4r"
      },
      "source": [
        "## **Gujarat Cases Analysis**"
      ]
    },
    {
      "cell_type": "code",
      "metadata": {
        "colab": {
          "base_uri": "https://localhost:8080/"
        },
        "id": "c5ZI2vnP169q",
        "outputId": "55c2d875-41e4-43a7-99fa-7b9e17daf1b4"
      },
      "source": [
        "import os\n",
        "import glob\n",
        "import pandas as pd\n",
        "\n",
        "location = 'march_april_EveryDay_data'\n",
        "\n",
        "file_name =[]\n",
        "for file in os.listdir(location):\n",
        "    file_name.append(file)\n",
        "\n",
        "print(file_name)\n",
        "\n",
        "combine_csv = pd.concat([pd.read_csv(\"march_april_EveryDay_data/\"+f) for f in file_name])\n",
        "\n",
        "combine_csv.to_csv(\"combine_csv.csv\", index=False, encoding='utf-8-sig')\n"
      ],
      "execution_count": 28,
      "outputs": [
        {
          "output_type": "stream",
          "text": [
            "['03-01-2021.csv', '03-02-2021.csv', '03-03-2021.csv', '03-04-2021.csv', '03-05-2021.csv', '03-06-2021.csv', '03-07-2021.csv', '03-08-2021.csv', '03-09-2021.csv', '03-10-2021.csv', '03-11-2021.csv', '03-13-2021.csv', '04-01-2021.csv', '04-02-2021.csv', '04-03-2021.csv', '04-04-2021.csv', '04-05-2021.csv', '04-06-2021.csv', '04-07-2021.csv', '04-08-2021.csv', '04-09-2021.csv', '04-10-2021.csv', '04-11-2021.csv', '03-12-2021.csv', '03-14-2021.csv', '04-12-2021.csv', '03-15-2021.csv', '03-16-2021.csv', '04-13-2021.csv', '03-17-2021.csv', '03-18-2020.csv', '04-14-2021.csv', '03-19-2020.csv', '03-20-2020.csv', '03-21-2020.csv', '03-22-2020.csv', '04-15-2021.csv', '04-16-2021.csv', '04-17-2021.csv', '04-18-2021.csv', '04-19-2021.csv', '04-20-2021.csv', '04-21-2021.csv', '04-22-2021.csv', '04-23-2021.csv', '04-24-2021.csv', '04-25-2021.csv', '04-26-2021.csv', '04-27-2021.csv', '04-28-2021.csv', '04-29-2021.csv', '03-23-2021.csv', '03-24-2021.csv', '03-25-2021.csv', '04-30-2021.csv', '03-26-2021.csv', '03-27-2021.csv', '03-28-2021.csv', '05-01-2021.csv', '05-02-2021.csv', '03-29-2021.csv', '03-30-2021.csv', '05-03-2021.csv', '03-31-2021.csv', '03-18-2021.csv', '03-19-2021.csv', '03-20-2021.csv', '03-21-2021.csv', '03-22-2021.csv']\n"
          ],
          "name": "stdout"
        }
      ]
    },
    {
      "cell_type": "code",
      "metadata": {
        "colab": {
          "base_uri": "https://localhost:8080/",
          "height": 660
        },
        "id": "uAceH_On6Z-c",
        "outputId": "36d3638a-471d-4395-da13-1592d3c72579"
      },
      "source": [
        "dataset=pd.read_csv(\"combine_csv.csv\")\n",
        "data_gujarat = dataset.loc[dataset['Province_State'] == 'Gujarat']\n",
        "data_gujarat"
      ],
      "execution_count": 29,
      "outputs": [
        {
          "output_type": "stream",
          "text": [
            "/usr/local/lib/python3.7/dist-packages/IPython/core/interactiveshell.py:2718: DtypeWarning: Columns (14,15,16) have mixed types.Specify dtype option on import or set low_memory=False.\n",
            "  interactivity=interactivity, compiler=compiler, result=result)\n"
          ],
          "name": "stderr"
        },
        {
          "output_type": "execute_result",
          "data": {
            "text/html": [
              "<div>\n",
              "<style scoped>\n",
              "    .dataframe tbody tr th:only-of-type {\n",
              "        vertical-align: middle;\n",
              "    }\n",
              "\n",
              "    .dataframe tbody tr th {\n",
              "        vertical-align: top;\n",
              "    }\n",
              "\n",
              "    .dataframe thead th {\n",
              "        text-align: right;\n",
              "    }\n",
              "</style>\n",
              "<table border=\"1\" class=\"dataframe\">\n",
              "  <thead>\n",
              "    <tr style=\"text-align: right;\">\n",
              "      <th></th>\n",
              "      <th>FIPS</th>\n",
              "      <th>Admin2</th>\n",
              "      <th>Province_State</th>\n",
              "      <th>Country_Region</th>\n",
              "      <th>Last_Update</th>\n",
              "      <th>Lat</th>\n",
              "      <th>Long_</th>\n",
              "      <th>Confirmed</th>\n",
              "      <th>Deaths</th>\n",
              "      <th>Recovered</th>\n",
              "      <th>Active</th>\n",
              "      <th>Combined_Key</th>\n",
              "      <th>Incident_Rate</th>\n",
              "      <th>Case_Fatality_Ratio</th>\n",
              "      <th>Province/State</th>\n",
              "      <th>Country/Region</th>\n",
              "      <th>Last Update</th>\n",
              "      <th>Latitude</th>\n",
              "      <th>Longitude</th>\n",
              "    </tr>\n",
              "  </thead>\n",
              "  <tbody>\n",
              "    <tr>\n",
              "      <th>259</th>\n",
              "      <td>NaN</td>\n",
              "      <td>NaN</td>\n",
              "      <td>Gujarat</td>\n",
              "      <td>India</td>\n",
              "      <td>2021-03-02 05:23:30</td>\n",
              "      <td>22.694884</td>\n",
              "      <td>71.590923</td>\n",
              "      <td>270316</td>\n",
              "      <td>4410</td>\n",
              "      <td>263475.0</td>\n",
              "      <td>2431.0</td>\n",
              "      <td>Gujarat, India</td>\n",
              "      <td>423.212537</td>\n",
              "      <td>1.631424</td>\n",
              "      <td>NaN</td>\n",
              "      <td>NaN</td>\n",
              "      <td>NaN</td>\n",
              "      <td>NaN</td>\n",
              "      <td>NaN</td>\n",
              "    </tr>\n",
              "    <tr>\n",
              "      <th>4242</th>\n",
              "      <td>NaN</td>\n",
              "      <td>NaN</td>\n",
              "      <td>Gujarat</td>\n",
              "      <td>India</td>\n",
              "      <td>2021-03-03 05:23:28</td>\n",
              "      <td>22.694884</td>\n",
              "      <td>71.590923</td>\n",
              "      <td>270770</td>\n",
              "      <td>4411</td>\n",
              "      <td>263837.0</td>\n",
              "      <td>2522.0</td>\n",
              "      <td>Gujarat, India</td>\n",
              "      <td>423.923329</td>\n",
              "      <td>1.629058</td>\n",
              "      <td>NaN</td>\n",
              "      <td>NaN</td>\n",
              "      <td>NaN</td>\n",
              "      <td>NaN</td>\n",
              "      <td>NaN</td>\n",
              "    </tr>\n",
              "    <tr>\n",
              "      <th>8225</th>\n",
              "      <td>NaN</td>\n",
              "      <td>NaN</td>\n",
              "      <td>Gujarat</td>\n",
              "      <td>India</td>\n",
              "      <td>2021-03-04 05:24:24</td>\n",
              "      <td>22.694884</td>\n",
              "      <td>71.590923</td>\n",
              "      <td>271245</td>\n",
              "      <td>4412</td>\n",
              "      <td>264195.0</td>\n",
              "      <td>2638.0</td>\n",
              "      <td>Gujarat, India</td>\n",
              "      <td>424.666999</td>\n",
              "      <td>1.626574</td>\n",
              "      <td>NaN</td>\n",
              "      <td>NaN</td>\n",
              "      <td>NaN</td>\n",
              "      <td>NaN</td>\n",
              "      <td>NaN</td>\n",
              "    </tr>\n",
              "    <tr>\n",
              "      <th>12208</th>\n",
              "      <td>NaN</td>\n",
              "      <td>NaN</td>\n",
              "      <td>Gujarat</td>\n",
              "      <td>India</td>\n",
              "      <td>2021-03-05 05:26:29</td>\n",
              "      <td>22.694884</td>\n",
              "      <td>71.590923</td>\n",
              "      <td>271725</td>\n",
              "      <td>4412</td>\n",
              "      <td>264564.0</td>\n",
              "      <td>2749.0</td>\n",
              "      <td>Gujarat, India</td>\n",
              "      <td>425.418497</td>\n",
              "      <td>1.623700</td>\n",
              "      <td>NaN</td>\n",
              "      <td>NaN</td>\n",
              "      <td>NaN</td>\n",
              "      <td>NaN</td>\n",
              "      <td>NaN</td>\n",
              "    </tr>\n",
              "    <tr>\n",
              "      <th>16191</th>\n",
              "      <td>NaN</td>\n",
              "      <td>NaN</td>\n",
              "      <td>Gujarat</td>\n",
              "      <td>India</td>\n",
              "      <td>2021-03-06 04:23:41</td>\n",
              "      <td>22.694884</td>\n",
              "      <td>71.590923</td>\n",
              "      <td>272240</td>\n",
              "      <td>4413</td>\n",
              "      <td>264969.0</td>\n",
              "      <td>2858.0</td>\n",
              "      <td>Gujarat, India</td>\n",
              "      <td>426.224792</td>\n",
              "      <td>1.620996</td>\n",
              "      <td>NaN</td>\n",
              "      <td>NaN</td>\n",
              "      <td>NaN</td>\n",
              "      <td>NaN</td>\n",
              "      <td>NaN</td>\n",
              "    </tr>\n",
              "    <tr>\n",
              "      <th>...</th>\n",
              "      <td>...</td>\n",
              "      <td>...</td>\n",
              "      <td>...</td>\n",
              "      <td>...</td>\n",
              "      <td>...</td>\n",
              "      <td>...</td>\n",
              "      <td>...</td>\n",
              "      <td>...</td>\n",
              "      <td>...</td>\n",
              "      <td>...</td>\n",
              "      <td>...</td>\n",
              "      <td>...</td>\n",
              "      <td>...</td>\n",
              "      <td>...</td>\n",
              "      <td>...</td>\n",
              "      <td>...</td>\n",
              "      <td>...</td>\n",
              "      <td>...</td>\n",
              "      <td>...</td>\n",
              "    </tr>\n",
              "    <tr>\n",
              "      <th>239860</th>\n",
              "      <td>NaN</td>\n",
              "      <td>NaN</td>\n",
              "      <td>Gujarat</td>\n",
              "      <td>India</td>\n",
              "      <td>2021-03-19 05:26:09</td>\n",
              "      <td>22.694884</td>\n",
              "      <td>71.590923</td>\n",
              "      <td>282449</td>\n",
              "      <td>4433</td>\n",
              "      <td>272332.0</td>\n",
              "      <td>5684.0</td>\n",
              "      <td>Gujarat, India</td>\n",
              "      <td>442.208222</td>\n",
              "      <td>1.569487</td>\n",
              "      <td>NaN</td>\n",
              "      <td>NaN</td>\n",
              "      <td>NaN</td>\n",
              "      <td>NaN</td>\n",
              "      <td>NaN</td>\n",
              "    </tr>\n",
              "    <tr>\n",
              "      <th>243843</th>\n",
              "      <td>NaN</td>\n",
              "      <td>NaN</td>\n",
              "      <td>Gujarat</td>\n",
              "      <td>India</td>\n",
              "      <td>2021-03-20 05:25:46</td>\n",
              "      <td>22.694884</td>\n",
              "      <td>71.590923</td>\n",
              "      <td>283864</td>\n",
              "      <td>4437</td>\n",
              "      <td>273280.0</td>\n",
              "      <td>6147.0</td>\n",
              "      <td>Gujarat, India</td>\n",
              "      <td>444.423576</td>\n",
              "      <td>1.563072</td>\n",
              "      <td>NaN</td>\n",
              "      <td>NaN</td>\n",
              "      <td>NaN</td>\n",
              "      <td>NaN</td>\n",
              "      <td>NaN</td>\n",
              "    </tr>\n",
              "    <tr>\n",
              "      <th>247826</th>\n",
              "      <td>NaN</td>\n",
              "      <td>NaN</td>\n",
              "      <td>Gujarat</td>\n",
              "      <td>India</td>\n",
              "      <td>2021-03-21 05:25:44</td>\n",
              "      <td>22.694884</td>\n",
              "      <td>71.590923</td>\n",
              "      <td>285429</td>\n",
              "      <td>4443</td>\n",
              "      <td>274249.0</td>\n",
              "      <td>6737.0</td>\n",
              "      <td>Gujarat, India</td>\n",
              "      <td>446.873774</td>\n",
              "      <td>1.556604</td>\n",
              "      <td>NaN</td>\n",
              "      <td>NaN</td>\n",
              "      <td>NaN</td>\n",
              "      <td>NaN</td>\n",
              "      <td>NaN</td>\n",
              "    </tr>\n",
              "    <tr>\n",
              "      <th>251809</th>\n",
              "      <td>NaN</td>\n",
              "      <td>NaN</td>\n",
              "      <td>Gujarat</td>\n",
              "      <td>India</td>\n",
              "      <td>2021-03-22 05:25:43</td>\n",
              "      <td>22.694884</td>\n",
              "      <td>71.590923</td>\n",
              "      <td>287009</td>\n",
              "      <td>4450</td>\n",
              "      <td>275238.0</td>\n",
              "      <td>7321.0</td>\n",
              "      <td>Gujarat, India</td>\n",
              "      <td>449.347456</td>\n",
              "      <td>1.550474</td>\n",
              "      <td>NaN</td>\n",
              "      <td>NaN</td>\n",
              "      <td>NaN</td>\n",
              "      <td>NaN</td>\n",
              "      <td>NaN</td>\n",
              "    </tr>\n",
              "    <tr>\n",
              "      <th>255792</th>\n",
              "      <td>NaN</td>\n",
              "      <td>NaN</td>\n",
              "      <td>Gujarat</td>\n",
              "      <td>India</td>\n",
              "      <td>2021-03-23 05:26:18</td>\n",
              "      <td>22.694884</td>\n",
              "      <td>71.590923</td>\n",
              "      <td>288649</td>\n",
              "      <td>4454</td>\n",
              "      <td>276348.0</td>\n",
              "      <td>7847.0</td>\n",
              "      <td>Gujarat, India</td>\n",
              "      <td>451.915075</td>\n",
              "      <td>1.543051</td>\n",
              "      <td>NaN</td>\n",
              "      <td>NaN</td>\n",
              "      <td>NaN</td>\n",
              "      <td>NaN</td>\n",
              "      <td>NaN</td>\n",
              "    </tr>\n",
              "  </tbody>\n",
              "</table>\n",
              "<p>64 rows × 19 columns</p>\n",
              "</div>"
            ],
            "text/plain": [
              "        FIPS Admin2 Province_State  ... Last Update Latitude  Longitude\n",
              "259      NaN    NaN        Gujarat  ...         NaN      NaN        NaN\n",
              "4242     NaN    NaN        Gujarat  ...         NaN      NaN        NaN\n",
              "8225     NaN    NaN        Gujarat  ...         NaN      NaN        NaN\n",
              "12208    NaN    NaN        Gujarat  ...         NaN      NaN        NaN\n",
              "16191    NaN    NaN        Gujarat  ...         NaN      NaN        NaN\n",
              "...      ...    ...            ...  ...         ...      ...        ...\n",
              "239860   NaN    NaN        Gujarat  ...         NaN      NaN        NaN\n",
              "243843   NaN    NaN        Gujarat  ...         NaN      NaN        NaN\n",
              "247826   NaN    NaN        Gujarat  ...         NaN      NaN        NaN\n",
              "251809   NaN    NaN        Gujarat  ...         NaN      NaN        NaN\n",
              "255792   NaN    NaN        Gujarat  ...         NaN      NaN        NaN\n",
              "\n",
              "[64 rows x 19 columns]"
            ]
          },
          "metadata": {
            "tags": []
          },
          "execution_count": 29
        }
      ]
    },
    {
      "cell_type": "code",
      "metadata": {
        "id": "luycKaMfC6vg",
        "colab": {
          "base_uri": "https://localhost:8080/",
          "height": 419
        },
        "outputId": "b80a6981-b376-45e3-8531-b942a649c1e2"
      },
      "source": [
        "index = list(range(1,65))\n",
        "data_gujarat.iloc[:,8:9]"
      ],
      "execution_count": 30,
      "outputs": [
        {
          "output_type": "execute_result",
          "data": {
            "text/html": [
              "<div>\n",
              "<style scoped>\n",
              "    .dataframe tbody tr th:only-of-type {\n",
              "        vertical-align: middle;\n",
              "    }\n",
              "\n",
              "    .dataframe tbody tr th {\n",
              "        vertical-align: top;\n",
              "    }\n",
              "\n",
              "    .dataframe thead th {\n",
              "        text-align: right;\n",
              "    }\n",
              "</style>\n",
              "<table border=\"1\" class=\"dataframe\">\n",
              "  <thead>\n",
              "    <tr style=\"text-align: right;\">\n",
              "      <th></th>\n",
              "      <th>Deaths</th>\n",
              "    </tr>\n",
              "  </thead>\n",
              "  <tbody>\n",
              "    <tr>\n",
              "      <th>259</th>\n",
              "      <td>4410</td>\n",
              "    </tr>\n",
              "    <tr>\n",
              "      <th>4242</th>\n",
              "      <td>4411</td>\n",
              "    </tr>\n",
              "    <tr>\n",
              "      <th>8225</th>\n",
              "      <td>4412</td>\n",
              "    </tr>\n",
              "    <tr>\n",
              "      <th>12208</th>\n",
              "      <td>4412</td>\n",
              "    </tr>\n",
              "    <tr>\n",
              "      <th>16191</th>\n",
              "      <td>4413</td>\n",
              "    </tr>\n",
              "    <tr>\n",
              "      <th>...</th>\n",
              "      <td>...</td>\n",
              "    </tr>\n",
              "    <tr>\n",
              "      <th>239860</th>\n",
              "      <td>4433</td>\n",
              "    </tr>\n",
              "    <tr>\n",
              "      <th>243843</th>\n",
              "      <td>4437</td>\n",
              "    </tr>\n",
              "    <tr>\n",
              "      <th>247826</th>\n",
              "      <td>4443</td>\n",
              "    </tr>\n",
              "    <tr>\n",
              "      <th>251809</th>\n",
              "      <td>4450</td>\n",
              "    </tr>\n",
              "    <tr>\n",
              "      <th>255792</th>\n",
              "      <td>4454</td>\n",
              "    </tr>\n",
              "  </tbody>\n",
              "</table>\n",
              "<p>64 rows × 1 columns</p>\n",
              "</div>"
            ],
            "text/plain": [
              "        Deaths\n",
              "259       4410\n",
              "4242      4411\n",
              "8225      4412\n",
              "12208     4412\n",
              "16191     4413\n",
              "...        ...\n",
              "239860    4433\n",
              "243843    4437\n",
              "247826    4443\n",
              "251809    4450\n",
              "255792    4454\n",
              "\n",
              "[64 rows x 1 columns]"
            ]
          },
          "metadata": {
            "tags": []
          },
          "execution_count": 30
        }
      ]
    },
    {
      "cell_type": "code",
      "metadata": {
        "colab": {
          "base_uri": "https://localhost:8080/",
          "height": 295
        },
        "id": "FiT-OFzw9bFr",
        "outputId": "a3ef647e-1433-4ed0-8700-e8a500a828dd"
      },
      "source": [
        "plt.plot(index,data_gujarat.iloc[:,7:8],\"-b\",label=\"Confirmed Cases\")\n",
        "plt.plot(index,data_gujarat.iloc[:,9:10],\"-r\",label=\"Recovered Cases\")\n",
        "plt.plot(index,data_gujarat.iloc[:,8:9],\"-g\",label=\"Death\")\n",
        "plt.xlabel(\"Date\")\n",
        "plt.ylabel(\"Number of cases\")\n",
        "plt.title(\"Gujarat COVID-19 Analysis\")\n",
        "plt.legend()\n",
        "plt.show()"
      ],
      "execution_count": 31,
      "outputs": [
        {
          "output_type": "display_data",
          "data": {
            "image/png": "[encoded data removed]",
            "text/plain": [
              "<Figure size 432x288 with 1 Axes>"
            ]
          },
          "metadata": {
            "tags": [],
            "needs_background": "light"
          }
        }
      ]
    },
    {
      "cell_type": "markdown",
      "metadata": {
        "id": "GVxoX5LUGIFB"
      },
      "source": [
        "## **Predict Cases for 4th May 2021 of Gujarat**"
      ]
    },
    {
      "cell_type": "code",
      "metadata": {
        "colab": {
          "base_uri": "https://localhost:8080/",
          "height": 626
        },
        "id": "SMFGYo89HQGV",
        "outputId": "4a7745ac-bef6-42ab-d64e-4142bcb6904f"
      },
      "source": [
        "data_gujarat_1 = dataset.loc[dataset['Province_State'] == 'Gujarat']\n",
        "\n",
        "index = list(range(1,65))\n",
        "data_gujarat_1.insert(0,\"sr_no\",index,True)\n",
        "data_gujarat_1"
      ],
      "execution_count": 32,
      "outputs": [
        {
          "output_type": "execute_result",
          "data": {
            "text/html": [
              "<div>\n",
              "<style scoped>\n",
              "    .dataframe tbody tr th:only-of-type {\n",
              "        vertical-align: middle;\n",
              "    }\n",
              "\n",
              "    .dataframe tbody tr th {\n",
              "        vertical-align: top;\n",
              "    }\n",
              "\n",
              "    .dataframe thead th {\n",
              "        text-align: right;\n",
              "    }\n",
              "</style>\n",
              "<table border=\"1\" class=\"dataframe\">\n",
              "  <thead>\n",
              "    <tr style=\"text-align: right;\">\n",
              "      <th></th>\n",
              "      <th>sr_no</th>\n",
              "      <th>FIPS</th>\n",
              "      <th>Admin2</th>\n",
              "      <th>Province_State</th>\n",
              "      <th>Country_Region</th>\n",
              "      <th>Last_Update</th>\n",
              "      <th>Lat</th>\n",
              "      <th>Long_</th>\n",
              "      <th>Confirmed</th>\n",
              "      <th>Deaths</th>\n",
              "      <th>Recovered</th>\n",
              "      <th>Active</th>\n",
              "      <th>Combined_Key</th>\n",
              "      <th>Incident_Rate</th>\n",
              "      <th>Case_Fatality_Ratio</th>\n",
              "      <th>Province/State</th>\n",
              "      <th>Country/Region</th>\n",
              "      <th>Last Update</th>\n",
              "      <th>Latitude</th>\n",
              "      <th>Longitude</th>\n",
              "    </tr>\n",
              "  </thead>\n",
              "  <tbody>\n",
              "    <tr>\n",
              "      <th>259</th>\n",
              "      <td>1</td>\n",
              "      <td>NaN</td>\n",
              "      <td>NaN</td>\n",
              "      <td>Gujarat</td>\n",
              "      <td>India</td>\n",
              "      <td>2021-03-02 05:23:30</td>\n",
              "      <td>22.694884</td>\n",
              "      <td>71.590923</td>\n",
              "      <td>270316</td>\n",
              "      <td>4410</td>\n",
              "      <td>263475.0</td>\n",
              "      <td>2431.0</td>\n",
              "      <td>Gujarat, India</td>\n",
              "      <td>423.212537</td>\n",
              "      <td>1.631424</td>\n",
              "      <td>NaN</td>\n",
              "      <td>NaN</td>\n",
              "      <td>NaN</td>\n",
              "      <td>NaN</td>\n",
              "      <td>NaN</td>\n",
              "    </tr>\n",
              "    <tr>\n",
              "      <th>4242</th>\n",
              "      <td>2</td>\n",
              "      <td>NaN</td>\n",
              "      <td>NaN</td>\n",
              "      <td>Gujarat</td>\n",
              "      <td>India</td>\n",
              "      <td>2021-03-03 05:23:28</td>\n",
              "      <td>22.694884</td>\n",
              "      <td>71.590923</td>\n",
              "      <td>270770</td>\n",
              "      <td>4411</td>\n",
              "      <td>263837.0</td>\n",
              "      <td>2522.0</td>\n",
              "      <td>Gujarat, India</td>\n",
              "      <td>423.923329</td>\n",
              "      <td>1.629058</td>\n",
              "      <td>NaN</td>\n",
              "      <td>NaN</td>\n",
              "      <td>NaN</td>\n",
              "      <td>NaN</td>\n",
              "      <td>NaN</td>\n",
              "    </tr>\n",
              "    <tr>\n",
              "      <th>8225</th>\n",
              "      <td>3</td>\n",
              "      <td>NaN</td>\n",
              "      <td>NaN</td>\n",
              "      <td>Gujarat</td>\n",
              "      <td>India</td>\n",
              "      <td>2021-03-04 05:24:24</td>\n",
              "      <td>22.694884</td>\n",
              "      <td>71.590923</td>\n",
              "      <td>271245</td>\n",
              "      <td>4412</td>\n",
              "      <td>264195.0</td>\n",
              "      <td>2638.0</td>\n",
              "      <td>Gujarat, India</td>\n",
              "      <td>424.666999</td>\n",
              "      <td>1.626574</td>\n",
              "      <td>NaN</td>\n",
              "      <td>NaN</td>\n",
              "      <td>NaN</td>\n",
              "      <td>NaN</td>\n",
              "      <td>NaN</td>\n",
              "    </tr>\n",
              "    <tr>\n",
              "      <th>12208</th>\n",
              "      <td>4</td>\n",
              "      <td>NaN</td>\n",
              "      <td>NaN</td>\n",
              "      <td>Gujarat</td>\n",
              "      <td>India</td>\n",
              "      <td>2021-03-05 05:26:29</td>\n",
              "      <td>22.694884</td>\n",
              "      <td>71.590923</td>\n",
              "      <td>271725</td>\n",
              "      <td>4412</td>\n",
              "      <td>264564.0</td>\n",
              "      <td>2749.0</td>\n",
              "      <td>Gujarat, India</td>\n",
              "      <td>425.418497</td>\n",
              "      <td>1.623700</td>\n",
              "      <td>NaN</td>\n",
              "      <td>NaN</td>\n",
              "      <td>NaN</td>\n",
              "      <td>NaN</td>\n",
              "      <td>NaN</td>\n",
              "    </tr>\n",
              "    <tr>\n",
              "      <th>16191</th>\n",
              "      <td>5</td>\n",
              "      <td>NaN</td>\n",
              "      <td>NaN</td>\n",
              "      <td>Gujarat</td>\n",
              "      <td>India</td>\n",
              "      <td>2021-03-06 04:23:41</td>\n",
              "      <td>22.694884</td>\n",
              "      <td>71.590923</td>\n",
              "      <td>272240</td>\n",
              "      <td>4413</td>\n",
              "      <td>264969.0</td>\n",
              "      <td>2858.0</td>\n",
              "      <td>Gujarat, India</td>\n",
              "      <td>426.224792</td>\n",
              "      <td>1.620996</td>\n",
              "      <td>NaN</td>\n",
              "      <td>NaN</td>\n",
              "      <td>NaN</td>\n",
              "      <td>NaN</td>\n",
              "      <td>NaN</td>\n",
              "    </tr>\n",
              "    <tr>\n",
              "      <th>...</th>\n",
              "      <td>...</td>\n",
              "      <td>...</td>\n",
              "      <td>...</td>\n",
              "      <td>...</td>\n",
              "      <td>...</td>\n",
              "      <td>...</td>\n",
              "      <td>...</td>\n",
              "      <td>...</td>\n",
              "      <td>...</td>\n",
              "      <td>...</td>\n",
              "      <td>...</td>\n",
              "      <td>...</td>\n",
              "      <td>...</td>\n",
              "      <td>...</td>\n",
              "      <td>...</td>\n",
              "      <td>...</td>\n",
              "      <td>...</td>\n",
              "      <td>...</td>\n",
              "      <td>...</td>\n",
              "      <td>...</td>\n",
              "    </tr>\n",
              "    <tr>\n",
              "      <th>239860</th>\n",
              "      <td>60</td>\n",
              "      <td>NaN</td>\n",
              "      <td>NaN</td>\n",
              "      <td>Gujarat</td>\n",
              "      <td>India</td>\n",
              "      <td>2021-03-19 05:26:09</td>\n",
              "      <td>22.694884</td>\n",
              "      <td>71.590923</td>\n",
              "      <td>282449</td>\n",
              "      <td>4433</td>\n",
              "      <td>272332.0</td>\n",
              "      <td>5684.0</td>\n",
              "      <td>Gujarat, India</td>\n",
              "      <td>442.208222</td>\n",
              "      <td>1.569487</td>\n",
              "      <td>NaN</td>\n",
              "      <td>NaN</td>\n",
              "      <td>NaN</td>\n",
              "      <td>NaN</td>\n",
              "      <td>NaN</td>\n",
              "    </tr>\n",
              "    <tr>\n",
              "      <th>243843</th>\n",
              "      <td>61</td>\n",
              "      <td>NaN</td>\n",
              "      <td>NaN</td>\n",
              "      <td>Gujarat</td>\n",
              "      <td>India</td>\n",
              "      <td>2021-03-20 05:25:46</td>\n",
              "      <td>22.694884</td>\n",
              "      <td>71.590923</td>\n",
              "      <td>283864</td>\n",
              "      <td>4437</td>\n",
              "      <td>273280.0</td>\n",
              "      <td>6147.0</td>\n",
              "      <td>Gujarat, India</td>\n",
              "      <td>444.423576</td>\n",
              "      <td>1.563072</td>\n",
              "      <td>NaN</td>\n",
              "      <td>NaN</td>\n",
              "      <td>NaN</td>\n",
              "      <td>NaN</td>\n",
              "      <td>NaN</td>\n",
              "    </tr>\n",
              "    <tr>\n",
              "      <th>247826</th>\n",
              "      <td>62</td>\n",
              "      <td>NaN</td>\n",
              "      <td>NaN</td>\n",
              "      <td>Gujarat</td>\n",
              "      <td>India</td>\n",
              "      <td>2021-03-21 05:25:44</td>\n",
              "      <td>22.694884</td>\n",
              "      <td>71.590923</td>\n",
              "      <td>285429</td>\n",
              "      <td>4443</td>\n",
              "      <td>274249.0</td>\n",
              "      <td>6737.0</td>\n",
              "      <td>Gujarat, India</td>\n",
              "      <td>446.873774</td>\n",
              "      <td>1.556604</td>\n",
              "      <td>NaN</td>\n",
              "      <td>NaN</td>\n",
              "      <td>NaN</td>\n",
              "      <td>NaN</td>\n",
              "      <td>NaN</td>\n",
              "    </tr>\n",
              "    <tr>\n",
              "      <th>251809</th>\n",
              "      <td>63</td>\n",
              "      <td>NaN</td>\n",
              "      <td>NaN</td>\n",
              "      <td>Gujarat</td>\n",
              "      <td>India</td>\n",
              "      <td>2021-03-22 05:25:43</td>\n",
              "      <td>22.694884</td>\n",
              "      <td>71.590923</td>\n",
              "      <td>287009</td>\n",
              "      <td>4450</td>\n",
              "      <td>275238.0</td>\n",
              "      <td>7321.0</td>\n",
              "      <td>Gujarat, India</td>\n",
              "      <td>449.347456</td>\n",
              "      <td>1.550474</td>\n",
              "      <td>NaN</td>\n",
              "      <td>NaN</td>\n",
              "      <td>NaN</td>\n",
              "      <td>NaN</td>\n",
              "      <td>NaN</td>\n",
              "    </tr>\n",
              "    <tr>\n",
              "      <th>255792</th>\n",
              "      <td>64</td>\n",
              "      <td>NaN</td>\n",
              "      <td>NaN</td>\n",
              "      <td>Gujarat</td>\n",
              "      <td>India</td>\n",
              "      <td>2021-03-23 05:26:18</td>\n",
              "      <td>22.694884</td>\n",
              "      <td>71.590923</td>\n",
              "      <td>288649</td>\n",
              "      <td>4454</td>\n",
              "      <td>276348.0</td>\n",
              "      <td>7847.0</td>\n",
              "      <td>Gujarat, India</td>\n",
              "      <td>451.915075</td>\n",
              "      <td>1.543051</td>\n",
              "      <td>NaN</td>\n",
              "      <td>NaN</td>\n",
              "      <td>NaN</td>\n",
              "      <td>NaN</td>\n",
              "      <td>NaN</td>\n",
              "    </tr>\n",
              "  </tbody>\n",
              "</table>\n",
              "<p>64 rows × 20 columns</p>\n",
              "</div>"
            ],
            "text/plain": [
              "        sr_no  FIPS Admin2  ... Last Update Latitude Longitude\n",
              "259         1   NaN    NaN  ...         NaN      NaN       NaN\n",
              "4242        2   NaN    NaN  ...         NaN      NaN       NaN\n",
              "8225        3   NaN    NaN  ...         NaN      NaN       NaN\n",
              "12208       4   NaN    NaN  ...         NaN      NaN       NaN\n",
              "16191       5   NaN    NaN  ...         NaN      NaN       NaN\n",
              "...       ...   ...    ...  ...         ...      ...       ...\n",
              "239860     60   NaN    NaN  ...         NaN      NaN       NaN\n",
              "243843     61   NaN    NaN  ...         NaN      NaN       NaN\n",
              "247826     62   NaN    NaN  ...         NaN      NaN       NaN\n",
              "251809     63   NaN    NaN  ...         NaN      NaN       NaN\n",
              "255792     64   NaN    NaN  ...         NaN      NaN       NaN\n",
              "\n",
              "[64 rows x 20 columns]"
            ]
          },
          "metadata": {
            "tags": []
          },
          "execution_count": 32
        }
      ]
    },
    {
      "cell_type": "code",
      "metadata": {
        "id": "iuTfJRl_GTuf"
      },
      "source": [
        "x_feature_gujarat = data_gujarat_1.iloc[:,0:1]\n",
        "y_target_gujarat = data_gujarat_1.iloc[:,8:9]"
      ],
      "execution_count": 33,
      "outputs": []
    },
    {
      "cell_type": "code",
      "metadata": {
        "colab": {
          "base_uri": "https://localhost:8080/"
        },
        "id": "K-N8WXT7FBMf",
        "outputId": "bbd0286f-8c87-4d3c-ebbb-42275cb4262f"
      },
      "source": [
        "from sklearn.preprocessing import PolynomialFeatures\n",
        "from sklearn.linear_model import LinearRegression\n",
        "poly = PolynomialFeatures(degree = 5)\n",
        "X_poly = poly.fit_transform(x_feature_gujarat)\n",
        "poly = poly.fit(X_poly, y_target_gujarat)\n",
        "lin2 = LinearRegression()\n",
        "lin2.fit(X_poly, y_target_gujarat)\n",
        "x_guj = np.array([65]).reshape(-1, 1)\n",
        "y_guj = np.array([64]).reshape(-1, 1)\n",
        "\n",
        "gujarat_cases_4_may = int(abs(lin2.predict(poly.fit_transform(x_guj)) - lin2.predict(poly.fit_transform(y_guj))))\n",
        "print(\"Predicted cases in Gujarat on 4th May 2021 = \"+str(gujarat_cases_4_may))"
      ],
      "execution_count": 34,
      "outputs": [
        {
          "output_type": "stream",
          "text": [
            "Predicted cases in Gujarat on 4th May 2021 = 13396\n"
          ],
          "name": "stdout"
        }
      ]
    },
    {
      "cell_type": "markdown",
      "metadata": {
        "id": "2EHuqpaDr23W"
      },
      "source": [
        "**Total percentage of cases in Gujarat w.r.t India on 4th May, 2021**"
      ]
    },
    {
      "cell_type": "code",
      "metadata": {
        "colab": {
          "base_uri": "https://localhost:8080/",
          "height": 315
        },
        "id": "9s22VG7iMD0O",
        "outputId": "502f20a7-b1d3-4f18-de87-24edde06a82d"
      },
      "source": [
        "guj_percent = float((gujarat_cases_4_may/(india_cases_4_may))*100)\n",
        "plt.pie([guj_percent,100-guj_percent],labels=['Gujarat','India - Gujarat'],shadow=True,autopct='%1.1f%%',explode=(0.2,0))\n",
        "plt.title(\"COVID cases on 4th May 2021\")\n",
        "print(\"Predicted cases in Gujarat on 4th May 2021 = \"+str(gujarat_cases_4_may))\n",
        "print(\"Predicted cases in India on 4th May 2021 = \"+str(india_cases_4_may))\n",
        "print()"
      ],
      "execution_count": 35,
      "outputs": [
        {
          "output_type": "stream",
          "text": [
            "Predicted cases in Gujarat on 4th May 2021 = 13396\n",
            "Predicted cases in India on 4th May 2021 = 359942\n",
            "\n"
          ],
          "name": "stdout"
        },
        {
          "output_type": "display_data",
          "data": {
            "image/png": "[encoded data removed]",
            "text/plain": [
              "<Figure size 432x288 with 1 Axes>"
            ]
          },
          "metadata": {
            "tags": []
          }
        }
      ]
    },
    {
      "cell_type": "markdown",
      "metadata": {
        "id": "4TIL78LeDdmU"
      },
      "source": [
        "## **Bengal State Analyse**"
      ]
    },
    {
      "cell_type": "code",
      "metadata": {
        "colab": {
          "base_uri": "https://localhost:8080/",
          "height": 660
        },
        "id": "2IC27RicD-HA",
        "outputId": "79bcd924-89f9-46cf-c827-8ca25b2aaedf"
      },
      "source": [
        "dataset=pd.read_csv(\"combine_csv.csv\")\n",
        "data_bengal = dataset.loc[dataset['Province_State'] == 'West Bengal']\n",
        "data_bengal = data_bengal.sort_values(by=\"Last_Update\")\n",
        "data_bengal"
      ],
      "execution_count": 36,
      "outputs": [
        {
          "output_type": "stream",
          "text": [
            "/usr/local/lib/python3.7/dist-packages/IPython/core/interactiveshell.py:2718: DtypeWarning: Columns (14,15,16) have mixed types.Specify dtype option on import or set low_memory=False.\n",
            "  interactivity=interactivity, compiler=compiler, result=result)\n"
          ],
          "name": "stderr"
        },
        {
          "output_type": "execute_result",
          "data": {
            "text/html": [
              "<div>\n",
              "<style scoped>\n",
              "    .dataframe tbody tr th:only-of-type {\n",
              "        vertical-align: middle;\n",
              "    }\n",
              "\n",
              "    .dataframe tbody tr th {\n",
              "        vertical-align: top;\n",
              "    }\n",
              "\n",
              "    .dataframe thead th {\n",
              "        text-align: right;\n",
              "    }\n",
              "</style>\n",
              "<table border=\"1\" class=\"dataframe\">\n",
              "  <thead>\n",
              "    <tr style=\"text-align: right;\">\n",
              "      <th></th>\n",
              "      <th>FIPS</th>\n",
              "      <th>Admin2</th>\n",
              "      <th>Province_State</th>\n",
              "      <th>Country_Region</th>\n",
              "      <th>Last_Update</th>\n",
              "      <th>Lat</th>\n",
              "      <th>Long_</th>\n",
              "      <th>Confirmed</th>\n",
              "      <th>Deaths</th>\n",
              "      <th>Recovered</th>\n",
              "      <th>Active</th>\n",
              "      <th>Combined_Key</th>\n",
              "      <th>Incident_Rate</th>\n",
              "      <th>Case_Fatality_Ratio</th>\n",
              "      <th>Province/State</th>\n",
              "      <th>Country/Region</th>\n",
              "      <th>Last Update</th>\n",
              "      <th>Latitude</th>\n",
              "      <th>Longitude</th>\n",
              "    </tr>\n",
              "  </thead>\n",
              "  <tbody>\n",
              "    <tr>\n",
              "      <th>285</th>\n",
              "      <td>NaN</td>\n",
              "      <td>NaN</td>\n",
              "      <td>West Bengal</td>\n",
              "      <td>India</td>\n",
              "      <td>2021-03-02 05:23:30</td>\n",
              "      <td>23.814082</td>\n",
              "      <td>87.979803</td>\n",
              "      <td>575316</td>\n",
              "      <td>10268</td>\n",
              "      <td>561755.0</td>\n",
              "      <td>3293.0</td>\n",
              "      <td>West Bengal, India</td>\n",
              "      <td>577.572559</td>\n",
              "      <td>1.784758</td>\n",
              "      <td>NaN</td>\n",
              "      <td>NaN</td>\n",
              "      <td>NaN</td>\n",
              "      <td>NaN</td>\n",
              "      <td>NaN</td>\n",
              "    </tr>\n",
              "    <tr>\n",
              "      <th>4268</th>\n",
              "      <td>NaN</td>\n",
              "      <td>NaN</td>\n",
              "      <td>West Bengal</td>\n",
              "      <td>India</td>\n",
              "      <td>2021-03-03 05:23:28</td>\n",
              "      <td>23.814082</td>\n",
              "      <td>87.979803</td>\n",
              "      <td>575487</td>\n",
              "      <td>10270</td>\n",
              "      <td>561964.0</td>\n",
              "      <td>3253.0</td>\n",
              "      <td>West Bengal, India</td>\n",
              "      <td>577.744229</td>\n",
              "      <td>1.784575</td>\n",
              "      <td>NaN</td>\n",
              "      <td>NaN</td>\n",
              "      <td>NaN</td>\n",
              "      <td>NaN</td>\n",
              "      <td>NaN</td>\n",
              "    </tr>\n",
              "    <tr>\n",
              "      <th>8251</th>\n",
              "      <td>NaN</td>\n",
              "      <td>NaN</td>\n",
              "      <td>West Bengal</td>\n",
              "      <td>India</td>\n",
              "      <td>2021-03-04 05:24:24</td>\n",
              "      <td>23.814082</td>\n",
              "      <td>87.979803</td>\n",
              "      <td>575712</td>\n",
              "      <td>10272</td>\n",
              "      <td>562195.0</td>\n",
              "      <td>3245.0</td>\n",
              "      <td>West Bengal, India</td>\n",
              "      <td>577.970112</td>\n",
              "      <td>1.784225</td>\n",
              "      <td>NaN</td>\n",
              "      <td>NaN</td>\n",
              "      <td>NaN</td>\n",
              "      <td>NaN</td>\n",
              "      <td>NaN</td>\n",
              "    </tr>\n",
              "    <tr>\n",
              "      <th>12234</th>\n",
              "      <td>NaN</td>\n",
              "      <td>NaN</td>\n",
              "      <td>West Bengal</td>\n",
              "      <td>India</td>\n",
              "      <td>2021-03-05 05:26:29</td>\n",
              "      <td>23.814082</td>\n",
              "      <td>87.979803</td>\n",
              "      <td>575921</td>\n",
              "      <td>10273</td>\n",
              "      <td>562412.0</td>\n",
              "      <td>3236.0</td>\n",
              "      <td>West Bengal, India</td>\n",
              "      <td>578.179932</td>\n",
              "      <td>1.783752</td>\n",
              "      <td>NaN</td>\n",
              "      <td>NaN</td>\n",
              "      <td>NaN</td>\n",
              "      <td>NaN</td>\n",
              "      <td>NaN</td>\n",
              "    </tr>\n",
              "    <tr>\n",
              "      <th>16217</th>\n",
              "      <td>NaN</td>\n",
              "      <td>NaN</td>\n",
              "      <td>West Bengal</td>\n",
              "      <td>India</td>\n",
              "      <td>2021-03-06 04:23:41</td>\n",
              "      <td>23.814082</td>\n",
              "      <td>87.979803</td>\n",
              "      <td>576176</td>\n",
              "      <td>10275</td>\n",
              "      <td>562675.0</td>\n",
              "      <td>3226.0</td>\n",
              "      <td>West Bengal, India</td>\n",
              "      <td>578.435932</td>\n",
              "      <td>1.783309</td>\n",
              "      <td>NaN</td>\n",
              "      <td>NaN</td>\n",
              "      <td>NaN</td>\n",
              "      <td>NaN</td>\n",
              "      <td>NaN</td>\n",
              "    </tr>\n",
              "    <tr>\n",
              "      <th>...</th>\n",
              "      <td>...</td>\n",
              "      <td>...</td>\n",
              "      <td>...</td>\n",
              "      <td>...</td>\n",
              "      <td>...</td>\n",
              "      <td>...</td>\n",
              "      <td>...</td>\n",
              "      <td>...</td>\n",
              "      <td>...</td>\n",
              "      <td>...</td>\n",
              "      <td>...</td>\n",
              "      <td>...</td>\n",
              "      <td>...</td>\n",
              "      <td>...</td>\n",
              "      <td>...</td>\n",
              "      <td>...</td>\n",
              "      <td>...</td>\n",
              "      <td>...</td>\n",
              "      <td>...</td>\n",
              "    </tr>\n",
              "    <tr>\n",
              "      <th>184124</th>\n",
              "      <td>NaN</td>\n",
              "      <td>NaN</td>\n",
              "      <td>West Bengal</td>\n",
              "      <td>India</td>\n",
              "      <td>2021-04-30 04:21:03</td>\n",
              "      <td>23.814082</td>\n",
              "      <td>87.979803</td>\n",
              "      <td>810955</td>\n",
              "      <td>11248</td>\n",
              "      <td>689466.0</td>\n",
              "      <td>110241.0</td>\n",
              "      <td>West Bengal, India</td>\n",
              "      <td>814.135804</td>\n",
              "      <td>1.387007</td>\n",
              "      <td>NaN</td>\n",
              "      <td>NaN</td>\n",
              "      <td>NaN</td>\n",
              "      <td>NaN</td>\n",
              "      <td>NaN</td>\n",
              "    </tr>\n",
              "    <tr>\n",
              "      <th>200056</th>\n",
              "      <td>NaN</td>\n",
              "      <td>NaN</td>\n",
              "      <td>West Bengal</td>\n",
              "      <td>India</td>\n",
              "      <td>2021-05-01 04:20:47</td>\n",
              "      <td>23.814082</td>\n",
              "      <td>87.979803</td>\n",
              "      <td>828366</td>\n",
              "      <td>11344</td>\n",
              "      <td>703398.0</td>\n",
              "      <td>113624.0</td>\n",
              "      <td>West Bengal, India</td>\n",
              "      <td>831.615095</td>\n",
              "      <td>1.369443</td>\n",
              "      <td>NaN</td>\n",
              "      <td>NaN</td>\n",
              "      <td>NaN</td>\n",
              "      <td>NaN</td>\n",
              "      <td>NaN</td>\n",
              "    </tr>\n",
              "    <tr>\n",
              "      <th>215988</th>\n",
              "      <td>NaN</td>\n",
              "      <td>NaN</td>\n",
              "      <td>West Bengal</td>\n",
              "      <td>India</td>\n",
              "      <td>2021-05-02 04:20:48</td>\n",
              "      <td>23.814082</td>\n",
              "      <td>87.979803</td>\n",
              "      <td>845878</td>\n",
              "      <td>11447</td>\n",
              "      <td>717772.0</td>\n",
              "      <td>116659.0</td>\n",
              "      <td>West Bengal, India</td>\n",
              "      <td>849.195782</td>\n",
              "      <td>1.353268</td>\n",
              "      <td>NaN</td>\n",
              "      <td>NaN</td>\n",
              "      <td>NaN</td>\n",
              "      <td>NaN</td>\n",
              "      <td>NaN</td>\n",
              "    </tr>\n",
              "    <tr>\n",
              "      <th>219971</th>\n",
              "      <td>NaN</td>\n",
              "      <td>NaN</td>\n",
              "      <td>West Bengal</td>\n",
              "      <td>India</td>\n",
              "      <td>2021-05-03 04:20:39</td>\n",
              "      <td>23.814082</td>\n",
              "      <td>87.979803</td>\n",
              "      <td>863393</td>\n",
              "      <td>11539</td>\n",
              "      <td>733359.0</td>\n",
              "      <td>118495.0</td>\n",
              "      <td>West Bengal, India</td>\n",
              "      <td>866.779481</td>\n",
              "      <td>1.336471</td>\n",
              "      <td>NaN</td>\n",
              "      <td>NaN</td>\n",
              "      <td>NaN</td>\n",
              "      <td>NaN</td>\n",
              "      <td>NaN</td>\n",
              "    </tr>\n",
              "    <tr>\n",
              "      <th>231920</th>\n",
              "      <td>NaN</td>\n",
              "      <td>NaN</td>\n",
              "      <td>West Bengal</td>\n",
              "      <td>India</td>\n",
              "      <td>2021-05-04 04:20:34</td>\n",
              "      <td>23.814082</td>\n",
              "      <td>87.979803</td>\n",
              "      <td>863393</td>\n",
              "      <td>11539</td>\n",
              "      <td>733359.0</td>\n",
              "      <td>118495.0</td>\n",
              "      <td>West Bengal, India</td>\n",
              "      <td>866.779481</td>\n",
              "      <td>1.336471</td>\n",
              "      <td>NaN</td>\n",
              "      <td>NaN</td>\n",
              "      <td>NaN</td>\n",
              "      <td>NaN</td>\n",
              "      <td>NaN</td>\n",
              "    </tr>\n",
              "  </tbody>\n",
              "</table>\n",
              "<p>64 rows × 19 columns</p>\n",
              "</div>"
            ],
            "text/plain": [
              "        FIPS Admin2 Province_State  ... Last Update Latitude  Longitude\n",
              "285      NaN    NaN    West Bengal  ...         NaN      NaN        NaN\n",
              "4268     NaN    NaN    West Bengal  ...         NaN      NaN        NaN\n",
              "8251     NaN    NaN    West Bengal  ...         NaN      NaN        NaN\n",
              "12234    NaN    NaN    West Bengal  ...         NaN      NaN        NaN\n",
              "16217    NaN    NaN    West Bengal  ...         NaN      NaN        NaN\n",
              "...      ...    ...            ...  ...         ...      ...        ...\n",
              "184124   NaN    NaN    West Bengal  ...         NaN      NaN        NaN\n",
              "200056   NaN    NaN    West Bengal  ...         NaN      NaN        NaN\n",
              "215988   NaN    NaN    West Bengal  ...         NaN      NaN        NaN\n",
              "219971   NaN    NaN    West Bengal  ...         NaN      NaN        NaN\n",
              "231920   NaN    NaN    West Bengal  ...         NaN      NaN        NaN\n",
              "\n",
              "[64 rows x 19 columns]"
            ]
          },
          "metadata": {
            "tags": []
          },
          "execution_count": 36
        }
      ]
    },
    {
      "cell_type": "code",
      "metadata": {
        "id": "3SVMIeGWGqwl"
      },
      "source": [
        "data_bengal_1mar_1apr = data_bengal.iloc[:30,:]\n",
        "\n",
        "data_bengal_1apr_1may = data_bengal.iloc[30:60,:]"
      ],
      "execution_count": 37,
      "outputs": []
    },
    {
      "cell_type": "code",
      "metadata": {
        "colab": {
          "base_uri": "https://localhost:8080/",
          "height": 441
        },
        "id": "rZNvxatDD-IG",
        "outputId": "8f6b8969-c26c-47b9-dfef-2de41ba36e22"
      },
      "source": [
        "fig,axes=plt.subplots(figsize=(12,6),nrows=1,ncols=2)\n",
        "\n",
        "axes[0].plot(data_bengal_1mar_1apr['Last_Update'],data_bengal_1mar_1apr['Confirmed'],color='b')\n",
        "axes[0].set_xlabel('Date')\n",
        "axes[0].set_ylabel('No of Confirmed Cases')\n",
        "axes[0].set_title('West Bengal, 1 Mar to 1 April')\n",
        "\n",
        "axes[1].plot(data_bengal_1apr_1may['Last_Update'],data_bengal_1apr_1may['Confirmed'],color='r')\n",
        "axes[1].set_xlabel('Date')\n",
        "axes[1].set_ylabel('No of Confirmed Cases')\n",
        "axes[1].set_title('West Bengal, 1 April to 1 May')\n",
        "\n",
        "plt.tight_layout()\n",
        "plt.show()"
      ],
      "execution_count": 38,
      "outputs": [
        {
          "output_type": "display_data",
          "data": {
            "image/png": "[encoded data removed]",
            "text/plain": [
              "<Figure size 864x432 with 2 Axes>"
            ]
          },
          "metadata": {
            "tags": [],
            "needs_background": "light"
          }
        }
      ]
    },
    {
      "cell_type": "code",
      "metadata": {
        "id": "bD3FutV9DyAg"
      },
      "source": [
        ""
      ],
      "execution_count": 38,
      "outputs": []
    },
    {
      "cell_type": "markdown",
      "metadata": {
        "id": "NqUhcm8HO3k7"
      },
      "source": [
        "## **Analysis of Highly affected 20 states In India**"
      ]
    },
    {
      "cell_type": "code",
      "metadata": {
        "colab": {
          "base_uri": "https://localhost:8080/",
          "height": 1000
        },
        "id": "ImK4UBajQI-X",
        "outputId": "36932bca-812f-4c76-d2c6-fa8da7cbe9c8"
      },
      "source": [
        "# dataset is from 2nd March to 4th May\n",
        "dataset_india = dataset.loc[dataset['Country_Region']=='India']\n",
        "dataset_india = dataset_india.sort_values(by=\"Last_Update\")\n",
        "\n",
        "graph_title = ['Top 20 States infected on 2nd March','Top 20 States infected on 15 March','Top 20 States infected on 1st April',\n",
        "               'Top 20 States infected on 15 April','Top 20 States infected on 1st May']\n",
        "selected_date = ['2021-03-02 05:23:30','2021-03-15 05:25:51','2021-04-01 04:27:05','2021-04-15 04:20:54','2021-05-01 04:20:47']\n",
        "for i in range(5):\n",
        "    data_particular_month = dataset_india.loc[dataset_india['Last_Update']==selected_date[i]]\n",
        "    arrange_confirmed_case = data_particular_month.sort_values(by=['Confirmed'],ascending=False)\n",
        "    top_20 = arrange_confirmed_case.head(20)\n",
        "    top_20.reset_index(inplace = True)\n",
        "   \n",
        "    top_20\n",
        "\n",
        "    fig,ax = plt.subplots(figsize=(20,7))\n",
        "    ax.set_xticklabels(ax.get_xticklabels(), rotation=40, ha=\"right\")\n",
        "    sns.barplot(ax=ax,x=\"Province_State\",y=\"Confirmed\",data=top_20,dodge=False)\n",
        "    ax.set(xlabel=\"States\", ylabel = \"Total Confirmed Cases\",title=graph_title[i])\n",
        "    plt.show()\n"
      ],
      "execution_count": 39,
      "outputs": [
        {
          "output_type": "display_data",
          "data": {
            "image/png": "[encoded data removed]",
            "text/plain": [
              "<Figure size 1440x504 with 1 Axes>"
            ]
          },
          "metadata": {
            "tags": [],
            "needs_background": "light"
          }
        },
        {
          "output_type": "display_data",
          "data": {
            "image/png": "[encoded data removed]",
            "text/plain": [
              "<Figure size 1440x504 with 1 Axes>"
            ]
          },
          "metadata": {
            "tags": [],
            "needs_background": "light"
          }
        },
        {
          "output_type": "display_data",
          "data": {
            "image/png": "[encoded data removed]",
            "text/plain": [
              "<Figure size 1440x504 with 1 Axes>"
            ]
          },
          "metadata": {
            "tags": [],
            "needs_background": "light"
          }
        },
        {
          "output_type": "display_data",
          "data": {
            "image/png": "[encoded data removed]",
            "text/plain": [
              "<Figure size 1440x504 with 1 Axes>"
            ]
          },
          "metadata": {
            "tags": [],
            "needs_background": "light"
          }
        },
        {
          "output_type": "display_data",
          "data": {
            "image/png": "[encoded data removed]",
            "text/plain": [
              "<Figure size 1440x504 with 1 Axes>"
            ]
          },
          "metadata": {
            "tags": [],
            "needs_background": "light"
          }
        }
      ]
    },
    {
      "cell_type": "code",
      "metadata": {
        "id": "Dla7mjMuackp"
      },
      "source": [
        ""
      ],
      "execution_count": 39,
      "outputs": []
    }
  ]
}