{
  "nbformat": 4,
  "nbformat_minor": 0,
  "metadata": {
    "colab": {
      "name": "Multi Variable Linear Regression Basic.ipynb",
      "provenance": [],
      "collapsed_sections": [],
      "authorship_tag": "ABX9TyNX/ohG5zXNOnxrZVuxHa7B",
      "include_colab_link": true
    },
    "kernelspec": {
      "name": "python3",
      "display_name": "Python 3"
    }
  },
  "cells": [
    {
      "cell_type": "markdown",
      "metadata": {
        "id": "view-in-github",
        "colab_type": "text"
      },
      "source": [
        "<a href=\"https://colab.research.google.com/github/yash-3/machine-learning/blob/main/Multi_Variable_Linear_Regression_Basic.ipynb\" target=\"_parent\"><img src=\"https://colab.research.google.com/assets/colab-badge.svg\" alt=\"Open In Colab\"/></a>"
      ]
    },
    {
      "cell_type": "code",
      "metadata": {
        "id": "LmZ3DV8m4Rhc"
      },
      "source": [
        "import numpy as np    #perform mathematical operation\n",
        "import matplotlib.pyplot as plt   #for plot graphs \n",
        "import pandas as pd  #read csv & make data frame"
      ],
      "execution_count": 1,
      "outputs": []
    },
    {
      "cell_type": "code",
      "metadata": {
        "id": "RR6Pe2mG4f9K"
      },
      "source": [
        "from google.colab import drive  #import gogle drive data"
      ],
      "execution_count": 2,
      "outputs": []
    },
    {
      "cell_type": "code",
      "metadata": {
        "id": "my_p-_ss4kny",
        "colab": {
          "base_uri": "https://localhost:8080/"
        },
        "outputId": "8acd8e9f-42d7-46fe-f94a-234e910423d1"
      },
      "source": [
        "drive.mount('/content/drive') # mount drive data into colab cloud and enter authentication code"
      ],
      "execution_count": 3,
      "outputs": [
        {
          "output_type": "stream",
          "text": [
            "Mounted at /content/drive\n"
          ],
          "name": "stdout"
        }
      ]
    },
    {
      "cell_type": "code",
      "metadata": {
        "id": "GBF-QQHC41-J",
        "colab": {
          "base_uri": "https://localhost:8080/"
        },
        "outputId": "bd7182fc-d79c-4a7d-c1e9-4d34047222a9"
      },
      "source": [
        "cd /content/drive/\"My Drive/Colab Notebooks/Dataset Files\"  "
      ],
      "execution_count": 4,
      "outputs": [
        {
          "output_type": "stream",
          "text": [
            "/content/drive/My Drive/Colab Notebooks/Dataset Files\n"
          ],
          "name": "stdout"
        }
      ]
    },
    {
      "cell_type": "code",
      "metadata": {
        "id": "KHo7I6SGji1v"
      },
      "source": [
        "coloumnName = ['area','bedroom','price']"
      ],
      "execution_count": 5,
      "outputs": []
    },
    {
      "cell_type": "code",
      "metadata": {
        "id": "d6BvIooN42p7",
        "colab": {
          "base_uri": "https://localhost:8080/"
        },
        "outputId": "d3ac251e-9de7-46c6-ae54-e4cd53fb1c40"
      },
      "source": [
        "dataset=pd.read_csv(\"ex1data2.txt\",names=coloumnName)\n",
        "print(dataset)\n",
        "dataset.shape"
      ],
      "execution_count": 6,
      "outputs": [
        {
          "output_type": "stream",
          "text": [
            "    area  bedroom   price\n",
            "0   2104        3  399900\n",
            "1   1600        3  329900\n",
            "2   2400        3  369000\n",
            "3   1416        2  232000\n",
            "4   3000        4  539900\n",
            "5   1985        4  299900\n",
            "6   1534        3  314900\n",
            "7   1427        3  198999\n",
            "8   1380        3  212000\n",
            "9   1494        3  242500\n",
            "10  1940        4  239999\n",
            "11  2000        3  347000\n",
            "12  1890        3  329999\n",
            "13  4478        5  699900\n",
            "14  1268        3  259900\n",
            "15  2300        4  449900\n",
            "16  1320        2  299900\n",
            "17  1236        3  199900\n",
            "18  2609        4  499998\n",
            "19  3031        4  599000\n",
            "20  1767        3  252900\n",
            "21  1888        2  255000\n",
            "22  1604        3  242900\n",
            "23  1962        4  259900\n",
            "24  3890        3  573900\n",
            "25  1100        3  249900\n",
            "26  1458        3  464500\n",
            "27  2526        3  469000\n",
            "28  2200        3  475000\n",
            "29  2637        3  299900\n",
            "30  1839        2  349900\n",
            "31  1000        1  169900\n",
            "32  2040        4  314900\n",
            "33  3137        3  579900\n",
            "34  1811        4  285900\n",
            "35  1437        3  249900\n",
            "36  1239        3  229900\n",
            "37  2132        4  345000\n",
            "38  4215        4  549000\n",
            "39  2162        4  287000\n",
            "40  1664        2  368500\n",
            "41  2238        3  329900\n",
            "42  2567        4  314000\n",
            "43  1200        3  299000\n",
            "44   852        2  179900\n",
            "45  1852        4  299900\n",
            "46  1203        3  239500\n"
          ],
          "name": "stdout"
        },
        {
          "output_type": "execute_result",
          "data": {
            "text/plain": [
              "(47, 3)"
            ]
          },
          "metadata": {
            "tags": []
          },
          "execution_count": 6
        }
      ]
    },
    {
      "cell_type": "code",
      "metadata": {
        "id": "htDn0zjOB-ie",
        "colab": {
          "base_uri": "https://localhost:8080/"
        },
        "outputId": "f182b07c-e1ec-431b-8721-2e5d63cbe915"
      },
      "source": [
        "type(dataset)"
      ],
      "execution_count": 7,
      "outputs": [
        {
          "output_type": "execute_result",
          "data": {
            "text/plain": [
              "pandas.core.frame.DataFrame"
            ]
          },
          "metadata": {
            "tags": []
          },
          "execution_count": 7
        }
      ]
    },
    {
      "cell_type": "code",
      "metadata": {
        "id": "-3fwKPsB3RZN",
        "colab": {
          "base_uri": "https://localhost:8080/",
          "height": 297
        },
        "outputId": "04da6157-0687-4d93-f2ca-5673e49d4a22"
      },
      "source": [
        "#dataf=pd.DataFrame(dataset)  #to check description of dataset\n",
        "dataset.describe()"
      ],
      "execution_count": 8,
      "outputs": [
        {
          "output_type": "execute_result",
          "data": {
            "text/html": [
              "<div>\n",
              "<style scoped>\n",
              "    .dataframe tbody tr th:only-of-type {\n",
              "        vertical-align: middle;\n",
              "    }\n",
              "\n",
              "    .dataframe tbody tr th {\n",
              "        vertical-align: top;\n",
              "    }\n",
              "\n",
              "    .dataframe thead th {\n",
              "        text-align: right;\n",
              "    }\n",
              "</style>\n",
              "<table border=\"1\" class=\"dataframe\">\n",
              "  <thead>\n",
              "    <tr style=\"text-align: right;\">\n",
              "      <th></th>\n",
              "      <th>area</th>\n",
              "      <th>bedroom</th>\n",
              "      <th>price</th>\n",
              "    </tr>\n",
              "  </thead>\n",
              "  <tbody>\n",
              "    <tr>\n",
              "      <th>count</th>\n",
              "      <td>47.000000</td>\n",
              "      <td>47.000000</td>\n",
              "      <td>47.000000</td>\n",
              "    </tr>\n",
              "    <tr>\n",
              "      <th>mean</th>\n",
              "      <td>2000.680851</td>\n",
              "      <td>3.170213</td>\n",
              "      <td>340412.659574</td>\n",
              "    </tr>\n",
              "    <tr>\n",
              "      <th>std</th>\n",
              "      <td>794.702354</td>\n",
              "      <td>0.760982</td>\n",
              "      <td>125039.899586</td>\n",
              "    </tr>\n",
              "    <tr>\n",
              "      <th>min</th>\n",
              "      <td>852.000000</td>\n",
              "      <td>1.000000</td>\n",
              "      <td>169900.000000</td>\n",
              "    </tr>\n",
              "    <tr>\n",
              "      <th>25%</th>\n",
              "      <td>1432.000000</td>\n",
              "      <td>3.000000</td>\n",
              "      <td>249900.000000</td>\n",
              "    </tr>\n",
              "    <tr>\n",
              "      <th>50%</th>\n",
              "      <td>1888.000000</td>\n",
              "      <td>3.000000</td>\n",
              "      <td>299900.000000</td>\n",
              "    </tr>\n",
              "    <tr>\n",
              "      <th>75%</th>\n",
              "      <td>2269.000000</td>\n",
              "      <td>4.000000</td>\n",
              "      <td>384450.000000</td>\n",
              "    </tr>\n",
              "    <tr>\n",
              "      <th>max</th>\n",
              "      <td>4478.000000</td>\n",
              "      <td>5.000000</td>\n",
              "      <td>699900.000000</td>\n",
              "    </tr>\n",
              "  </tbody>\n",
              "</table>\n",
              "</div>"
            ],
            "text/plain": [
              "              area    bedroom          price\n",
              "count    47.000000  47.000000      47.000000\n",
              "mean   2000.680851   3.170213  340412.659574\n",
              "std     794.702354   0.760982  125039.899586\n",
              "min     852.000000   1.000000  169900.000000\n",
              "25%    1432.000000   3.000000  249900.000000\n",
              "50%    1888.000000   3.000000  299900.000000\n",
              "75%    2269.000000   4.000000  384450.000000\n",
              "max    4478.000000   5.000000  699900.000000"
            ]
          },
          "metadata": {
            "tags": []
          },
          "execution_count": 8
        }
      ]
    },
    {
      "cell_type": "code",
      "metadata": {
        "id": "KvkHseRDB_JM",
        "colab": {
          "base_uri": "https://localhost:8080/",
          "height": 1000
        },
        "outputId": "cfb7b1af-ce23-4b18-9407-948c76c381cb"
      },
      "source": [
        "area_value = dataset.iloc[0:dataset.shape[0],0:1]\n",
        "area_value"
      ],
      "execution_count": 9,
      "outputs": [
        {
          "output_type": "execute_result",
          "data": {
            "text/html": [
              "<div>\n",
              "<style scoped>\n",
              "    .dataframe tbody tr th:only-of-type {\n",
              "        vertical-align: middle;\n",
              "    }\n",
              "\n",
              "    .dataframe tbody tr th {\n",
              "        vertical-align: top;\n",
              "    }\n",
              "\n",
              "    .dataframe thead th {\n",
              "        text-align: right;\n",
              "    }\n",
              "</style>\n",
              "<table border=\"1\" class=\"dataframe\">\n",
              "  <thead>\n",
              "    <tr style=\"text-align: right;\">\n",
              "      <th></th>\n",
              "      <th>area</th>\n",
              "    </tr>\n",
              "  </thead>\n",
              "  <tbody>\n",
              "    <tr>\n",
              "      <th>0</th>\n",
              "      <td>2104</td>\n",
              "    </tr>\n",
              "    <tr>\n",
              "      <th>1</th>\n",
              "      <td>1600</td>\n",
              "    </tr>\n",
              "    <tr>\n",
              "      <th>2</th>\n",
              "      <td>2400</td>\n",
              "    </tr>\n",
              "    <tr>\n",
              "      <th>3</th>\n",
              "      <td>1416</td>\n",
              "    </tr>\n",
              "    <tr>\n",
              "      <th>4</th>\n",
              "      <td>3000</td>\n",
              "    </tr>\n",
              "    <tr>\n",
              "      <th>5</th>\n",
              "      <td>1985</td>\n",
              "    </tr>\n",
              "    <tr>\n",
              "      <th>6</th>\n",
              "      <td>1534</td>\n",
              "    </tr>\n",
              "    <tr>\n",
              "      <th>7</th>\n",
              "      <td>1427</td>\n",
              "    </tr>\n",
              "    <tr>\n",
              "      <th>8</th>\n",
              "      <td>1380</td>\n",
              "    </tr>\n",
              "    <tr>\n",
              "      <th>9</th>\n",
              "      <td>1494</td>\n",
              "    </tr>\n",
              "    <tr>\n",
              "      <th>10</th>\n",
              "      <td>1940</td>\n",
              "    </tr>\n",
              "    <tr>\n",
              "      <th>11</th>\n",
              "      <td>2000</td>\n",
              "    </tr>\n",
              "    <tr>\n",
              "      <th>12</th>\n",
              "      <td>1890</td>\n",
              "    </tr>\n",
              "    <tr>\n",
              "      <th>13</th>\n",
              "      <td>4478</td>\n",
              "    </tr>\n",
              "    <tr>\n",
              "      <th>14</th>\n",
              "      <td>1268</td>\n",
              "    </tr>\n",
              "    <tr>\n",
              "      <th>15</th>\n",
              "      <td>2300</td>\n",
              "    </tr>\n",
              "    <tr>\n",
              "      <th>16</th>\n",
              "      <td>1320</td>\n",
              "    </tr>\n",
              "    <tr>\n",
              "      <th>17</th>\n",
              "      <td>1236</td>\n",
              "    </tr>\n",
              "    <tr>\n",
              "      <th>18</th>\n",
              "      <td>2609</td>\n",
              "    </tr>\n",
              "    <tr>\n",
              "      <th>19</th>\n",
              "      <td>3031</td>\n",
              "    </tr>\n",
              "    <tr>\n",
              "      <th>20</th>\n",
              "      <td>1767</td>\n",
              "    </tr>\n",
              "    <tr>\n",
              "      <th>21</th>\n",
              "      <td>1888</td>\n",
              "    </tr>\n",
              "    <tr>\n",
              "      <th>22</th>\n",
              "      <td>1604</td>\n",
              "    </tr>\n",
              "    <tr>\n",
              "      <th>23</th>\n",
              "      <td>1962</td>\n",
              "    </tr>\n",
              "    <tr>\n",
              "      <th>24</th>\n",
              "      <td>3890</td>\n",
              "    </tr>\n",
              "    <tr>\n",
              "      <th>25</th>\n",
              "      <td>1100</td>\n",
              "    </tr>\n",
              "    <tr>\n",
              "      <th>26</th>\n",
              "      <td>1458</td>\n",
              "    </tr>\n",
              "    <tr>\n",
              "      <th>27</th>\n",
              "      <td>2526</td>\n",
              "    </tr>\n",
              "    <tr>\n",
              "      <th>28</th>\n",
              "      <td>2200</td>\n",
              "    </tr>\n",
              "    <tr>\n",
              "      <th>29</th>\n",
              "      <td>2637</td>\n",
              "    </tr>\n",
              "    <tr>\n",
              "      <th>30</th>\n",
              "      <td>1839</td>\n",
              "    </tr>\n",
              "    <tr>\n",
              "      <th>31</th>\n",
              "      <td>1000</td>\n",
              "    </tr>\n",
              "    <tr>\n",
              "      <th>32</th>\n",
              "      <td>2040</td>\n",
              "    </tr>\n",
              "    <tr>\n",
              "      <th>33</th>\n",
              "      <td>3137</td>\n",
              "    </tr>\n",
              "    <tr>\n",
              "      <th>34</th>\n",
              "      <td>1811</td>\n",
              "    </tr>\n",
              "    <tr>\n",
              "      <th>35</th>\n",
              "      <td>1437</td>\n",
              "    </tr>\n",
              "    <tr>\n",
              "      <th>36</th>\n",
              "      <td>1239</td>\n",
              "    </tr>\n",
              "    <tr>\n",
              "      <th>37</th>\n",
              "      <td>2132</td>\n",
              "    </tr>\n",
              "    <tr>\n",
              "      <th>38</th>\n",
              "      <td>4215</td>\n",
              "    </tr>\n",
              "    <tr>\n",
              "      <th>39</th>\n",
              "      <td>2162</td>\n",
              "    </tr>\n",
              "    <tr>\n",
              "      <th>40</th>\n",
              "      <td>1664</td>\n",
              "    </tr>\n",
              "    <tr>\n",
              "      <th>41</th>\n",
              "      <td>2238</td>\n",
              "    </tr>\n",
              "    <tr>\n",
              "      <th>42</th>\n",
              "      <td>2567</td>\n",
              "    </tr>\n",
              "    <tr>\n",
              "      <th>43</th>\n",
              "      <td>1200</td>\n",
              "    </tr>\n",
              "    <tr>\n",
              "      <th>44</th>\n",
              "      <td>852</td>\n",
              "    </tr>\n",
              "    <tr>\n",
              "      <th>45</th>\n",
              "      <td>1852</td>\n",
              "    </tr>\n",
              "    <tr>\n",
              "      <th>46</th>\n",
              "      <td>1203</td>\n",
              "    </tr>\n",
              "  </tbody>\n",
              "</table>\n",
              "</div>"
            ],
            "text/plain": [
              "    area\n",
              "0   2104\n",
              "1   1600\n",
              "2   2400\n",
              "3   1416\n",
              "4   3000\n",
              "5   1985\n",
              "6   1534\n",
              "7   1427\n",
              "8   1380\n",
              "9   1494\n",
              "10  1940\n",
              "11  2000\n",
              "12  1890\n",
              "13  4478\n",
              "14  1268\n",
              "15  2300\n",
              "16  1320\n",
              "17  1236\n",
              "18  2609\n",
              "19  3031\n",
              "20  1767\n",
              "21  1888\n",
              "22  1604\n",
              "23  1962\n",
              "24  3890\n",
              "25  1100\n",
              "26  1458\n",
              "27  2526\n",
              "28  2200\n",
              "29  2637\n",
              "30  1839\n",
              "31  1000\n",
              "32  2040\n",
              "33  3137\n",
              "34  1811\n",
              "35  1437\n",
              "36  1239\n",
              "37  2132\n",
              "38  4215\n",
              "39  2162\n",
              "40  1664\n",
              "41  2238\n",
              "42  2567\n",
              "43  1200\n",
              "44   852\n",
              "45  1852\n",
              "46  1203"
            ]
          },
          "metadata": {
            "tags": []
          },
          "execution_count": 9
        }
      ]
    },
    {
      "cell_type": "code",
      "metadata": {
        "id": "eqxYo76WEN-2",
        "colab": {
          "base_uri": "https://localhost:8080/",
          "height": 1000
        },
        "outputId": "ead9b45e-266e-4dc6-be34-e65faed548bf"
      },
      "source": [
        "bedroom_value = dataset.iloc[0:dataset.shape[0],1:2]\n",
        "bedroom_value"
      ],
      "execution_count": 10,
      "outputs": [
        {
          "output_type": "execute_result",
          "data": {
            "text/html": [
              "<div>\n",
              "<style scoped>\n",
              "    .dataframe tbody tr th:only-of-type {\n",
              "        vertical-align: middle;\n",
              "    }\n",
              "\n",
              "    .dataframe tbody tr th {\n",
              "        vertical-align: top;\n",
              "    }\n",
              "\n",
              "    .dataframe thead th {\n",
              "        text-align: right;\n",
              "    }\n",
              "</style>\n",
              "<table border=\"1\" class=\"dataframe\">\n",
              "  <thead>\n",
              "    <tr style=\"text-align: right;\">\n",
              "      <th></th>\n",
              "      <th>bedroom</th>\n",
              "    </tr>\n",
              "  </thead>\n",
              "  <tbody>\n",
              "    <tr>\n",
              "      <th>0</th>\n",
              "      <td>3</td>\n",
              "    </tr>\n",
              "    <tr>\n",
              "      <th>1</th>\n",
              "      <td>3</td>\n",
              "    </tr>\n",
              "    <tr>\n",
              "      <th>2</th>\n",
              "      <td>3</td>\n",
              "    </tr>\n",
              "    <tr>\n",
              "      <th>3</th>\n",
              "      <td>2</td>\n",
              "    </tr>\n",
              "    <tr>\n",
              "      <th>4</th>\n",
              "      <td>4</td>\n",
              "    </tr>\n",
              "    <tr>\n",
              "      <th>5</th>\n",
              "      <td>4</td>\n",
              "    </tr>\n",
              "    <tr>\n",
              "      <th>6</th>\n",
              "      <td>3</td>\n",
              "    </tr>\n",
              "    <tr>\n",
              "      <th>7</th>\n",
              "      <td>3</td>\n",
              "    </tr>\n",
              "    <tr>\n",
              "      <th>8</th>\n",
              "      <td>3</td>\n",
              "    </tr>\n",
              "    <tr>\n",
              "      <th>9</th>\n",
              "      <td>3</td>\n",
              "    </tr>\n",
              "    <tr>\n",
              "      <th>10</th>\n",
              "      <td>4</td>\n",
              "    </tr>\n",
              "    <tr>\n",
              "      <th>11</th>\n",
              "      <td>3</td>\n",
              "    </tr>\n",
              "    <tr>\n",
              "      <th>12</th>\n",
              "      <td>3</td>\n",
              "    </tr>\n",
              "    <tr>\n",
              "      <th>13</th>\n",
              "      <td>5</td>\n",
              "    </tr>\n",
              "    <tr>\n",
              "      <th>14</th>\n",
              "      <td>3</td>\n",
              "    </tr>\n",
              "    <tr>\n",
              "      <th>15</th>\n",
              "      <td>4</td>\n",
              "    </tr>\n",
              "    <tr>\n",
              "      <th>16</th>\n",
              "      <td>2</td>\n",
              "    </tr>\n",
              "    <tr>\n",
              "      <th>17</th>\n",
              "      <td>3</td>\n",
              "    </tr>\n",
              "    <tr>\n",
              "      <th>18</th>\n",
              "      <td>4</td>\n",
              "    </tr>\n",
              "    <tr>\n",
              "      <th>19</th>\n",
              "      <td>4</td>\n",
              "    </tr>\n",
              "    <tr>\n",
              "      <th>20</th>\n",
              "      <td>3</td>\n",
              "    </tr>\n",
              "    <tr>\n",
              "      <th>21</th>\n",
              "      <td>2</td>\n",
              "    </tr>\n",
              "    <tr>\n",
              "      <th>22</th>\n",
              "      <td>3</td>\n",
              "    </tr>\n",
              "    <tr>\n",
              "      <th>23</th>\n",
              "      <td>4</td>\n",
              "    </tr>\n",
              "    <tr>\n",
              "      <th>24</th>\n",
              "      <td>3</td>\n",
              "    </tr>\n",
              "    <tr>\n",
              "      <th>25</th>\n",
              "      <td>3</td>\n",
              "    </tr>\n",
              "    <tr>\n",
              "      <th>26</th>\n",
              "      <td>3</td>\n",
              "    </tr>\n",
              "    <tr>\n",
              "      <th>27</th>\n",
              "      <td>3</td>\n",
              "    </tr>\n",
              "    <tr>\n",
              "      <th>28</th>\n",
              "      <td>3</td>\n",
              "    </tr>\n",
              "    <tr>\n",
              "      <th>29</th>\n",
              "      <td>3</td>\n",
              "    </tr>\n",
              "    <tr>\n",
              "      <th>30</th>\n",
              "      <td>2</td>\n",
              "    </tr>\n",
              "    <tr>\n",
              "      <th>31</th>\n",
              "      <td>1</td>\n",
              "    </tr>\n",
              "    <tr>\n",
              "      <th>32</th>\n",
              "      <td>4</td>\n",
              "    </tr>\n",
              "    <tr>\n",
              "      <th>33</th>\n",
              "      <td>3</td>\n",
              "    </tr>\n",
              "    <tr>\n",
              "      <th>34</th>\n",
              "      <td>4</td>\n",
              "    </tr>\n",
              "    <tr>\n",
              "      <th>35</th>\n",
              "      <td>3</td>\n",
              "    </tr>\n",
              "    <tr>\n",
              "      <th>36</th>\n",
              "      <td>3</td>\n",
              "    </tr>\n",
              "    <tr>\n",
              "      <th>37</th>\n",
              "      <td>4</td>\n",
              "    </tr>\n",
              "    <tr>\n",
              "      <th>38</th>\n",
              "      <td>4</td>\n",
              "    </tr>\n",
              "    <tr>\n",
              "      <th>39</th>\n",
              "      <td>4</td>\n",
              "    </tr>\n",
              "    <tr>\n",
              "      <th>40</th>\n",
              "      <td>2</td>\n",
              "    </tr>\n",
              "    <tr>\n",
              "      <th>41</th>\n",
              "      <td>3</td>\n",
              "    </tr>\n",
              "    <tr>\n",
              "      <th>42</th>\n",
              "      <td>4</td>\n",
              "    </tr>\n",
              "    <tr>\n",
              "      <th>43</th>\n",
              "      <td>3</td>\n",
              "    </tr>\n",
              "    <tr>\n",
              "      <th>44</th>\n",
              "      <td>2</td>\n",
              "    </tr>\n",
              "    <tr>\n",
              "      <th>45</th>\n",
              "      <td>4</td>\n",
              "    </tr>\n",
              "    <tr>\n",
              "      <th>46</th>\n",
              "      <td>3</td>\n",
              "    </tr>\n",
              "  </tbody>\n",
              "</table>\n",
              "</div>"
            ],
            "text/plain": [
              "    bedroom\n",
              "0         3\n",
              "1         3\n",
              "2         3\n",
              "3         2\n",
              "4         4\n",
              "5         4\n",
              "6         3\n",
              "7         3\n",
              "8         3\n",
              "9         3\n",
              "10        4\n",
              "11        3\n",
              "12        3\n",
              "13        5\n",
              "14        3\n",
              "15        4\n",
              "16        2\n",
              "17        3\n",
              "18        4\n",
              "19        4\n",
              "20        3\n",
              "21        2\n",
              "22        3\n",
              "23        4\n",
              "24        3\n",
              "25        3\n",
              "26        3\n",
              "27        3\n",
              "28        3\n",
              "29        3\n",
              "30        2\n",
              "31        1\n",
              "32        4\n",
              "33        3\n",
              "34        4\n",
              "35        3\n",
              "36        3\n",
              "37        4\n",
              "38        4\n",
              "39        4\n",
              "40        2\n",
              "41        3\n",
              "42        4\n",
              "43        3\n",
              "44        2\n",
              "45        4\n",
              "46        3"
            ]
          },
          "metadata": {
            "tags": []
          },
          "execution_count": 10
        }
      ]
    },
    {
      "cell_type": "code",
      "metadata": {
        "id": "9gOBv3svGEag",
        "colab": {
          "base_uri": "https://localhost:8080/",
          "height": 1000
        },
        "outputId": "a4df9e9b-8d43-4c86-be92-64d5123355da"
      },
      "source": [
        "price_value = dataset.iloc[0:dataset.shape[0],2:3]\n",
        "price_value"
      ],
      "execution_count": 11,
      "outputs": [
        {
          "output_type": "execute_result",
          "data": {
            "text/html": [
              "<div>\n",
              "<style scoped>\n",
              "    .dataframe tbody tr th:only-of-type {\n",
              "        vertical-align: middle;\n",
              "    }\n",
              "\n",
              "    .dataframe tbody tr th {\n",
              "        vertical-align: top;\n",
              "    }\n",
              "\n",
              "    .dataframe thead th {\n",
              "        text-align: right;\n",
              "    }\n",
              "</style>\n",
              "<table border=\"1\" class=\"dataframe\">\n",
              "  <thead>\n",
              "    <tr style=\"text-align: right;\">\n",
              "      <th></th>\n",
              "      <th>price</th>\n",
              "    </tr>\n",
              "  </thead>\n",
              "  <tbody>\n",
              "    <tr>\n",
              "      <th>0</th>\n",
              "      <td>399900</td>\n",
              "    </tr>\n",
              "    <tr>\n",
              "      <th>1</th>\n",
              "      <td>329900</td>\n",
              "    </tr>\n",
              "    <tr>\n",
              "      <th>2</th>\n",
              "      <td>369000</td>\n",
              "    </tr>\n",
              "    <tr>\n",
              "      <th>3</th>\n",
              "      <td>232000</td>\n",
              "    </tr>\n",
              "    <tr>\n",
              "      <th>4</th>\n",
              "      <td>539900</td>\n",
              "    </tr>\n",
              "    <tr>\n",
              "      <th>5</th>\n",
              "      <td>299900</td>\n",
              "    </tr>\n",
              "    <tr>\n",
              "      <th>6</th>\n",
              "      <td>314900</td>\n",
              "    </tr>\n",
              "    <tr>\n",
              "      <th>7</th>\n",
              "      <td>198999</td>\n",
              "    </tr>\n",
              "    <tr>\n",
              "      <th>8</th>\n",
              "      <td>212000</td>\n",
              "    </tr>\n",
              "    <tr>\n",
              "      <th>9</th>\n",
              "      <td>242500</td>\n",
              "    </tr>\n",
              "    <tr>\n",
              "      <th>10</th>\n",
              "      <td>239999</td>\n",
              "    </tr>\n",
              "    <tr>\n",
              "      <th>11</th>\n",
              "      <td>347000</td>\n",
              "    </tr>\n",
              "    <tr>\n",
              "      <th>12</th>\n",
              "      <td>329999</td>\n",
              "    </tr>\n",
              "    <tr>\n",
              "      <th>13</th>\n",
              "      <td>699900</td>\n",
              "    </tr>\n",
              "    <tr>\n",
              "      <th>14</th>\n",
              "      <td>259900</td>\n",
              "    </tr>\n",
              "    <tr>\n",
              "      <th>15</th>\n",
              "      <td>449900</td>\n",
              "    </tr>\n",
              "    <tr>\n",
              "      <th>16</th>\n",
              "      <td>299900</td>\n",
              "    </tr>\n",
              "    <tr>\n",
              "      <th>17</th>\n",
              "      <td>199900</td>\n",
              "    </tr>\n",
              "    <tr>\n",
              "      <th>18</th>\n",
              "      <td>499998</td>\n",
              "    </tr>\n",
              "    <tr>\n",
              "      <th>19</th>\n",
              "      <td>599000</td>\n",
              "    </tr>\n",
              "    <tr>\n",
              "      <th>20</th>\n",
              "      <td>252900</td>\n",
              "    </tr>\n",
              "    <tr>\n",
              "      <th>21</th>\n",
              "      <td>255000</td>\n",
              "    </tr>\n",
              "    <tr>\n",
              "      <th>22</th>\n",
              "      <td>242900</td>\n",
              "    </tr>\n",
              "    <tr>\n",
              "      <th>23</th>\n",
              "      <td>259900</td>\n",
              "    </tr>\n",
              "    <tr>\n",
              "      <th>24</th>\n",
              "      <td>573900</td>\n",
              "    </tr>\n",
              "    <tr>\n",
              "      <th>25</th>\n",
              "      <td>249900</td>\n",
              "    </tr>\n",
              "    <tr>\n",
              "      <th>26</th>\n",
              "      <td>464500</td>\n",
              "    </tr>\n",
              "    <tr>\n",
              "      <th>27</th>\n",
              "      <td>469000</td>\n",
              "    </tr>\n",
              "    <tr>\n",
              "      <th>28</th>\n",
              "      <td>475000</td>\n",
              "    </tr>\n",
              "    <tr>\n",
              "      <th>29</th>\n",
              "      <td>299900</td>\n",
              "    </tr>\n",
              "    <tr>\n",
              "      <th>30</th>\n",
              "      <td>349900</td>\n",
              "    </tr>\n",
              "    <tr>\n",
              "      <th>31</th>\n",
              "      <td>169900</td>\n",
              "    </tr>\n",
              "    <tr>\n",
              "      <th>32</th>\n",
              "      <td>314900</td>\n",
              "    </tr>\n",
              "    <tr>\n",
              "      <th>33</th>\n",
              "      <td>579900</td>\n",
              "    </tr>\n",
              "    <tr>\n",
              "      <th>34</th>\n",
              "      <td>285900</td>\n",
              "    </tr>\n",
              "    <tr>\n",
              "      <th>35</th>\n",
              "      <td>249900</td>\n",
              "    </tr>\n",
              "    <tr>\n",
              "      <th>36</th>\n",
              "      <td>229900</td>\n",
              "    </tr>\n",
              "    <tr>\n",
              "      <th>37</th>\n",
              "      <td>345000</td>\n",
              "    </tr>\n",
              "    <tr>\n",
              "      <th>38</th>\n",
              "      <td>549000</td>\n",
              "    </tr>\n",
              "    <tr>\n",
              "      <th>39</th>\n",
              "      <td>287000</td>\n",
              "    </tr>\n",
              "    <tr>\n",
              "      <th>40</th>\n",
              "      <td>368500</td>\n",
              "    </tr>\n",
              "    <tr>\n",
              "      <th>41</th>\n",
              "      <td>329900</td>\n",
              "    </tr>\n",
              "    <tr>\n",
              "      <th>42</th>\n",
              "      <td>314000</td>\n",
              "    </tr>\n",
              "    <tr>\n",
              "      <th>43</th>\n",
              "      <td>299000</td>\n",
              "    </tr>\n",
              "    <tr>\n",
              "      <th>44</th>\n",
              "      <td>179900</td>\n",
              "    </tr>\n",
              "    <tr>\n",
              "      <th>45</th>\n",
              "      <td>299900</td>\n",
              "    </tr>\n",
              "    <tr>\n",
              "      <th>46</th>\n",
              "      <td>239500</td>\n",
              "    </tr>\n",
              "  </tbody>\n",
              "</table>\n",
              "</div>"
            ],
            "text/plain": [
              "     price\n",
              "0   399900\n",
              "1   329900\n",
              "2   369000\n",
              "3   232000\n",
              "4   539900\n",
              "5   299900\n",
              "6   314900\n",
              "7   198999\n",
              "8   212000\n",
              "9   242500\n",
              "10  239999\n",
              "11  347000\n",
              "12  329999\n",
              "13  699900\n",
              "14  259900\n",
              "15  449900\n",
              "16  299900\n",
              "17  199900\n",
              "18  499998\n",
              "19  599000\n",
              "20  252900\n",
              "21  255000\n",
              "22  242900\n",
              "23  259900\n",
              "24  573900\n",
              "25  249900\n",
              "26  464500\n",
              "27  469000\n",
              "28  475000\n",
              "29  299900\n",
              "30  349900\n",
              "31  169900\n",
              "32  314900\n",
              "33  579900\n",
              "34  285900\n",
              "35  249900\n",
              "36  229900\n",
              "37  345000\n",
              "38  549000\n",
              "39  287000\n",
              "40  368500\n",
              "41  329900\n",
              "42  314000\n",
              "43  299000\n",
              "44  179900\n",
              "45  299900\n",
              "46  239500"
            ]
          },
          "metadata": {
            "tags": []
          },
          "execution_count": 11
        }
      ]
    },
    {
      "cell_type": "code",
      "metadata": {
        "id": "ALcfFMEOEOu2",
        "colab": {
          "base_uri": "https://localhost:8080/",
          "height": 297
        },
        "outputId": "94dbb019-c81f-4414-c2b3-ddcb92caff96"
      },
      "source": [
        "fig,axes = plt.subplots(figsize=(12,4),nrows=1,ncols=2)\n",
        "axes[0].scatter(area_value,price_value,color='b')\n",
        "axes[0].set_xlabel(\"Size of House\")\n",
        "axes[0].set_ylabel(\"Price of House\")\n",
        "axes[0].set_title(\"Size vs Price\")\n",
        "\n",
        "axes[1].scatter(bedroom_value,price_value,color='r')\n",
        "axes[1].set_xlabel(\"Bedroom in House\")\n",
        "axes[1].set_ylabel(\"Price of House\")\n",
        "axes[1].set_title(\"room vs Price\")\n",
        "\n",
        "plt.tight_layout()"
      ],
      "execution_count": 12,
      "outputs": [
        {
          "output_type": "display_data",
          "data": {
            "image/png": "[encoded data removed]",
            "text/plain": [
              "<Figure size 864x288 with 2 Axes>"
            ]
          },
          "metadata": {
            "tags": [],
            "needs_background": "light"
          }
        }
      ]
    },
    {
      "cell_type": "code",
      "metadata": {
        "id": "a16Ym-lTEPHi"
      },
      "source": [
        "#feature Normalization\n",
        "def feature_normalization(X):\n",
        "    mean = np.mean(X,axis=0)\n",
        "    std = np.std(X,axis=0)\n",
        "    X_norm = (X-mean)/std\n",
        "\n",
        "    return X_norm,mean,std"
      ],
      "execution_count": 13,
      "outputs": []
    },
    {
      "cell_type": "code",
      "metadata": {
        "id": "fqJKypvhklaD",
        "colab": {
          "base_uri": "https://localhost:8080/"
        },
        "outputId": "65d4ce32-a92f-45b7-8d5e-35d0fd9e4fd3"
      },
      "source": [
        "type(dataset)"
      ],
      "execution_count": 14,
      "outputs": [
        {
          "output_type": "execute_result",
          "data": {
            "text/plain": [
              "pandas.core.frame.DataFrame"
            ]
          },
          "metadata": {
            "tags": []
          },
          "execution_count": 14
        }
      ]
    },
    {
      "cell_type": "code",
      "metadata": {
        "id": "3fnp66sMEZwi"
      },
      "source": [
        "data = dataset.values       # dataFrames to array\n",
        "n = len(data[:,-1])\n",
        "X=data[:,0:2].reshape(n,2)\n",
        "X_norm,mean,std = feature_normalization(X)\n"
      ],
      "execution_count": 15,
      "outputs": []
    },
    {
      "cell_type": "code",
      "metadata": {
        "id": "VjneRHspkuS8",
        "colab": {
          "base_uri": "https://localhost:8080/"
        },
        "outputId": "4269ca10-b23c-4d5e-f907-cc306ea67eeb"
      },
      "source": [
        "mean"
      ],
      "execution_count": 16,
      "outputs": [
        {
          "output_type": "execute_result",
          "data": {
            "text/plain": [
              "array([2000.68085106,    3.17021277])"
            ]
          },
          "metadata": {
            "tags": []
          },
          "execution_count": 16
        }
      ]
    },
    {
      "cell_type": "code",
      "metadata": {
        "id": "y3yyNVPBkum0",
        "colab": {
          "base_uri": "https://localhost:8080/"
        },
        "outputId": "d4d51d65-60a8-49d0-9317-7daa69cfd8e3"
      },
      "source": [
        "X_norm"
      ],
      "execution_count": 17,
      "outputs": [
        {
          "output_type": "execute_result",
          "data": {
            "text/plain": [
              "array([[ 1.31415422e-01, -2.26093368e-01],\n",
              "       [-5.09640698e-01, -2.26093368e-01],\n",
              "       [ 5.07908699e-01, -2.26093368e-01],\n",
              "       [-7.43677059e-01, -1.55439190e+00],\n",
              "       [ 1.27107075e+00,  1.10220517e+00],\n",
              "       [-1.99450507e-02,  1.10220517e+00],\n",
              "       [-5.93588523e-01, -2.26093368e-01],\n",
              "       [-7.29685755e-01, -2.26093368e-01],\n",
              "       [-7.89466782e-01, -2.26093368e-01],\n",
              "       [-6.44465993e-01, -2.26093368e-01],\n",
              "       [-7.71822042e-02,  1.10220517e+00],\n",
              "       [-8.65999486e-04, -2.26093368e-01],\n",
              "       [-1.40779041e-01, -2.26093368e-01],\n",
              "       [ 3.15099326e+00,  2.43050370e+00],\n",
              "       [-9.31923697e-01, -2.26093368e-01],\n",
              "       [ 3.80715024e-01,  1.10220517e+00],\n",
              "       [-8.65782986e-01, -1.55439190e+00],\n",
              "       [-9.72625673e-01, -2.26093368e-01],\n",
              "       [ 7.73743478e-01,  1.10220517e+00],\n",
              "       [ 1.31050078e+00,  1.10220517e+00],\n",
              "       [-2.97227261e-01, -2.26093368e-01],\n",
              "       [-1.43322915e-01, -1.55439190e+00],\n",
              "       [-5.04552951e-01, -2.26093368e-01],\n",
              "       [-4.91995958e-02,  1.10220517e+00],\n",
              "       [ 2.40309445e+00, -2.26093368e-01],\n",
              "       [-1.14560907e+00, -2.26093368e-01],\n",
              "       [-6.90255715e-01, -2.26093368e-01],\n",
              "       [ 6.68172729e-01, -2.26093368e-01],\n",
              "       [ 2.53521350e-01, -2.26093368e-01],\n",
              "       [ 8.09357707e-01, -2.26093368e-01],\n",
              "       [-2.05647815e-01, -1.55439190e+00],\n",
              "       [-1.27280274e+00, -2.88269044e+00],\n",
              "       [ 5.00114703e-02,  1.10220517e+00],\n",
              "       [ 1.44532608e+00, -2.26093368e-01],\n",
              "       [-2.41262044e-01,  1.10220517e+00],\n",
              "       [-7.16966387e-01, -2.26093368e-01],\n",
              "       [-9.68809863e-01, -2.26093368e-01],\n",
              "       [ 1.67029651e-01,  1.10220517e+00],\n",
              "       [ 2.81647389e+00,  1.10220517e+00],\n",
              "       [ 2.05187753e-01,  1.10220517e+00],\n",
              "       [-4.28236746e-01, -1.55439190e+00],\n",
              "       [ 3.01854946e-01, -2.26093368e-01],\n",
              "       [ 7.20322135e-01,  1.10220517e+00],\n",
              "       [-1.01841540e+00, -2.26093368e-01],\n",
              "       [-1.46104938e+00, -1.55439190e+00],\n",
              "       [-1.89112638e-01,  1.10220517e+00],\n",
              "       [-1.01459959e+00, -2.26093368e-01]])"
            ]
          },
          "metadata": {
            "tags": []
          },
          "execution_count": 17
        }
      ]
    },
    {
      "cell_type": "code",
      "metadata": {
        "id": "2K5iFlrsku53",
        "colab": {
          "base_uri": "https://localhost:8080/"
        },
        "outputId": "d5dbcdc0-73e7-4967-cd13-5c6ff9dc6816"
      },
      "source": [
        "Y = data[:,-1].reshape(n,1)\n",
        "Y"
      ],
      "execution_count": 18,
      "outputs": [
        {
          "output_type": "execute_result",
          "data": {
            "text/plain": [
              "array([[399900],\n",
              "       [329900],\n",
              "       [369000],\n",
              "       [232000],\n",
              "       [539900],\n",
              "       [299900],\n",
              "       [314900],\n",
              "       [198999],\n",
              "       [212000],\n",
              "       [242500],\n",
              "       [239999],\n",
              "       [347000],\n",
              "       [329999],\n",
              "       [699900],\n",
              "       [259900],\n",
              "       [449900],\n",
              "       [299900],\n",
              "       [199900],\n",
              "       [499998],\n",
              "       [599000],\n",
              "       [252900],\n",
              "       [255000],\n",
              "       [242900],\n",
              "       [259900],\n",
              "       [573900],\n",
              "       [249900],\n",
              "       [464500],\n",
              "       [469000],\n",
              "       [475000],\n",
              "       [299900],\n",
              "       [349900],\n",
              "       [169900],\n",
              "       [314900],\n",
              "       [579900],\n",
              "       [285900],\n",
              "       [249900],\n",
              "       [229900],\n",
              "       [345000],\n",
              "       [549000],\n",
              "       [287000],\n",
              "       [368500],\n",
              "       [329900],\n",
              "       [314000],\n",
              "       [299000],\n",
              "       [179900],\n",
              "       [299900],\n",
              "       [239500]])"
            ]
          },
          "metadata": {
            "tags": []
          },
          "execution_count": 18
        }
      ]
    },
    {
      "cell_type": "code",
      "metadata": {
        "id": "cb-Z4COcEakz",
        "colab": {
          "base_uri": "https://localhost:8080/"
        },
        "outputId": "80243ef3-dae8-4e95-a179-a6e98874811c"
      },
      "source": [
        "theta_array = np.zeros((3,1))\n",
        "theta_array"
      ],
      "execution_count": 19,
      "outputs": [
        {
          "output_type": "execute_result",
          "data": {
            "text/plain": [
              "array([[0.],\n",
              "       [0.],\n",
              "       [0.]])"
            ]
          },
          "metadata": {
            "tags": []
          },
          "execution_count": 19
        }
      ]
    },
    {
      "cell_type": "code",
      "metadata": {
        "id": "yqVe5jgy_Gsr"
      },
      "source": [
        "#defining the Hypothesis    : H(x) = theta0 + theta1*x1 + theta2*x2\n",
        "\n",
        "def hypothesis(theta_array,x1,x2):      #theta_array = [theta_array[0],theta_array[1],theta_array[2]]\n",
        "    return theta_array[0]+(theta_array[1]*x1)+(theta_array[2]*x2)"
      ],
      "execution_count": 20,
      "outputs": []
    },
    {
      "cell_type": "code",
      "metadata": {
        "id": "cNbmXMjx_yaA"
      },
      "source": [
        "def cost_function(theta_array,x1,x2,y,m):   #x and y are list of observation.\n",
        "    total_error = 0     #accumulate all the error\n",
        "    for i in range(m):\n",
        "        total_error+=(theta_array[0]+theta_array[1]*x1[i]+theta_array[2]*x2[i] - y[i])**2\n",
        "\n",
        "    return total_error/(2*m)"
      ],
      "execution_count": 21,
      "outputs": []
    },
    {
      "cell_type": "code",
      "metadata": {
        "id": "twmnzGfR__Q6"
      },
      "source": [
        "def gradient_descent(theta_array,x1,x2,y,alpha,m):\n",
        "    summation_theta0 = 0\n",
        "    summation_theta1 = 0\n",
        "    summation_theta2 = 0\n",
        "\n",
        "    for i in range(m):\n",
        "        summation_theta0+=((theta_array[0]+theta_array[1]*x1[i]+theta_array[2]*x2[i]) - y[i])\n",
        "        summation_theta1+=(((theta_array[0]+theta_array[1]*x1[i]+theta_array[2]*x2[i]) - y[i])*x1[i])\n",
        "        summation_theta1+=(((theta_array[0]+theta_array[1]*x1[i]+theta_array[2]*x2[i]) - y[i])*x2[i])\n",
        "\n",
        "    new_theta0 = theta_array[0]-alpha*(summation_theta0/m)\n",
        "    new_theta1 = theta_array[1]-alpha*(summation_theta1/m)\n",
        "    new_theta2 = theta_array[2]-alpha*(summation_theta2/m)\n",
        "\n",
        "    updated_theta_array = [new_theta0,new_theta1,new_theta2]\n",
        "    #print(updated_theta_array)\n",
        "    return updated_theta_array"
      ],
      "execution_count": 26,
      "outputs": []
    },
    {
      "cell_type": "code",
      "metadata": {
        "id": "qmmmkYHFAwz2"
      },
      "source": [
        "def training(x1,x2,y,alpha,iters):\n",
        "    theta_0 = 0\n",
        "    theta_1 = 0\n",
        "    theta_2 = 0\n",
        "    theta_array = [theta_0,theta_1,theta_2]\n",
        "\n",
        "    m=x1.size                #size of the data set or the number of observation\n",
        "    cost_function_values = []\n",
        "    for i in range(iters):\n",
        "        theta_array = gradient_descent(theta_array,x1,x2,y,alpha,m)     #taking the new theta's\n",
        "        cost_function_values.append(cost_function(theta_array,x1,x2,y,m))   #taking all the cost function values and storing\n",
        "        if(i%20==0):\n",
        "            y_new=x2*theta_array[2]+x1*theta_array[1]+theta_array[0]       #linear regression line\n",
        "            plt.plot(x1,y_new,'r')\n",
        "            plt.scatter(x1,y)\n",
        "            plt.show()\n",
        "\n",
        "    x=np.arange(0,len(cost_function_values),step=1)\n",
        "    plt.plot(x,cost_function_values,\"-b\")\n",
        "    plt.xlabel(\"number of iteration\")\n",
        "    plt.ylabel(\"Cost/loss values\")\n",
        "    plt.title(\"cost Function curve\")\n",
        "    plt.show()\n",
        "\n",
        "    return theta_array"
      ],
      "execution_count": 27,
      "outputs": []
    },
    {
      "cell_type": "code",
      "metadata": {
        "id": "lA57FZnYBw0M"
      },
      "source": [
        "X_norm"
      ],
      "execution_count": null,
      "outputs": []
    },
    {
      "cell_type": "code",
      "metadata": {
        "colab": {
          "base_uri": "https://localhost:8080/",
          "height": 1000
        },
        "id": "jRw1SawEljDT",
        "outputId": "86162b2a-f0bc-41a4-a325-f4207e2ded90"
      },
      "source": [
        "theta_array = training(X_norm[:,0:1],X_norm[:,1:2],Y,0.01,500)"
      ],
      "execution_count": 28,
      "outputs": [
        {
          "output_type": "display_data",
          "data": {
            "image/png": "[encoded data removed]",
            "text/plain": [
              "<Figure size 432x288 with 1 Axes>"
            ]
          },
          "metadata": {
            "tags": [],
            "needs_background": "light"
          }
        },
        {
          "output_type": "display_data",
          "data": {
            "image/png": "[encoded data removed]",
            "text/plain": [
              "<Figure size 432x288 with 1 Axes>"
            ]
          },
          "metadata": {
            "tags": [],
            "needs_background": "light"
          }
        },
        {
          "output_type": "display_data",
          "data": {
            "image/png": "[encoded data removed]",
            "text/plain": [
              "<Figure size 432x288 with 1 Axes>"
            ]
          },
          "metadata": {
            "tags": [],
            "needs_background": "light"
          }
        },
        {
          "output_type": "display_data",
          "data": {
            "image/png": "[encoded data removed]",
            "text/plain": [
              "<Figure size 432x288 with 1 Axes>"
            ]
          },
          "metadata": {
            "tags": [],
            "needs_background": "light"
          }
        },
        {
          "output_type": "display_data",
          "data": {
            "image/png": "[encoded data removed]",
            "text/plain": [
              "<Figure size 432x288 with 1 Axes>"
            ]
          },
          "metadata": {
            "tags": [],
            "needs_background": "light"
          }
        },
        {
          "output_type": "display_data",
          "data": {
            "image/png": "[encoded data removed]",
            "text/plain": [
              "<Figure size 432x288 with 1 Axes>"
            ]
          },
          "metadata": {
            "tags": [],
            "needs_background": "light"
          }
        },
        {
          "output_type": "display_data",
          "data": {
            "image/png": "[encoded data removed]",
            "text/plain": [
              "<Figure size 432x288 with 1 Axes>"
            ]
          },
          "metadata": {
            "tags": [],
            "needs_background": "light"
          }
        },
        {
          "output_type": "display_data",
          "data": {
            "image/png": "[encoded data removed]",
            "text/plain": [
              "<Figure size 432x288 with 1 Axes>"
            ]
          },
          "metadata": {
            "tags": [],
            "needs_background": "light"
          }
        },
        {
          "output_type": "display_data",
          "data": {
            "image/png": "[encoded data removed]",
            "text/plain": [
              "<Figure size 432x288 with 1 Axes>"
            ]
          },
          "metadata": {
            "tags": [],
            "needs_background": "light"
          }
        },
        {
          "output_type": "display_data",
          "data": {
            "image/png": "[encoded data removed]",
            "text/plain": [
              "<Figure size 432x288 with 1 Axes>"
            ]
          },
          "metadata": {
            "tags": [],
            "needs_background": "light"
          }
        },
        {
          "output_type": "display_data",
          "data": {
            "image/png": "[encoded data removed]",
            "text/plain": [
              "<Figure size 432x288 with 1 Axes>"
            ]
          },
          "metadata": {
            "tags": [],
            "needs_background": "light"
          }
        },
        {
          "output_type": "display_data",
          "data": {
            "image/png": "[encoded data removed]",
            "text/plain": [
              "<Figure size 432x288 with 1 Axes>"
            ]
          },
          "metadata": {
            "tags": [],
            "needs_background": "light"
          }
        },
        {
          "output_type": "display_data",
          "data": {
            "image/png": "[encoded data removed]",
            "text/plain": [
              "<Figure size 432x288 with 1 Axes>"
            ]
          },
          "metadata": {
            "tags": [],
            "needs_background": "light"
          }
        },
        {
          "output_type": "display_data",
          "data": {
            "image/png": "[encoded data removed]",
            "text/plain": [
              "<Figure size 432x288 with 1 Axes>"
            ]
          },
          "metadata": {
            "tags": [],
            "needs_background": "light"
          }
        },
        {
          "output_type": "display_data",
          "data": {
            "image/png": "[encoded data removed]",
            "text/plain": [
              "<Figure size 432x288 with 1 Axes>"
            ]
          },
          "metadata": {
            "tags": [],
            "needs_background": "light"
          }
        },
        {
          "output_type": "display_data",
          "data": {
            "image/png": "[encoded data removed]",
            "text/plain": [
              "<Figure size 432x288 with 1 Axes>"
            ]
          },
          "metadata": {
            "tags": [],
            "needs_background": "light"
          }
        },
        {
          "output_type": "display_data",
          "data": {
            "image/png": "[encoded data removed]",
            "text/plain": [
              "<Figure size 432x288 with 1 Axes>"
            ]
          },
          "metadata": {
            "tags": [],
            "needs_background": "light"
          }
        },
        {
          "output_type": "display_data",
          "data": {
            "image/png": "[encoded data removed]",
            "text/plain": [
              "<Figure size 432x288 with 1 Axes>"
            ]
          },
          "metadata": {
            "tags": [],
            "needs_background": "light"
          }
        },
        {
          "output_type": "display_data",
          "data": {
            "image/png": "[encoded data removed]",
            "text/plain": [
              "<Figure size 432x288 with 1 Axes>"
            ]
          },
          "metadata": {
            "tags": [],
            "needs_background": "light"
          }
        },
        {
          "output_type": "display_data",
          "data": {
            "image/png": "[encoded data removed]",
            "text/plain": [
              "<Figure size 432x288 with 1 Axes>"
            ]
          },
          "metadata": {
            "tags": [],
            "needs_background": "light"
          }
        },
        {
          "output_type": "display_data",
          "data": {
            "image/png": "[encoded data removed]",
            "text/plain": [
              "<Figure size 432x288 with 1 Axes>"
            ]
          },
          "metadata": {
            "tags": [],
            "needs_background": "light"
          }
        },
        {
          "output_type": "display_data",
          "data": {
            "image/png": "[encoded data removed]",
            "text/plain": [
              "<Figure size 432x288 with 1 Axes>"
            ]
          },
          "metadata": {
            "tags": [],
            "needs_background": "light"
          }
        },
        {
          "output_type": "display_data",
          "data": {
            "image/png": "[encoded data removed]",
            "text/plain": [
              "<Figure size 432x288 with 1 Axes>"
            ]
          },
          "metadata": {
            "tags": [],
            "needs_background": "light"
          }
        },
        {
          "output_type": "display_data",
          "data": {
            "image/png": "[encoded data removed]",
            "text/plain": [
              "<Figure size 432x288 with 1 Axes>"
            ]
          },
          "metadata": {
            "tags": [],
            "needs_background": "light"
          }
        },
        {
          "output_type": "display_data",
          "data": {
            "image/png": "[encoded data removed]",
            "text/plain": [
              "<Figure size 432x288 with 1 Axes>"
            ]
          },
          "metadata": {
            "tags": [],
            "needs_background": "light"
          }
        },
        {
          "output_type": "display_data",
          "data": {
            "image/png": "[encoded data removed]",
            "text/plain": [
              "<Figure size 432x288 with 1 Axes>"
            ]
          },
          "metadata": {
            "tags": [],
            "needs_background": "light"
          }
        }
      ]
    }
  ]
}