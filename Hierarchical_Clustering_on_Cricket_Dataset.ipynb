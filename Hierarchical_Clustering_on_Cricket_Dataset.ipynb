{
  "nbformat": 4,
  "nbformat_minor": 0,
  "metadata": {
    "colab": {
      "name": "Hierarchical Clustering on Cricket Dataset.ipynb",
      "provenance": [],
      "collapsed_sections": [],
      "authorship_tag": "ABX9TyMVkLi2C+YvqpVLFECbSzKN",
      "include_colab_link": true
    },
    "kernelspec": {
      "name": "python3",
      "display_name": "Python 3"
    },
    "language_info": {
      "name": "python"
    }
  },
  "cells": [
    {
      "cell_type": "markdown",
      "metadata": {
        "id": "view-in-github",
        "colab_type": "text"
      },
      "source": [
        "<a href=\"https://colab.research.google.com/github/yash-3/machine-learning/blob/main/Hierarchical_Clustering_on_Cricket_Dataset.ipynb\" target=\"_parent\"><img src=\"https://colab.research.google.com/assets/colab-badge.svg\" alt=\"Open In Colab\"/></a>"
      ]
    },
    {
      "cell_type": "markdown",
      "metadata": {
        "id": "Ux0xunF2ewkZ"
      },
      "source": [
        "**Task:** Perform Hierarchical Clustering over Cricket dataset and compare with K-Means results.."
      ]
    },
    {
      "cell_type": "code",
      "metadata": {
        "id": "Pm64WnPqpLD-"
      },
      "source": [
        "import numpy as np      #To Prform Numerical Operation\n",
        "import matplotlib.pyplot as plt   #plot something \n",
        "import pandas as pd     #To Play With Dataset"
      ],
      "execution_count": 1,
      "outputs": []
    },
    {
      "cell_type": "code",
      "metadata": {
        "id": "pGdrLDT5sU05"
      },
      "source": [
        "from google.colab import drive  #import gogle drive data"
      ],
      "execution_count": 2,
      "outputs": []
    },
    {
      "cell_type": "code",
      "metadata": {
        "id": "8pQmOZgkspai",
        "colab": {
          "base_uri": "https://localhost:8080/"
        },
        "outputId": "afa1f954-c211-4614-ec73-8653e8f43c11"
      },
      "source": [
        "drive.mount('/content/drive') # mount drive data into colab cloud and enter authentication code"
      ],
      "execution_count": 3,
      "outputs": [
        {
          "output_type": "stream",
          "text": [
            "Drive already mounted at /content/drive; to attempt to forcibly remount, call drive.mount(\"/content/drive\", force_remount=True).\n"
          ],
          "name": "stdout"
        }
      ]
    },
    {
      "cell_type": "code",
      "metadata": {
        "colab": {
          "base_uri": "https://localhost:8080/"
        },
        "id": "MiNMSDTJtNG4",
        "outputId": "1215fe47-ca31-4871-9108-cb03fa3c82a5"
      },
      "source": [
        "cd /content/drive/\"My Drive/Colab Notebooks/Dataset Files\"  "
      ],
      "execution_count": 4,
      "outputs": [
        {
          "output_type": "stream",
          "text": [
            "/content/drive/My Drive/Colab Notebooks/Dataset Files\n"
          ],
          "name": "stdout"
        }
      ]
    },
    {
      "cell_type": "code",
      "metadata": {
        "id": "ToJimHbdthWj",
        "colab": {
          "base_uri": "https://localhost:8080/"
        },
        "outputId": "580c50ac-5af5-4440-9619-5aa4ce414034"
      },
      "source": [
        "dataset=pd.read_csv(\"most_runs_average_strikerate.csv\")\n",
        "print(dataset.head())\n",
        "dataset.shape"
      ],
      "execution_count": 5,
      "outputs": [
        {
          "output_type": "stream",
          "text": [
            "     batsman  total_runs  out  numberofballs    average  strikerate\n",
            "0    V Kohli        5426  152           4111  35.697368  131.987351\n",
            "1   SK Raina        5386  160           3916  33.662500  137.538304\n",
            "2  RG Sharma        4902  161           3742  30.447205  130.999466\n",
            "3  DA Warner        4717  114           3292  41.377193  143.286756\n",
            "4   S Dhawan        4601  137           3665  33.583942  125.538881\n"
          ],
          "name": "stdout"
        },
        {
          "output_type": "execute_result",
          "data": {
            "text/plain": [
              "(516, 6)"
            ]
          },
          "metadata": {
            "tags": []
          },
          "execution_count": 5
        }
      ]
    },
    {
      "cell_type": "code",
      "metadata": {
        "id": "Ctw4uRBIam1X"
      },
      "source": [
        "# Remove null values from dataset\n",
        "dataset= dataset.dropna()"
      ],
      "execution_count": 6,
      "outputs": []
    },
    {
      "cell_type": "code",
      "metadata": {
        "id": "p__ERS3i6Jal",
        "colab": {
          "base_uri": "https://localhost:8080/"
        },
        "outputId": "da393a2c-6aa3-485e-b2ae-73eb093725af"
      },
      "source": [
        "# select Total_runs and Average from given features\n",
        "X= dataset.iloc[:,[1,4]].values\n",
        "X.shape"
      ],
      "execution_count": 7,
      "outputs": [
        {
          "output_type": "execute_result",
          "data": {
            "text/plain": [
              "(482, 2)"
            ]
          },
          "metadata": {
            "tags": []
          },
          "execution_count": 7
        }
      ]
    },
    {
      "cell_type": "markdown",
      "metadata": {
        "id": "ICV7vQ0j0SWQ"
      },
      "source": [
        "**Implement Hierarchical Clustering**"
      ]
    },
    {
      "cell_type": "code",
      "metadata": {
        "id": "j9QvqWRe6iup"
      },
      "source": [
        "import scipy.cluster.hierarchy as sch"
      ],
      "execution_count": 8,
      "outputs": []
    },
    {
      "cell_type": "code",
      "metadata": {
        "colab": {
          "base_uri": "https://localhost:8080/",
          "height": 265
        },
        "id": "oQGCJ6Ji6i9N",
        "outputId": "45f8053d-7571-44f5-8e70-5518212e1776"
      },
      "source": [
        "# create dendrogram \n",
        "dendrogram = sch.dendrogram(sch.linkage(X,method='ward'))"
      ],
      "execution_count": 9,
      "outputs": [
        {
          "output_type": "display_data",
          "data": {
            "image/png": "[encoded data removed]",
            "text/plain": [
              "<Figure size 432x288 with 1 Axes>"
            ]
          },
          "metadata": {
            "tags": [],
            "needs_background": "light"
          }
        }
      ]
    },
    {
      "cell_type": "code",
      "metadata": {
        "id": "zbiWAmiX6jJR"
      },
      "source": [
        "# Bottom to Top Approach in AgglomerativeClustering\n",
        "from sklearn.cluster import AgglomerativeClustering"
      ],
      "execution_count": 10,
      "outputs": []
    },
    {
      "cell_type": "code",
      "metadata": {
        "id": "GCqtIDef6kKB"
      },
      "source": [
        "hc = AgglomerativeClustering(distance_threshold=None,n_clusters=4,affinity='euclidean',linkage='ward')"
      ],
      "execution_count": 11,
      "outputs": []
    },
    {
      "cell_type": "code",
      "metadata": {
        "id": "Iy9xx2uK_CEC"
      },
      "source": [
        "y_hc = hc.fit_predict(X)"
      ],
      "execution_count": 12,
      "outputs": []
    },
    {
      "cell_type": "code",
      "metadata": {
        "colab": {
          "base_uri": "https://localhost:8080/"
        },
        "id": "KpqtyJVh_J3P",
        "outputId": "fad7a87e-c1f7-493b-d3db-daa888d4c429"
      },
      "source": [
        "y_hc"
      ],
      "execution_count": 13,
      "outputs": [
        {
          "output_type": "execute_result",
          "data": {
            "text/plain": [
              "array([3, 3, 3, 3, 3, 3, 3, 3, 3, 3, 1, 1, 1, 1, 1, 1, 1, 1, 1, 1, 1, 1,\n",
              "       1, 1, 1, 1, 2, 2, 2, 2, 2, 2, 2, 2, 2, 2, 2, 2, 2, 2, 2, 2, 2, 2,\n",
              "       2, 2, 2, 2, 2, 2, 2, 2, 2, 2, 2, 2, 2, 2, 2, 2, 2, 2, 2, 2, 2, 2,\n",
              "       2, 2, 2, 2, 2, 2, 2, 2, 2, 0, 0, 0, 0, 0, 0, 0, 0, 0, 0, 0, 0, 0,\n",
              "       0, 0, 0, 0, 0, 0, 0, 0, 0, 0, 0, 0, 0, 0, 0, 0, 0, 0, 0, 0, 0, 0,\n",
              "       0, 0, 0, 0, 0, 0, 0, 0, 0, 0, 0, 0, 0, 0, 0, 0, 0, 0, 0, 0, 0, 0,\n",
              "       0, 0, 0, 0, 0, 0, 0, 0, 0, 0, 0, 0, 0, 0, 0, 0, 0, 0, 0, 0, 0, 0,\n",
              "       0, 0, 0, 0, 0, 0, 0, 0, 0, 0, 0, 0, 0, 0, 0, 0, 0, 0, 0, 0, 0, 0,\n",
              "       0, 0, 0, 0, 0, 0, 0, 0, 0, 0, 0, 0, 0, 0, 0, 0, 0, 0, 0, 0, 0, 0,\n",
              "       0, 0, 0, 0, 0, 0, 0, 0, 0, 0, 0, 0, 0, 0, 0, 0, 0, 0, 0, 0, 0, 0,\n",
              "       0, 0, 0, 0, 0, 0, 0, 0, 0, 0, 0, 0, 0, 0, 0, 0, 0, 0, 0, 0, 0, 0,\n",
              "       0, 0, 0, 0, 0, 0, 0, 0, 0, 0, 0, 0, 0, 0, 0, 0, 0, 0, 0, 0, 0, 0,\n",
              "       0, 0, 0, 0, 0, 0, 0, 0, 0, 0, 0, 0, 0, 0, 0, 0, 0, 0, 0, 0, 0, 0,\n",
              "       0, 0, 0, 0, 0, 0, 0, 0, 0, 0, 0, 0, 0, 0, 0, 0, 0, 0, 0, 0, 0, 0,\n",
              "       0, 0, 0, 0, 0, 0, 0, 0, 0, 0, 0, 0, 0, 0, 0, 0, 0, 0, 0, 0, 0, 0,\n",
              "       0, 0, 0, 0, 0, 0, 0, 0, 0, 0, 0, 0, 0, 0, 0, 0, 0, 0, 0, 0, 0, 0,\n",
              "       0, 0, 0, 0, 0, 0, 0, 0, 0, 0, 0, 0, 0, 0, 0, 0, 0, 0, 0, 0, 0, 0,\n",
              "       0, 0, 0, 0, 0, 0, 0, 0, 0, 0, 0, 0, 0, 0, 0, 0, 0, 0, 0, 0, 0, 0,\n",
              "       0, 0, 0, 0, 0, 0, 0, 0, 0, 0, 0, 0, 0, 0, 0, 0, 0, 0, 0, 0, 0, 0,\n",
              "       0, 0, 0, 0, 0, 0, 0, 0, 0, 0, 0, 0, 0, 0, 0, 0, 0, 0, 0, 0, 0, 0,\n",
              "       0, 0, 0, 0, 0, 0, 0, 0, 0, 0, 0, 0, 0, 0, 0, 0, 0, 0, 0, 0, 0, 0,\n",
              "       0, 0, 0, 0, 0, 0, 0, 0, 0, 0, 0, 0, 0, 0, 0, 0, 0, 0, 0, 0])"
            ]
          },
          "metadata": {
            "tags": []
          },
          "execution_count": 13
        }
      ]
    },
    {
      "cell_type": "code",
      "metadata": {
        "colab": {
          "base_uri": "https://localhost:8080/",
          "height": 312
        },
        "id": "SdXe3_ui_SKS",
        "outputId": "02f102b0-e1ca-412a-d390-88897867a2f6"
      },
      "source": [
        "# visualize the cluster\n",
        "plt.scatter(X[y_hc==0,0],X[y_hc==0,1],s=50,c='blue',label='Cluster 1')\n",
        "plt.scatter(X[y_hc==1,0],X[y_hc==1,1],s=50,c='y',label='Cluster 2')\n",
        "plt.scatter(X[y_hc==2,0],X[y_hc==2,1],s=50,c='r',label='Cluster 3')\n",
        "plt.scatter(X[y_hc==3,0],X[y_hc==3,1],s=50,c='green',label='Cluster 4')\n",
        "\n",
        "plt.title('Hierarchical Clustering')\n",
        "plt.xlabel('Total Runs')\n",
        "plt.ylabel('Average')\n",
        "plt.legend()"
      ],
      "execution_count": 14,
      "outputs": [
        {
          "output_type": "execute_result",
          "data": {
            "text/plain": [
              "<matplotlib.legend.Legend at 0x7fbb01137d50>"
            ]
          },
          "metadata": {
            "tags": []
          },
          "execution_count": 14
        },
        {
          "output_type": "display_data",
          "data": {
            "image/png": "[encoded data removed]",
            "text/plain": [
              "<Figure size 432x288 with 1 Axes>"
            ]
          },
          "metadata": {
            "tags": [],
            "needs_background": "light"
          }
        }
      ]
    },
    {
      "cell_type": "code",
      "metadata": {
        "id": "mmjVCEkvg5uw"
      },
      "source": [
        ""
      ],
      "execution_count": 14,
      "outputs": []
    },
    {
      "cell_type": "markdown",
      "metadata": {
        "id": "X9iue9W3gW6l"
      },
      "source": [
        "**Implement K-means on same dataset**"
      ]
    },
    {
      "cell_type": "code",
      "metadata": {
        "id": "9CxOC0T8_TaL"
      },
      "source": [
        "from sklearn.cluster import KMeans"
      ],
      "execution_count": 15,
      "outputs": []
    },
    {
      "cell_type": "code",
      "metadata": {
        "colab": {
          "base_uri": "https://localhost:8080/",
          "height": 295
        },
        "id": "ZEDXu3oT_UT5",
        "outputId": "341145fb-ceb2-4257-96c7-3966d87794cf"
      },
      "source": [
        "wcss=[]     # within cluster sum of squares\n",
        "for i in range(1,10):\n",
        "    kmeans=KMeans(n_clusters=i,init='k-means++',random_state=0)\n",
        "    kmeans.fit(X)\n",
        "    wcss.append(kmeans.inertia_)\n",
        "plt.plot(range(1,10),wcss)\n",
        "plt.title('KMeans Elbow graph')\n",
        "plt.xlabel('No. of cluster')\n",
        "plt.ylabel('WCSS')\n",
        "plt.show()"
      ],
      "execution_count": 16,
      "outputs": [
        {
          "output_type": "display_data",
          "data": {
            "image/png": "[encoded data removed]",
            "text/plain": [
              "<Figure size 432x288 with 1 Axes>"
            ]
          },
          "metadata": {
            "tags": [],
            "needs_background": "light"
          }
        }
      ]
    },
    {
      "cell_type": "code",
      "metadata": {
        "id": "U5iaT1NbDXVf"
      },
      "source": [
        "kmeans=KMeans(n_clusters=4,init='k-means++',random_state=0) \n",
        "y_kmeans=kmeans.fit_predict(X)"
      ],
      "execution_count": 17,
      "outputs": []
    },
    {
      "cell_type": "code",
      "metadata": {
        "colab": {
          "base_uri": "https://localhost:8080/",
          "height": 312
        },
        "id": "ntJCkZUlD6xv",
        "outputId": "2d831c71-adc9-4937-f0e0-c869d500f565"
      },
      "source": [
        "#Visualiz the Cluster\n",
        "plt.scatter(X[y_kmeans==0,0],X[y_kmeans==0,1],s=50,c='red',label='Cluser 1')\n",
        "plt.scatter(X[y_kmeans==1,0],X[y_kmeans==1,1],s=50,c='blue',label='Cluser 2')\n",
        "plt.scatter(X[y_kmeans==2,0],X[y_kmeans==2,1],s=50,c='green',label='Cluser 3')\n",
        "plt.scatter(X[y_kmeans==3,0],X[y_kmeans==3,1],s=50,c='yellow',label='Cluser 4')\n",
        "plt.scatter(kmeans.cluster_centers_[:, 0], kmeans.cluster_centers_[:, 1], s = 200, c = 'black', label = 'Centroids')\n",
        "\n",
        "plt.title('Hierarchical Clustering')\n",
        "plt.xlabel('Total Runs')\n",
        "plt.ylabel('Average')\n",
        "plt.legend()"
      ],
      "execution_count": 18,
      "outputs": [
        {
          "output_type": "execute_result",
          "data": {
            "text/plain": [
              "<matplotlib.legend.Legend at 0x7fbb01050190>"
            ]
          },
          "metadata": {
            "tags": []
          },
          "execution_count": 18
        },
        {
          "output_type": "display_data",
          "data": {
            "image/png": "[encoded data removed]",
            "text/plain": [
              "<Figure size 432x288 with 1 Axes>"
            ]
          },
          "metadata": {
            "tags": [],
            "needs_background": "light"
          }
        }
      ]
    }
  ]
}