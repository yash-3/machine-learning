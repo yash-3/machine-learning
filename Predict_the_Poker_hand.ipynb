{
  "nbformat": 4,
  "nbformat_minor": 0,
  "metadata": {
    "colab": {
      "name": "Predict_the_Poker_hand.ipynb",
      "provenance": [],
      "collapsed_sections": [],
      "authorship_tag": "ABX9TyO2Nt/YqX3cnfZ2JaBvprnB",
      "include_colab_link": true
    },
    "kernelspec": {
      "name": "python3",
      "display_name": "Python 3"
    },
    "language_info": {
      "name": "python"
    }
  },
  "cells": [
    {
      "cell_type": "markdown",
      "metadata": {
        "id": "view-in-github",
        "colab_type": "text"
      },
      "source": [
        "<a href=\"https://colab.research.google.com/github/yash-3/machine-learning/blob/main/Predict_the_Poker_hand.ipynb\" target=\"_parent\"><img src=\"https://colab.research.google.com/assets/colab-badge.svg\" alt=\"Open In Colab\"/></a>"
      ]
    },
    {
      "cell_type": "code",
      "metadata": {
        "id": "Pm64WnPqpLD-"
      },
      "source": [
        "import numpy as np      #To Prform Numerical Operation\n",
        "import matplotlib.pyplot as plt   #plot something \n",
        "import pandas as pd     #To Play With Dataset\n",
        "from sklearn.model_selection import train_test_split\n",
        "from sklearn.metrics import accuracy_score, classification_report, confusion_matrix, auc, roc_curve"
      ],
      "execution_count": 1,
      "outputs": []
    },
    {
      "cell_type": "code",
      "metadata": {
        "id": "pGdrLDT5sU05"
      },
      "source": [
        "from google.colab import drive  #import gogle drive data"
      ],
      "execution_count": 2,
      "outputs": []
    },
    {
      "cell_type": "code",
      "metadata": {
        "id": "8pQmOZgkspai",
        "colab": {
          "base_uri": "https://localhost:8080/"
        },
        "outputId": "36da959b-1274-481c-cc36-f0b453b20591"
      },
      "source": [
        "drive.mount('/content/drive') # mount drive data into colab cloud and enter authentication code"
      ],
      "execution_count": 3,
      "outputs": [
        {
          "output_type": "stream",
          "text": [
            "Drive already mounted at /content/drive; to attempt to forcibly remount, call drive.mount(\"/content/drive\", force_remount=True).\n"
          ],
          "name": "stdout"
        }
      ]
    },
    {
      "cell_type": "code",
      "metadata": {
        "colab": {
          "base_uri": "https://localhost:8080/"
        },
        "id": "MiNMSDTJtNG4",
        "outputId": "ebc045ea-367a-49a5-ba30-14d8eb191f01"
      },
      "source": [
        "cd /content/drive/\"My Drive/Colab Notebooks/Dataset Files\"  "
      ],
      "execution_count": 4,
      "outputs": [
        {
          "output_type": "stream",
          "text": [
            "/content/drive/My Drive/Colab Notebooks/Dataset Files\n"
          ],
          "name": "stdout"
        }
      ]
    },
    {
      "cell_type": "code",
      "metadata": {
        "colab": {
          "base_uri": "https://localhost:8080/"
        },
        "id": "ToJimHbdthWj",
        "outputId": "ad77af75-fe6b-4dab-ce91-57b737bba382"
      },
      "source": [
        "column=['S1','C1','S2','C2','S3','C3','S4','C4','S5','C5','Classes']\n",
        "data_train=pd.read_csv(\"poker_hand_training_true.data\",names=column)\n",
        "print(data_train)\n",
        "data_train.shape"
      ],
      "execution_count": 5,
      "outputs": [
        {
          "output_type": "stream",
          "text": [
            "       S1  C1  S2  C2  S3  C3  S4  C4  S5  C5  Classes\n",
            "0       1  10   1  11   1  13   1  12   1   1        9\n",
            "1       2  11   2  13   2  10   2  12   2   1        9\n",
            "2       3  12   3  11   3  13   3  10   3   1        9\n",
            "3       4  10   4  11   4   1   4  13   4  12        9\n",
            "4       4   1   4  13   4  12   4  11   4  10        9\n",
            "...    ..  ..  ..  ..  ..  ..  ..  ..  ..  ..      ...\n",
            "25005   3   9   2   6   4  11   4  12   2   4        0\n",
            "25006   4   1   4  10   3  13   3   4   1  10        1\n",
            "25007   2   1   2  10   4   4   4   1   4  13        1\n",
            "25008   2  12   4   3   1  10   1  12   4   9        1\n",
            "25009   1   7   3  11   3   3   4   8   3   7        1\n",
            "\n",
            "[25010 rows x 11 columns]\n"
          ],
          "name": "stdout"
        },
        {
          "output_type": "execute_result",
          "data": {
            "text/plain": [
              "(25010, 11)"
            ]
          },
          "metadata": {
            "tags": []
          },
          "execution_count": 5
        }
      ]
    },
    {
      "cell_type": "code",
      "metadata": {
        "id": "XkRi_9uJjUpB"
      },
      "source": [
        "data_train_feature = data_train.drop(['Classes'], axis=1)\n",
        "data_train_target = data_train['Classes']"
      ],
      "execution_count": 6,
      "outputs": []
    },
    {
      "cell_type": "code",
      "metadata": {
        "id": "2RZQTZ05uVp6"
      },
      "source": [
        "x_train,x_test,y_train,y_test = train_test_split(data_train_feature,data_train_target,random_state=0)"
      ],
      "execution_count": 7,
      "outputs": []
    },
    {
      "cell_type": "code",
      "metadata": {
        "colab": {
          "base_uri": "https://localhost:8080/"
        },
        "id": "id8tdmeJlb5L",
        "outputId": "6862bcb6-c40f-4639-b6d8-b61f8c67e8e2"
      },
      "source": [
        "# Applying KNN\n",
        "from sklearn.neighbors import KNeighborsClassifier\n",
        "knn = KNeighborsClassifier(23)\n",
        "knn.fit(x_train,y_train)\n",
        "print(classification_report(y_test, knn.predict(x_test)))"
      ],
      "execution_count": 8,
      "outputs": [
        {
          "output_type": "stream",
          "text": [
            "              precision    recall  f1-score   support\n",
            "\n",
            "           0       0.60      0.77      0.68      3138\n",
            "           1       0.54      0.46      0.49      2623\n",
            "           2       0.50      0.01      0.02       315\n",
            "           3       0.00      0.00      0.00       125\n",
            "           4       0.00      0.00      0.00        28\n",
            "           5       0.00      0.00      0.00        10\n",
            "           6       0.00      0.00      0.00        11\n",
            "           7       0.00      0.00      0.00         1\n",
            "           8       0.00      0.00      0.00         1\n",
            "           9       0.00      0.00      0.00         1\n",
            "\n",
            "    accuracy                           0.58      6253\n",
            "   macro avg       0.16      0.12      0.12      6253\n",
            "weighted avg       0.55      0.58      0.55      6253\n",
            "\n"
          ],
          "name": "stdout"
        },
        {
          "output_type": "stream",
          "text": [
            "/usr/local/lib/python3.7/dist-packages/sklearn/metrics/_classification.py:1272: UndefinedMetricWarning: Precision and F-score are ill-defined and being set to 0.0 in labels with no predicted samples. Use `zero_division` parameter to control this behavior.\n",
            "  _warn_prf(average, modifier, msg_start, len(result))\n"
          ],
          "name": "stderr"
        }
      ]
    },
    {
      "cell_type": "code",
      "metadata": {
        "colab": {
          "base_uri": "https://localhost:8080/"
        },
        "id": "SxkeuZL3n_sj",
        "outputId": "81ba1db1-6015-4dd3-d777-5ca0999d5288"
      },
      "source": [
        "#Apply Decision Tree\n",
        "from sklearn.tree import DecisionTreeClassifier\n",
        "dt_model = DecisionTreeClassifier(max_depth=5).fit(x_train,y_train)\n",
        "#dt_predict = dt_model.predict(data_test_feature)\n",
        "print(classification_report(y_test, knn.predict(x_test)))"
      ],
      "execution_count": 9,
      "outputs": [
        {
          "output_type": "stream",
          "text": [
            "              precision    recall  f1-score   support\n",
            "\n",
            "           0       0.60      0.77      0.68      3138\n",
            "           1       0.54      0.46      0.49      2623\n",
            "           2       0.50      0.01      0.02       315\n",
            "           3       0.00      0.00      0.00       125\n",
            "           4       0.00      0.00      0.00        28\n",
            "           5       0.00      0.00      0.00        10\n",
            "           6       0.00      0.00      0.00        11\n",
            "           7       0.00      0.00      0.00         1\n",
            "           8       0.00      0.00      0.00         1\n",
            "           9       0.00      0.00      0.00         1\n",
            "\n",
            "    accuracy                           0.58      6253\n",
            "   macro avg       0.16      0.12      0.12      6253\n",
            "weighted avg       0.55      0.58      0.55      6253\n",
            "\n"
          ],
          "name": "stdout"
        },
        {
          "output_type": "stream",
          "text": [
            "/usr/local/lib/python3.7/dist-packages/sklearn/metrics/_classification.py:1272: UndefinedMetricWarning: Precision and F-score are ill-defined and being set to 0.0 in labels with no predicted samples. Use `zero_division` parameter to control this behavior.\n",
            "  _warn_prf(average, modifier, msg_start, len(result))\n"
          ],
          "name": "stderr"
        }
      ]
    },
    {
      "cell_type": "code",
      "metadata": {
        "colab": {
          "base_uri": "https://localhost:8080/"
        },
        "id": "G1F6uA9Klb-3",
        "outputId": "57ef191b-ebbd-42fa-831c-46b0efbb5138"
      },
      "source": [
        "# Applying Random Forest\n",
        "from sklearn.ensemble import RandomForestClassifier\n",
        "model = RandomForestClassifier(n_estimators=500,random_state=0)\n",
        "model.fit(x_train,y_train)\n",
        "print(classification_report(y_test, model.predict(x_test)))\n",
        "\n"
      ],
      "execution_count": 10,
      "outputs": [
        {
          "output_type": "stream",
          "text": [
            "              precision    recall  f1-score   support\n",
            "\n",
            "           0       0.64      0.81      0.72      3138\n",
            "           1       0.57      0.49      0.53      2623\n",
            "           2       0.00      0.00      0.00       315\n",
            "           3       0.00      0.00      0.00       125\n",
            "           4       0.00      0.00      0.00        28\n",
            "           5       0.00      0.00      0.00        10\n",
            "           6       0.00      0.00      0.00        11\n",
            "           7       0.00      0.00      0.00         1\n",
            "           8       0.00      0.00      0.00         1\n",
            "           9       0.00      0.00      0.00         1\n",
            "\n",
            "    accuracy                           0.62      6253\n",
            "   macro avg       0.12      0.13      0.12      6253\n",
            "weighted avg       0.56      0.62      0.58      6253\n",
            "\n"
          ],
          "name": "stdout"
        },
        {
          "output_type": "stream",
          "text": [
            "/usr/local/lib/python3.7/dist-packages/sklearn/metrics/_classification.py:1272: UndefinedMetricWarning: Precision and F-score are ill-defined and being set to 0.0 in labels with no predicted samples. Use `zero_division` parameter to control this behavior.\n",
            "  _warn_prf(average, modifier, msg_start, len(result))\n"
          ],
          "name": "stderr"
        }
      ]
    },
    {
      "cell_type": "markdown",
      "metadata": {
        "id": "M3Pp2sOYwPsp"
      },
      "source": [
        "**From the above all models we can see that, Random Forest give best accuracy in training dataset.**"
      ]
    },
    {
      "cell_type": "markdown",
      "metadata": {
        "id": "Gej_vmVcwf81"
      },
      "source": [
        "## **Model Testing**"
      ]
    },
    {
      "cell_type": "code",
      "metadata": {
        "colab": {
          "base_uri": "https://localhost:8080/"
        },
        "id": "X21VmL0y6caJ",
        "outputId": "243f6b7b-432c-4eee-8e5d-4dfb281f8d61"
      },
      "source": [
        "#read Test dataset file\n",
        "column=['S1','C1','S2','C2','S3','C3','S4','C4','S5','C5','Classes']\n",
        "data_test=pd.read_csv(\"poker_hand_testing.data\",names=column)\n",
        "print(data_test)\n",
        "data_test.shape"
      ],
      "execution_count": 11,
      "outputs": [
        {
          "output_type": "stream",
          "text": [
            "        S1  C1  S2  C2  S3  C3  S4  C4  S5  C5  Classes\n",
            "0        1   1   1  13   2   4   2   3   1  12        0\n",
            "1        3  12   3   2   3  11   4   5   2   5        1\n",
            "2        1   9   4   6   1   4   3   2   3   9        1\n",
            "3        1   4   3  13   2  13   2   1   3   6        1\n",
            "4        3  10   2   7   1   2   2  11   4   9        0\n",
            "...     ..  ..  ..  ..  ..  ..  ..  ..  ..  ..      ...\n",
            "999995   3   1   1  12   2   9   4   9   2   6        1\n",
            "999996   3   3   4   5   2   7   1   4   4   3        1\n",
            "999997   1  11   4   7   3   9   1  13   2   7        1\n",
            "999998   3  11   1   8   1   1   3  13   2   8        1\n",
            "999999   2   5   2   9   4   9   2   3   3   3        2\n",
            "\n",
            "[1000000 rows x 11 columns]\n"
          ],
          "name": "stdout"
        },
        {
          "output_type": "execute_result",
          "data": {
            "text/plain": [
              "(1000000, 11)"
            ]
          },
          "metadata": {
            "tags": []
          },
          "execution_count": 11
        }
      ]
    },
    {
      "cell_type": "code",
      "metadata": {
        "id": "-O7gdd6njUwE"
      },
      "source": [
        "data_test_feature = data_test.drop(['Classes'], axis=1)\n",
        "data_test_target = data_test['Classes']"
      ],
      "execution_count": 12,
      "outputs": []
    },
    {
      "cell_type": "code",
      "metadata": {
        "colab": {
          "base_uri": "https://localhost:8080/"
        },
        "id": "jf6ZHvtEsnaO",
        "outputId": "6bbf1088-5017-446d-c766-23f87765cede"
      },
      "source": [
        "model = RandomForestClassifier(n_estimators=500,random_state=0)\n",
        "model.fit(x_train,y_train)\n",
        "\n",
        "# Report of Test dataset\n",
        "print(classification_report(data_test_target, model.predict(data_test_feature)))"
      ],
      "execution_count": 13,
      "outputs": [
        {
          "output_type": "stream",
          "text": [
            "/usr/local/lib/python3.7/dist-packages/sklearn/metrics/_classification.py:1272: UndefinedMetricWarning: Precision and F-score are ill-defined and being set to 0.0 in labels with no predicted samples. Use `zero_division` parameter to control this behavior.\n",
            "  _warn_prf(average, modifier, msg_start, len(result))\n"
          ],
          "name": "stderr"
        },
        {
          "output_type": "stream",
          "text": [
            "              precision    recall  f1-score   support\n",
            "\n",
            "           0       0.64      0.81      0.71    501209\n",
            "           1       0.58      0.49      0.53    422498\n",
            "           2       0.43      0.00      0.00     47622\n",
            "           3       0.54      0.00      0.00     21121\n",
            "           4       0.09      0.00      0.00      3885\n",
            "           5       1.00      0.00      0.00      1996\n",
            "           6       0.00      0.00      0.00      1424\n",
            "           7       0.00      0.00      0.00       230\n",
            "           8       0.00      0.00      0.00        12\n",
            "           9       0.00      0.00      0.00         3\n",
            "\n",
            "    accuracy                           0.62   1000000\n",
            "   macro avg       0.33      0.13      0.13   1000000\n",
            "weighted avg       0.60      0.62      0.58   1000000\n",
            "\n"
          ],
          "name": "stdout"
        }
      ]
    },
    {
      "cell_type": "code",
      "metadata": {
        "id": "GyUAJ91wo0my"
      },
      "source": [
        ""
      ],
      "execution_count": 13,
      "outputs": []
    }
  ]
}