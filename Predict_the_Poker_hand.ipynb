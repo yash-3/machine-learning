{
  "nbformat": 4,
  "nbformat_minor": 0,
  "metadata": {
    "colab": {
      "name": "Predict_the_Poker_hand.ipynb",
      "provenance": [],
      "collapsed_sections": [],
      "authorship_tag": "ABX9TyO2Nt/YqX3cnfZ2JaBvprnB",
      "include_colab_link": true
    },
    "kernelspec": {
      "name": "python3",
      "display_name": "Python 3"
    },
    "language_info": {
      "name": "python"
    }
  },
  "cells": [
    {
      "cell_type": "markdown",
      "metadata": {
        "id": "view-in-github",
        "colab_type": "text"
      },
      "source": [
        "<a href=\"https://colab.research.google.com/github/yash-3/machine-learning/blob/main/Predict_the_Poker_hand.ipynb\" target=\"_parent\"><img src=\"https://colab.research.google.com/assets/colab-badge.svg\" alt=\"Open In Colab\"/></a>"
      ]
    },
    {
      "cell_type": "code",
      "metadata": {
        "id": "Pm64WnPqpLD-"
      },
      "source": [
        "import numpy as np      #To Prform Numerical Operation\n",
        "import matplotlib.pyplot as plt   #plot something \n",
        "import pandas as pd     #To Play With Dataset\n",
        "from sklearn.model_selection import train_test_split\n",
        "from sklearn.metrics import accuracy_score, classification_report, confusion_matrix, auc, roc_curve"
      ],
      "execution_count": 24,
      "outputs": []
    },
    {
      "cell_type": "code",
      "metadata": {
        "id": "pGdrLDT5sU05"
      },
      "source": [
        "from google.colab import drive  #import gogle drive data"
      ],
      "execution_count": 2,
      "outputs": []
    },
    {
      "cell_type": "code",
      "metadata": {
        "id": "8pQmOZgkspai",
        "colab": {
          "base_uri": "https://localhost:8080/"
        },
        "outputId": "e35c0cd7-33b7-44e8-e264-77bd057290a8"
      },
      "source": [
        "drive.mount('/content/drive') # mount drive data into colab cloud and enter authentication code"
      ],
      "execution_count": 3,
      "outputs": [
        {
          "output_type": "stream",
          "text": [
            "Go to this URL in a browser: https://accounts.google.com/o/oauth2/auth?client_id=947318989803-6bn6qk8qdgf4n4g3pfee6491hc0brc4i.apps.googleusercontent.com&redirect_uri=urn%3aietf%3awg%3aoauth%3a2.0%3aoob&scope=email%20https%3a%2f%2fwww.googleapis.com%2fauth%2fdocs.test%20https%3a%2f%2fwww.googleapis.com%2fauth%2fdrive%20https%3a%2f%2fwww.googleapis.com%2fauth%2fdrive.photos.readonly%20https%3a%2f%2fwww.googleapis.com%2fauth%2fpeopleapi.readonly%20https%3a%2f%2fwww.googleapis.com%2fauth%2fdrive.activity.readonly%20https%3a%2f%2fwww.googleapis.com%2fauth%2fexperimentsandconfigs%20https%3a%2f%2fwww.googleapis.com%2fauth%2fphotos.native&response_type=code\n",
            "\n",
            "Enter your authorization code:\n",
            "4/1AY0e-g6B-BFBl1aSRrWa5memZsqOjNmHren3FOuFe0ZcPnMtbmM1GaKgUu0\n",
            "Mounted at /content/drive\n"
          ],
          "name": "stdout"
        }
      ]
    },
    {
      "cell_type": "code",
      "metadata": {
        "colab": {
          "base_uri": "https://localhost:8080/"
        },
        "id": "MiNMSDTJtNG4",
        "outputId": "4e6fcf39-0be8-44dc-e602-44374bc567c8"
      },
      "source": [
        "cd /content/drive/\"My Drive/Colab Notebooks/Dataset Files\"  "
      ],
      "execution_count": 4,
      "outputs": [
        {
          "output_type": "stream",
          "text": [
            "/content/drive/My Drive/Colab Notebooks/Dataset Files\n"
          ],
          "name": "stdout"
        }
      ]
    },
    {
      "cell_type": "code",
      "metadata": {
        "colab": {
          "base_uri": "https://localhost:8080/"
        },
        "id": "ToJimHbdthWj",
        "outputId": "fe2bbb19-295d-4635-8539-023f562e50eb"
      },
      "source": [
        "column=['S1','C1','S2','C2','S3','C3','S4','C4','S5','C5','Classes']\n",
        "data_train=pd.read_csv(\"poker_hand_training_true.data\",names=column)\n",
        "print(data_train)\n",
        "data_train.shape"
      ],
      "execution_count": 25,
      "outputs": [
        {
          "output_type": "stream",
          "text": [
            "       S1  C1  S2  C2  S3  C3  S4  C4  S5  C5  Classes\n",
            "0       1  10   1  11   1  13   1  12   1   1        9\n",
            "1       2  11   2  13   2  10   2  12   2   1        9\n",
            "2       3  12   3  11   3  13   3  10   3   1        9\n",
            "3       4  10   4  11   4   1   4  13   4  12        9\n",
            "4       4   1   4  13   4  12   4  11   4  10        9\n",
            "...    ..  ..  ..  ..  ..  ..  ..  ..  ..  ..      ...\n",
            "25005   3   9   2   6   4  11   4  12   2   4        0\n",
            "25006   4   1   4  10   3  13   3   4   1  10        1\n",
            "25007   2   1   2  10   4   4   4   1   4  13        1\n",
            "25008   2  12   4   3   1  10   1  12   4   9        1\n",
            "25009   1   7   3  11   3   3   4   8   3   7        1\n",
            "\n",
            "[25010 rows x 11 columns]\n"
          ],
          "name": "stdout"
        },
        {
          "output_type": "execute_result",
          "data": {
            "text/plain": [
              "(25010, 11)"
            ]
          },
          "metadata": {
            "tags": []
          },
          "execution_count": 25
        }
      ]
    },
    {
      "cell_type": "code",
      "metadata": {
        "id": "XkRi_9uJjUpB"
      },
      "source": [
        "data_train_feature = data_train.drop(['Classes'], axis=1)\n",
        "data_train_target = data_train['Classes']"
      ],
      "execution_count": 26,
      "outputs": []
    },
    {
      "cell_type": "code",
      "metadata": {
        "id": "2RZQTZ05uVp6"
      },
      "source": [
        "x_train,x_test,y_train,y_test = train_test_split(data_train_feature,data_train_target,random_state=0)"
      ],
      "execution_count": 27,
      "outputs": []
    },
    {
      "cell_type": "code",
      "metadata": {
        "colab": {
          "base_uri": "https://localhost:8080/"
        },
        "id": "id8tdmeJlb5L",
        "outputId": "e0232e28-edfa-4592-9401-9d107e08b6ec"
      },
      "source": [
        "# Applying KNN\n",
        "from sklearn.neighbors import KNeighborsClassifier\n",
        "knn = KNeighborsClassifier(23)\n",
        "knn.fit(x_train,y_train)\n",
        "print(classification_report(y_test, knn.predict(x_test)))"
      ],
      "execution_count": 31,
      "outputs": [
        {
          "output_type": "stream",
          "text": [
            "              precision    recall  f1-score   support\n",
            "\n",
            "           0       0.60      0.77      0.68      3138\n",
            "           1       0.54      0.46      0.49      2623\n",
            "           2       0.50      0.01      0.02       315\n",
            "           3       0.00      0.00      0.00       125\n",
            "           4       0.00      0.00      0.00        28\n",
            "           5       0.00      0.00      0.00        10\n",
            "           6       0.00      0.00      0.00        11\n",
            "           7       0.00      0.00      0.00         1\n",
            "           8       0.00      0.00      0.00         1\n",
            "           9       0.00      0.00      0.00         1\n",
            "\n",
            "    accuracy                           0.58      6253\n",
            "   macro avg       0.16      0.12      0.12      6253\n",
            "weighted avg       0.55      0.58      0.55      6253\n",
            "\n"
          ],
          "name": "stdout"
        },
        {
          "output_type": "stream",
          "text": [
            "/usr/local/lib/python3.7/dist-packages/sklearn/metrics/_classification.py:1272: UndefinedMetricWarning: Precision and F-score are ill-defined and being set to 0.0 in labels with no predicted samples. Use `zero_division` parameter to control this behavior.\n",
            "  _warn_prf(average, modifier, msg_start, len(result))\n"
          ],
          "name": "stderr"
        }
      ]
    },
    {
      "cell_type": "code",
      "metadata": {
        "colab": {
          "base_uri": "https://localhost:8080/"
        },
        "id": "SxkeuZL3n_sj",
        "outputId": "b87d7d9f-68ad-41ff-80f6-7c428443095d"
      },
      "source": [
        "#Apply Decision Tree\n",
        "from sklearn.tree import DecisionTreeClassifier\n",
        "dt_model = DecisionTreeClassifier(max_depth=5).fit(x_train,y_train)\n",
        "#dt_predict = dt_model.predict(data_test_feature)\n",
        "print(classification_report(y_test, knn.predict(x_test)))"
      ],
      "execution_count": 33,
      "outputs": [
        {
          "output_type": "stream",
          "text": [
            "              precision    recall  f1-score   support\n",
            "\n",
            "           0       0.60      0.77      0.68      3138\n",
            "           1       0.54      0.46      0.49      2623\n",
            "           2       0.50      0.01      0.02       315\n",
            "           3       0.00      0.00      0.00       125\n",
            "           4       0.00      0.00      0.00        28\n",
            "           5       0.00      0.00      0.00        10\n",
            "           6       0.00      0.00      0.00        11\n",
            "           7       0.00      0.00      0.00         1\n",
            "           8       0.00      0.00      0.00         1\n",
            "           9       0.00      0.00      0.00         1\n",
            "\n",
            "    accuracy                           0.58      6253\n",
            "   macro avg       0.16      0.12      0.12      6253\n",
            "weighted avg       0.55      0.58      0.55      6253\n",
            "\n"
          ],
          "name": "stdout"
        },
        {
          "output_type": "stream",
          "text": [
            "/usr/local/lib/python3.7/dist-packages/sklearn/metrics/_classification.py:1272: UndefinedMetricWarning: Precision and F-score are ill-defined and being set to 0.0 in labels with no predicted samples. Use `zero_division` parameter to control this behavior.\n",
            "  _warn_prf(average, modifier, msg_start, len(result))\n"
          ],
          "name": "stderr"
        }
      ]
    },
    {
      "cell_type": "code",
      "metadata": {
        "colab": {
          "base_uri": "https://localhost:8080/"
        },
        "id": "G1F6uA9Klb-3",
        "outputId": "1e886cfc-dc61-4618-8d37-1586918e3ea6"
      },
      "source": [
        "# Applying Random Forest\n",
        "from sklearn.ensemble import RandomForestClassifier\n",
        "model = RandomForestClassifier(n_estimators=500,random_state=0)\n",
        "model.fit(x_train,y_train)\n",
        "print(classification_report(y_test, model.predict(x_test)))\n",
        "\n"
      ],
      "execution_count": 39,
      "outputs": [
        {
          "output_type": "stream",
          "text": [
            "              precision    recall  f1-score   support\n",
            "\n",
            "           0       0.64      0.81      0.72      3138\n",
            "           1       0.57      0.49      0.53      2623\n",
            "           2       0.00      0.00      0.00       315\n",
            "           3       0.00      0.00      0.00       125\n",
            "           4       0.00      0.00      0.00        28\n",
            "           5       0.00      0.00      0.00        10\n",
            "           6       0.00      0.00      0.00        11\n",
            "           7       0.00      0.00      0.00         1\n",
            "           8       0.00      0.00      0.00         1\n",
            "           9       0.00      0.00      0.00         1\n",
            "\n",
            "    accuracy                           0.62      6253\n",
            "   macro avg       0.12      0.13      0.12      6253\n",
            "weighted avg       0.56      0.62      0.58      6253\n",
            "\n"
          ],
          "name": "stdout"
        },
        {
          "output_type": "stream",
          "text": [
            "/usr/local/lib/python3.7/dist-packages/sklearn/metrics/_classification.py:1272: UndefinedMetricWarning: Precision and F-score are ill-defined and being set to 0.0 in labels with no predicted samples. Use `zero_division` parameter to control this behavior.\n",
            "  _warn_prf(average, modifier, msg_start, len(result))\n"
          ],
          "name": "stderr"
        }
      ]
    },
    {
      "cell_type": "markdown",
      "metadata": {
        "id": "M3Pp2sOYwPsp"
      },
      "source": [
        "**From the above all models we can see that, Random Forest give best accuracy in training dataset.**"
      ]
    },
    {
      "cell_type": "markdown",
      "metadata": {
        "id": "Gej_vmVcwf81"
      },
      "source": [
        "## **Model Testing**"
      ]
    },
    {
      "cell_type": "code",
      "metadata": {
        "colab": {
          "base_uri": "https://localhost:8080/"
        },
        "id": "X21VmL0y6caJ",
        "outputId": "dae4d57f-017e-4a58-ed25-92da40c361e8"
      },
      "source": [
        "#read Test dataset file\n",
        "column=['S1','C1','S2','C2','S3','C3','S4','C4','S5','C5','Classes']\n",
        "data_test=pd.read_csv(\"poker_hand_testing.data\",names=column)\n",
        "print(data_test)\n",
        "data_test.shape"
      ],
      "execution_count": 40,
      "outputs": [
        {
          "output_type": "stream",
          "text": [
            "        S1  C1  S2  C2  S3  C3  S4  C4  S5  C5  Classes\n",
            "0        1   1   1  13   2   4   2   3   1  12        0\n",
            "1        3  12   3   2   3  11   4   5   2   5        1\n",
            "2        1   9   4   6   1   4   3   2   3   9        1\n",
            "3        1   4   3  13   2  13   2   1   3   6        1\n",
            "4        3  10   2   7   1   2   2  11   4   9        0\n",
            "...     ..  ..  ..  ..  ..  ..  ..  ..  ..  ..      ...\n",
            "999995   3   1   1  12   2   9   4   9   2   6        1\n",
            "999996   3   3   4   5   2   7   1   4   4   3        1\n",
            "999997   1  11   4   7   3   9   1  13   2   7        1\n",
            "999998   3  11   1   8   1   1   3  13   2   8        1\n",
            "999999   2   5   2   9   4   9   2   3   3   3        2\n",
            "\n",
            "[1000000 rows x 11 columns]\n"
          ],
          "name": "stdout"
        },
        {
          "output_type": "execute_result",
          "data": {
            "text/plain": [
              "(1000000, 11)"
            ]
          },
          "metadata": {
            "tags": []
          },
          "execution_count": 40
        }
      ]
    },
    {
      "cell_type": "code",
      "metadata": {
        "id": "-O7gdd6njUwE"
      },
      "source": [
        "data_test_feature = data_test.drop(['Classes'], axis=1)\n",
        "data_test_target = data_test['Classes']"
      ],
      "execution_count": 41,
      "outputs": []
    },
    {
      "cell_type": "code",
      "metadata": {
        "colab": {
          "base_uri": "https://localhost:8080/"
        },
        "id": "jf6ZHvtEsnaO",
        "outputId": "628f5802-5362-4a8e-a78e-01db063427e5"
      },
      "source": [
        "model = RandomForestClassifier(n_estimators=500,random_state=0)\n",
        "model.fit(x_train,y_train)\n",
        "\n",
        "# Report of Test dataset\n",
        "print(classification_report(data_test_target, model.predict(data_test_feature)))"
      ],
      "execution_count": 45,
      "outputs": [
        {
          "output_type": "stream",
          "text": [
            "/usr/local/lib/python3.7/dist-packages/sklearn/metrics/_classification.py:1272: UndefinedMetricWarning: Precision and F-score are ill-defined and being set to 0.0 in labels with no predicted samples. Use `zero_division` parameter to control this behavior.\n",
            "  _warn_prf(average, modifier, msg_start, len(result))\n"
          ],
          "name": "stderr"
        },
        {
          "output_type": "stream",
          "text": [
            "              precision    recall  f1-score   support\n",
            "\n",
            "           0       0.64      0.81      0.71    501209\n",
            "           1       0.58      0.49      0.53    422498\n",
            "           2       0.43      0.00      0.00     47622\n",
            "           3       0.54      0.00      0.00     21121\n",
            "           4       0.09      0.00      0.00      3885\n",
            "           5       1.00      0.00      0.00      1996\n",
            "           6       0.00      0.00      0.00      1424\n",
            "           7       0.00      0.00      0.00       230\n",
            "           8       0.00      0.00      0.00        12\n",
            "           9       0.00      0.00      0.00         3\n",
            "\n",
            "    accuracy                           0.62   1000000\n",
            "   macro avg       0.33      0.13      0.13   1000000\n",
            "weighted avg       0.60      0.62      0.58   1000000\n",
            "\n"
          ],
          "name": "stdout"
        }
      ]
    },
    {
      "cell_type": "code",
      "metadata": {
        "id": "GyUAJ91wo0my"
      },
      "source": [
        ""
      ],
      "execution_count": null,
      "outputs": []
    }
  ]
}